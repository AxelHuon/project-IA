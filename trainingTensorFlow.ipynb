{
 "cells": [
  {
   "cell_type": "code",
   "execution_count": null,
   "id": "initial_id",
   "metadata": {
    "collapsed": true,
    "is_executing": true
   },
   "outputs": [],
   "source": [
    "import numpy as np\n",
    "import tensorflow as tf\n",
    "from tensorflow.keras.models import Sequential\n",
    "from tensorflow.keras.layers import Dense\n",
    "from sklearn.model_selection import train_test_split\n",
    "import pickle"
   ]
  },
  {
   "cell_type": "code",
   "outputs": [],
   "source": [
    "X = np.load('X_tfidf.npy')\n",
    "y = np.load('y.npy')"
   ],
   "metadata": {
    "collapsed": false,
    "is_executing": true
   },
   "id": "287317ba475cc628",
   "execution_count": null
  },
  {
   "cell_type": "code",
   "outputs": [],
   "source": [
    "X_train, X_test, y_train, y_test = train_test_split(X, y, test_size=0.2, random_state=42)"
   ],
   "metadata": {
    "collapsed": false,
    "ExecuteTime": {
     "end_time": "2024-02-29T10:46:18.968850Z",
     "start_time": "2024-02-29T10:46:18.912131Z"
    }
   },
   "id": "e96ede46d1371922",
   "execution_count": 29
  },
  {
   "cell_type": "code",
   "outputs": [],
   "source": [
    "model = Sequential([\n",
    "    Dense(64, activation='relu', input_shape=(X_train.shape[1],)),\n",
    "    Dense(64, activation='relu'),\n",
    "    Dense(1)\n",
    "])"
   ],
   "metadata": {
    "collapsed": false,
    "ExecuteTime": {
     "end_time": "2024-02-29T10:46:23.998474Z",
     "start_time": "2024-02-29T10:46:23.956262Z"
    }
   },
   "id": "37e6b410727ff37c",
   "execution_count": 30
  },
  {
   "cell_type": "code",
   "outputs": [],
   "source": [
    "model.compile(optimizer='adam',\n",
    "              loss='mean_squared_error',  # Utilisation de MSE car il s'agit d'un problème de régression\n",
    "              metrics=['mean_absolute_error'])"
   ],
   "metadata": {
    "collapsed": false,
    "ExecuteTime": {
     "end_time": "2024-02-29T10:46:29.380785Z",
     "start_time": "2024-02-29T10:46:29.373437Z"
    }
   },
   "id": "b9008e5ae975fc33",
   "execution_count": 31
  },
  {
   "cell_type": "code",
   "outputs": [
    {
     "name": "stdout",
     "output_type": "stream",
     "text": [
      "Epoch 1/20\n",
      "25/25 [==============================] - 0s 9ms/step - loss: 14.6197 - mean_absolute_error: 3.6258 - val_loss: 9.1229 - val_mean_absolute_error: 2.8008\n",
      "Epoch 2/20\n",
      "25/25 [==============================] - 0s 3ms/step - loss: 4.0532 - mean_absolute_error: 1.7027 - val_loss: 2.4699 - val_mean_absolute_error: 1.2083\n",
      "Epoch 3/20\n",
      "25/25 [==============================] - 0s 3ms/step - loss: 1.9124 - mean_absolute_error: 1.1014 - val_loss: 1.7116 - val_mean_absolute_error: 1.0946\n",
      "Epoch 4/20\n",
      "25/25 [==============================] - 0s 3ms/step - loss: 1.3954 - mean_absolute_error: 0.9552 - val_loss: 1.3013 - val_mean_absolute_error: 0.9239\n",
      "Epoch 5/20\n",
      "25/25 [==============================] - 0s 2ms/step - loss: 1.0599 - mean_absolute_error: 0.8218 - val_loss: 1.0270 - val_mean_absolute_error: 0.8124\n",
      "Epoch 6/20\n",
      "25/25 [==============================] - 0s 2ms/step - loss: 0.8415 - mean_absolute_error: 0.7239 - val_loss: 0.8660 - val_mean_absolute_error: 0.7372\n",
      "Epoch 7/20\n",
      "25/25 [==============================] - 0s 2ms/step - loss: 0.7285 - mean_absolute_error: 0.6706 - val_loss: 0.8009 - val_mean_absolute_error: 0.7039\n",
      "Epoch 8/20\n",
      "25/25 [==============================] - 0s 2ms/step - loss: 0.6665 - mean_absolute_error: 0.6412 - val_loss: 0.7635 - val_mean_absolute_error: 0.6866\n",
      "Epoch 9/20\n",
      "25/25 [==============================] - 0s 2ms/step - loss: 0.6198 - mean_absolute_error: 0.6183 - val_loss: 0.7376 - val_mean_absolute_error: 0.6757\n",
      "Epoch 10/20\n",
      "25/25 [==============================] - 0s 2ms/step - loss: 0.5812 - mean_absolute_error: 0.5974 - val_loss: 0.7193 - val_mean_absolute_error: 0.6662\n",
      "Epoch 11/20\n",
      "25/25 [==============================] - 0s 2ms/step - loss: 0.5509 - mean_absolute_error: 0.5806 - val_loss: 0.7082 - val_mean_absolute_error: 0.6642\n",
      "Epoch 12/20\n",
      "25/25 [==============================] - 0s 2ms/step - loss: 0.5249 - mean_absolute_error: 0.5673 - val_loss: 0.6934 - val_mean_absolute_error: 0.6543\n",
      "Epoch 13/20\n",
      "25/25 [==============================] - 0s 2ms/step - loss: 0.5018 - mean_absolute_error: 0.5533 - val_loss: 0.6879 - val_mean_absolute_error: 0.6544\n",
      "Epoch 14/20\n",
      "25/25 [==============================] - 0s 2ms/step - loss: 0.4850 - mean_absolute_error: 0.5445 - val_loss: 0.6764 - val_mean_absolute_error: 0.6463\n",
      "Epoch 15/20\n",
      "25/25 [==============================] - 0s 3ms/step - loss: 0.4684 - mean_absolute_error: 0.5332 - val_loss: 0.6710 - val_mean_absolute_error: 0.6437\n",
      "Epoch 16/20\n",
      "25/25 [==============================] - 0s 2ms/step - loss: 0.4524 - mean_absolute_error: 0.5246 - val_loss: 0.6697 - val_mean_absolute_error: 0.6448\n",
      "Epoch 17/20\n",
      "25/25 [==============================] - 0s 2ms/step - loss: 0.4387 - mean_absolute_error: 0.5150 - val_loss: 0.6676 - val_mean_absolute_error: 0.6434\n",
      "Epoch 18/20\n",
      "25/25 [==============================] - 0s 2ms/step - loss: 0.4252 - mean_absolute_error: 0.5073 - val_loss: 0.6640 - val_mean_absolute_error: 0.6377\n",
      "Epoch 19/20\n",
      "25/25 [==============================] - 0s 2ms/step - loss: 0.4137 - mean_absolute_error: 0.5003 - val_loss: 0.6657 - val_mean_absolute_error: 0.6425\n",
      "Epoch 20/20\n",
      "25/25 [==============================] - 0s 2ms/step - loss: 0.4019 - mean_absolute_error: 0.4925 - val_loss: 0.6593 - val_mean_absolute_error: 0.6353\n"
     ]
    }
   ],
   "source": [
    "history = model.fit(X_train, y_train, epochs=20, batch_size=256, validation_split=0.2)"
   ],
   "metadata": {
    "collapsed": false,
    "ExecuteTime": {
     "end_time": "2024-02-29T10:46:35.555715Z",
     "start_time": "2024-02-29T10:46:33.982086Z"
    }
   },
   "id": "ccd5cb894e0f742f",
   "execution_count": 32
  },
  {
   "cell_type": "code",
   "outputs": [],
   "source": [
    "test_loss, test_acc = model.evaluate(X_test, y_test)"
   ],
   "metadata": {
    "collapsed": false,
    "is_executing": true
   },
   "id": "6df80a430bcfd615",
   "execution_count": null
  }
 ],
 "metadata": {
  "kernelspec": {
   "name": "python3",
   "language": "python",
   "display_name": "Python 3 (ipykernel)"
  },
  "language_info": {
   "codemirror_mode": {
    "name": "ipython",
    "version": 2
   },
   "file_extension": ".py",
   "mimetype": "text/x-python",
   "name": "python",
   "nbconvert_exporter": "python",
   "pygments_lexer": "ipython2",
   "version": "2.7.6"
  }
 },
 "nbformat": 4,
 "nbformat_minor": 5
}
