{
 "cells": [
  {
   "cell_type": "code",
   "execution_count": 123,
   "id": "initial_id",
   "metadata": {
    "collapsed": true,
    "ExecuteTime": {
     "end_time": "2024-03-01T09:04:54.544886Z",
     "start_time": "2024-03-01T09:04:54.536615Z"
    }
   },
   "outputs": [],
   "source": [
    "from langdetect import detect, LangDetectException\n",
    "import matplotlib.pyplot as plt\n",
    "import pandas as pd\n",
    "import re\n",
    "import joblib\n",
    "import nltk\n",
    "from nltk.corpus import stopwords\n",
    "from sklearn.ensemble import RandomForestClassifier\n",
    "from sklearn.model_selection import train_test_split, GridSearchCV\n",
    "from sklearn.feature_extraction.text import TfidfVectorizer\n",
    "import numpy as np\n",
    "from sklearn.metrics import classification_report, confusion_matrix\n",
    "from tensorflow.keras.preprocessing.text import Tokenizer\n",
    "from tensorflow.keras.preprocessing.sequence import pad_sequences"
   ]
  },
  {
   "cell_type": "code",
   "execution_count": 124,
   "id": "28d367eda5183285",
   "metadata": {
    "collapsed": false,
    "ExecuteTime": {
     "end_time": "2024-03-01T09:04:56.193397Z",
     "start_time": "2024-03-01T09:04:54.828434Z"
    }
   },
   "outputs": [],
   "source": [
    "df = pd.read_csv(\"Datafiniti_Hotel_Reviews_Jun19.csv\", sep=',')"
   ]
  },
  {
   "cell_type": "code",
   "execution_count": 125,
   "id": "c27725768065dd19",
   "metadata": {
    "collapsed": false,
    "ExecuteTime": {
     "end_time": "2024-03-01T09:04:56.211890Z",
     "start_time": "2024-03-01T09:04:56.197588Z"
    }
   },
   "outputs": [
    {
     "data": {
      "text/plain": "      reviews.rating                                       reviews.text  \\\n0                  3  This hotel was nice and quiet. Did not know, t...   \n1                  4  We stayed in the king suite with the separatio...   \n2                  3  Parking was horrible, somebody ran into my ren...   \n3                  5  Not cheap but excellent location. Price is som...   \n4                  2  If you get the room that they advertised on th...   \n...              ...                                                ...   \n9995               4  My friends and I took a trip to Hampton for th...   \n9996               5  from check in to departure, staff is friendly,...   \n9997               5  This Hampton is located on a quiet street acro...   \n9998               5  Awesome wings (my favorite was garlic parmesan...   \n9999               4  Clean facility just off freeway ..... staff fr...   \n\n                                          reviews.title  \n0                               Best Western Plus Hotel  \n1     Clean rooms at solid rates in the heart of Carmel  \n2                                              Business  \n3                                             Very good  \n4                          Low chance to come back here  \n...                                                 ...  \n9995             Very accommodating and friendly staff!  \n9996         comfortable, friendly, clean, professional  \n9997                                     Great location  \n9998                                  Great Atmosphere!  \n9999                           Health care appointments  \n\n[10000 rows x 3 columns]",
      "text/html": "<div>\n<style scoped>\n    .dataframe tbody tr th:only-of-type {\n        vertical-align: middle;\n    }\n\n    .dataframe tbody tr th {\n        vertical-align: top;\n    }\n\n    .dataframe thead th {\n        text-align: right;\n    }\n</style>\n<table border=\"1\" class=\"dataframe\">\n  <thead>\n    <tr style=\"text-align: right;\">\n      <th></th>\n      <th>reviews.rating</th>\n      <th>reviews.text</th>\n      <th>reviews.title</th>\n    </tr>\n  </thead>\n  <tbody>\n    <tr>\n      <th>0</th>\n      <td>3</td>\n      <td>This hotel was nice and quiet. Did not know, t...</td>\n      <td>Best Western Plus Hotel</td>\n    </tr>\n    <tr>\n      <th>1</th>\n      <td>4</td>\n      <td>We stayed in the king suite with the separatio...</td>\n      <td>Clean rooms at solid rates in the heart of Carmel</td>\n    </tr>\n    <tr>\n      <th>2</th>\n      <td>3</td>\n      <td>Parking was horrible, somebody ran into my ren...</td>\n      <td>Business</td>\n    </tr>\n    <tr>\n      <th>3</th>\n      <td>5</td>\n      <td>Not cheap but excellent location. Price is som...</td>\n      <td>Very good</td>\n    </tr>\n    <tr>\n      <th>4</th>\n      <td>2</td>\n      <td>If you get the room that they advertised on th...</td>\n      <td>Low chance to come back here</td>\n    </tr>\n    <tr>\n      <th>...</th>\n      <td>...</td>\n      <td>...</td>\n      <td>...</td>\n    </tr>\n    <tr>\n      <th>9995</th>\n      <td>4</td>\n      <td>My friends and I took a trip to Hampton for th...</td>\n      <td>Very accommodating and friendly staff!</td>\n    </tr>\n    <tr>\n      <th>9996</th>\n      <td>5</td>\n      <td>from check in to departure, staff is friendly,...</td>\n      <td>comfortable, friendly, clean, professional</td>\n    </tr>\n    <tr>\n      <th>9997</th>\n      <td>5</td>\n      <td>This Hampton is located on a quiet street acro...</td>\n      <td>Great location</td>\n    </tr>\n    <tr>\n      <th>9998</th>\n      <td>5</td>\n      <td>Awesome wings (my favorite was garlic parmesan...</td>\n      <td>Great Atmosphere!</td>\n    </tr>\n    <tr>\n      <th>9999</th>\n      <td>4</td>\n      <td>Clean facility just off freeway ..... staff fr...</td>\n      <td>Health care appointments</td>\n    </tr>\n  </tbody>\n</table>\n<p>10000 rows × 3 columns</p>\n</div>"
     },
     "execution_count": 125,
     "metadata": {},
     "output_type": "execute_result"
    }
   ],
   "source": [
    "df = df.loc[:, ['reviews.rating', 'reviews.text', 'reviews.title']]\n",
    "df"
   ]
  },
  {
   "cell_type": "code",
   "execution_count": 126,
   "id": "2cc6df0a30bc4bf5",
   "metadata": {
    "collapsed": false,
    "ExecuteTime": {
     "end_time": "2024-03-01T09:04:56.218636Z",
     "start_time": "2024-03-01T09:04:56.212912Z"
    }
   },
   "outputs": [],
   "source": [
    "df = df.astype({'reviews.rating': 'int', 'reviews.title': 'str', 'reviews.text': 'str'})"
   ]
  },
  {
   "cell_type": "code",
   "execution_count": 127,
   "id": "86d511e3b718bdaa",
   "metadata": {
    "collapsed": false,
    "ExecuteTime": {
     "end_time": "2024-03-01T09:04:56.272495Z",
     "start_time": "2024-03-01T09:04:56.220433Z"
    }
   },
   "outputs": [],
   "source": [
    "df.loc[:, 'reviews.text'] = df.apply(lambda row: str(row['reviews.title']) + \". \" + str(row['reviews.text']), axis=1)\n",
    "if \"reviews.title\" in df.columns:\n",
    "    df = df.drop(\"reviews.title\", axis=1)"
   ]
  },
  {
   "cell_type": "code",
   "execution_count": 128,
   "id": "25f4d522fc999eca",
   "metadata": {
    "collapsed": false,
    "ExecuteTime": {
     "end_time": "2024-03-01T09:04:56.280034Z",
     "start_time": "2024-03-01T09:04:56.274109Z"
    }
   },
   "outputs": [
    {
     "data": {
      "text/plain": "      reviews.rating                                       reviews.text\n0                  3  Best Western Plus Hotel. This hotel was nice a...\n1                  4  Clean rooms at solid rates in the heart of Car...\n2                  3  Business. Parking was horrible, somebody ran i...\n3                  5  Very good. Not cheap but excellent location. P...\n4                  2  Low chance to come back here. If you get the r...\n...              ...                                                ...\n9995               4  Very accommodating and friendly staff!. My fri...\n9996               5  comfortable, friendly, clean, professional. fr...\n9997               5  Great location. This Hampton is located on a q...\n9998               5  Great Atmosphere!. Awesome wings (my favorite ...\n9999               4  Health care appointments. Clean facility just ...\n\n[10000 rows x 2 columns]",
      "text/html": "<div>\n<style scoped>\n    .dataframe tbody tr th:only-of-type {\n        vertical-align: middle;\n    }\n\n    .dataframe tbody tr th {\n        vertical-align: top;\n    }\n\n    .dataframe thead th {\n        text-align: right;\n    }\n</style>\n<table border=\"1\" class=\"dataframe\">\n  <thead>\n    <tr style=\"text-align: right;\">\n      <th></th>\n      <th>reviews.rating</th>\n      <th>reviews.text</th>\n    </tr>\n  </thead>\n  <tbody>\n    <tr>\n      <th>0</th>\n      <td>3</td>\n      <td>Best Western Plus Hotel. This hotel was nice a...</td>\n    </tr>\n    <tr>\n      <th>1</th>\n      <td>4</td>\n      <td>Clean rooms at solid rates in the heart of Car...</td>\n    </tr>\n    <tr>\n      <th>2</th>\n      <td>3</td>\n      <td>Business. Parking was horrible, somebody ran i...</td>\n    </tr>\n    <tr>\n      <th>3</th>\n      <td>5</td>\n      <td>Very good. Not cheap but excellent location. P...</td>\n    </tr>\n    <tr>\n      <th>4</th>\n      <td>2</td>\n      <td>Low chance to come back here. If you get the r...</td>\n    </tr>\n    <tr>\n      <th>...</th>\n      <td>...</td>\n      <td>...</td>\n    </tr>\n    <tr>\n      <th>9995</th>\n      <td>4</td>\n      <td>Very accommodating and friendly staff!. My fri...</td>\n    </tr>\n    <tr>\n      <th>9996</th>\n      <td>5</td>\n      <td>comfortable, friendly, clean, professional. fr...</td>\n    </tr>\n    <tr>\n      <th>9997</th>\n      <td>5</td>\n      <td>Great location. This Hampton is located on a q...</td>\n    </tr>\n    <tr>\n      <th>9998</th>\n      <td>5</td>\n      <td>Great Atmosphere!. Awesome wings (my favorite ...</td>\n    </tr>\n    <tr>\n      <th>9999</th>\n      <td>4</td>\n      <td>Health care appointments. Clean facility just ...</td>\n    </tr>\n  </tbody>\n</table>\n<p>10000 rows × 2 columns</p>\n</div>"
     },
     "execution_count": 128,
     "metadata": {},
     "output_type": "execute_result"
    }
   ],
   "source": [
    "df"
   ]
  },
  {
   "cell_type": "markdown",
   "source": [],
   "metadata": {
    "collapsed": false
   },
   "id": "35a96bd763b75ac7"
  },
  {
   "cell_type": "code",
   "execution_count": 129,
   "id": "15fbcc21c39bc3f1",
   "metadata": {
    "collapsed": false,
    "ExecuteTime": {
     "end_time": "2024-03-01T09:04:56.336266Z",
     "start_time": "2024-03-01T09:04:56.281645Z"
    }
   },
   "outputs": [],
   "source": [
    "df = df.dropna(subset=['reviews.rating'])\n",
    "df = df.dropna(subset=['reviews.text'])\n",
    "df = df.drop_duplicates()"
   ]
  },
  {
   "cell_type": "code",
   "execution_count": 130,
   "id": "9be8dbb87d39dfc4",
   "metadata": {
    "collapsed": false,
    "ExecuteTime": {
     "end_time": "2024-03-01T09:04:56.496690Z",
     "start_time": "2024-03-01T09:04:56.337607Z"
    }
   },
   "outputs": [],
   "source": [
    "df['reviews.text'] = df['reviews.text'].str.replace('[^a-zA-Z0-9 @]', '', regex=True)\n",
    "df = df.dropna(subset=['reviews.text'])\n",
    "df = df[df['reviews.text'] != '']"
   ]
  },
  {
   "cell_type": "code",
   "execution_count": 131,
   "id": "e51c74e6f25668f1",
   "metadata": {
    "collapsed": false,
    "ExecuteTime": {
     "end_time": "2024-03-01T09:05:21.772002Z",
     "start_time": "2024-03-01T09:04:56.500393Z"
    }
   },
   "outputs": [
    {
     "data": {
      "text/plain": "      reviews.rating                                       reviews.text  \\\n0                  3  Best Western Plus Hotel This hotel was nice an...   \n1                  4  Clean rooms at solid rates in the heart of Car...   \n2                  3  Business Parking was horrible somebody ran int...   \n3                  5  Very good Not cheap but excellent location Pri...   \n4                  2  Low chance to come back here If you get the ro...   \n...              ...                                                ...   \n9995               4  Very accommodating and friendly staff My frien...   \n9996               5  comfortable friendly clean professional from c...   \n9997               5  Great location This Hampton is located on a qu...   \n9998               5  Great Atmosphere Awesome wings my favorite was...   \n9999               4  Health care appointments Clean facility just o...   \n\n     language  \n0          en  \n1          en  \n2          en  \n3          en  \n4          en  \n...       ...  \n9995       en  \n9996       en  \n9997       en  \n9998       en  \n9999       en  \n\n[9787 rows x 3 columns]",
      "text/html": "<div>\n<style scoped>\n    .dataframe tbody tr th:only-of-type {\n        vertical-align: middle;\n    }\n\n    .dataframe tbody tr th {\n        vertical-align: top;\n    }\n\n    .dataframe thead th {\n        text-align: right;\n    }\n</style>\n<table border=\"1\" class=\"dataframe\">\n  <thead>\n    <tr style=\"text-align: right;\">\n      <th></th>\n      <th>reviews.rating</th>\n      <th>reviews.text</th>\n      <th>language</th>\n    </tr>\n  </thead>\n  <tbody>\n    <tr>\n      <th>0</th>\n      <td>3</td>\n      <td>Best Western Plus Hotel This hotel was nice an...</td>\n      <td>en</td>\n    </tr>\n    <tr>\n      <th>1</th>\n      <td>4</td>\n      <td>Clean rooms at solid rates in the heart of Car...</td>\n      <td>en</td>\n    </tr>\n    <tr>\n      <th>2</th>\n      <td>3</td>\n      <td>Business Parking was horrible somebody ran int...</td>\n      <td>en</td>\n    </tr>\n    <tr>\n      <th>3</th>\n      <td>5</td>\n      <td>Very good Not cheap but excellent location Pri...</td>\n      <td>en</td>\n    </tr>\n    <tr>\n      <th>4</th>\n      <td>2</td>\n      <td>Low chance to come back here If you get the ro...</td>\n      <td>en</td>\n    </tr>\n    <tr>\n      <th>...</th>\n      <td>...</td>\n      <td>...</td>\n      <td>...</td>\n    </tr>\n    <tr>\n      <th>9995</th>\n      <td>4</td>\n      <td>Very accommodating and friendly staff My frien...</td>\n      <td>en</td>\n    </tr>\n    <tr>\n      <th>9996</th>\n      <td>5</td>\n      <td>comfortable friendly clean professional from c...</td>\n      <td>en</td>\n    </tr>\n    <tr>\n      <th>9997</th>\n      <td>5</td>\n      <td>Great location This Hampton is located on a qu...</td>\n      <td>en</td>\n    </tr>\n    <tr>\n      <th>9998</th>\n      <td>5</td>\n      <td>Great Atmosphere Awesome wings my favorite was...</td>\n      <td>en</td>\n    </tr>\n    <tr>\n      <th>9999</th>\n      <td>4</td>\n      <td>Health care appointments Clean facility just o...</td>\n      <td>en</td>\n    </tr>\n  </tbody>\n</table>\n<p>9787 rows × 3 columns</p>\n</div>"
     },
     "execution_count": 131,
     "metadata": {},
     "output_type": "execute_result"
    }
   ],
   "source": [
    "def detect_language(text):\n",
    "    try:\n",
    "        return detect(text)\n",
    "    except LangDetectException:\n",
    "        return 'Unknown'\n",
    "    \n",
    "df['language'] = df['reviews.text'].apply(detect_language)\n",
    "df"
   ]
  },
  {
   "cell_type": "code",
   "execution_count": 132,
   "id": "75fc0353c159d03c",
   "metadata": {
    "collapsed": false,
    "ExecuteTime": {
     "end_time": "2024-03-01T09:05:21.778520Z",
     "start_time": "2024-03-01T09:05:21.773785Z"
    }
   },
   "outputs": [],
   "source": [
    "df = df.loc[df['language'] == 'en']"
   ]
  },
  {
   "cell_type": "code",
   "execution_count": 133,
   "id": "38ef525036322f59",
   "metadata": {
    "collapsed": false,
    "ExecuteTime": {
     "end_time": "2024-03-01T09:05:21.924035Z",
     "start_time": "2024-03-01T09:05:21.789053Z"
    }
   },
   "outputs": [
    {
     "data": {
      "text/plain": "<Figure size 640x480 with 1 Axes>",
      "image/png": "[encoded data removed]"
     },
     "metadata": {},
     "output_type": "display_data"
    }
   ],
   "source": [
    "rating_counts = df['reviews.rating'].value_counts().sort_index()\n",
    "all_ratings = pd.Series(index=range(1, 6), data=0)  # Initialiser les notes de 1 à 5 à 0\n",
    "rating_counts = all_ratings.add(rating_counts, fill_value=0).astype(int)  # Ajouter les comptes existants\n",
    "rating_counts.plot(kind='bar')\n",
    "plt.title('Distribution des notes (reviews.rating)')\n",
    "plt.xlabel('Note')\n",
    "plt.ylabel('Nombre d\\'occurrences')\n",
    "plt.show()"
   ]
  },
  {
   "cell_type": "code",
   "execution_count": 134,
   "id": "9087155abb31d756",
   "metadata": {
    "collapsed": false,
    "ExecuteTime": {
     "end_time": "2024-03-01T09:05:21.933622Z",
     "start_time": "2024-03-01T09:05:21.926588Z"
    }
   },
   "outputs": [],
   "source": [
    "def remove_stopwords(text):\n",
    "    en_stopwords = stopwords.words('english')  # Use English stop words\n",
    "    text = [word for word in text.split() if word not in en_stopwords]\n",
    "    return \" \".join(text)  # Join back into a string"
   ]
  },
  {
   "cell_type": "code",
   "execution_count": 135,
   "id": "56557fe90e0653ee",
   "metadata": {
    "collapsed": false,
    "ExecuteTime": {
     "end_time": "2024-03-01T09:05:21.950863Z",
     "start_time": "2024-03-01T09:05:21.940225Z"
    }
   },
   "outputs": [],
   "source": [
    "import string\n",
    "\n",
    "def clean_text(text):\n",
    "    text = text.lower()\n",
    "    text = \"\".join([char for char in text if char not in string.punctuation])\n",
    "    text = remove_stopwords(text)\n",
    "    return text"
   ]
  },
  {
   "cell_type": "code",
   "execution_count": 136,
   "id": "b4dc1c35d0d3c98d",
   "metadata": {
    "collapsed": false,
    "ExecuteTime": {
     "end_time": "2024-03-01T09:05:23.798447Z",
     "start_time": "2024-03-01T09:05:21.953367Z"
    }
   },
   "outputs": [],
   "source": [
    "tfidf_vectorizer = TfidfVectorizer(max_features=3000)\n",
    "X_tfidf = tfidf_vectorizer.fit_transform(df['reviews.text']).toarray()"
   ]
  },
  {
   "cell_type": "code",
   "execution_count": 137,
   "id": "d315fb839190857a",
   "metadata": {
    "collapsed": false,
    "ExecuteTime": {
     "end_time": "2024-03-01T09:05:24.344601Z",
     "start_time": "2024-03-01T09:05:23.801566Z"
    }
   },
   "outputs": [],
   "source": [
    "y = df['reviews.rating'].values\n",
    "np.save('X_tfidf.npy', X_tfidf)\n",
    "np.save('y.npy', y)"
   ]
  },
  {
   "cell_type": "code",
   "execution_count": 138,
   "id": "046d9210",
   "metadata": {
    "ExecuteTime": {
     "end_time": "2024-03-01T09:05:27.318974Z",
     "start_time": "2024-03-01T09:05:24.345997Z"
    }
   },
   "outputs": [],
   "source": [
    "from nltk import WordNetLemmatizer\n",
    "#nltk.download('wordnet')\n",
    "\n",
    "def preprocess_text(text):\n",
    "    text = re.sub(r'https?://\\S+|www\\.\\S+', '', text)\n",
    "    text = re.sub(r'<.*?>', '', text)\n",
    "    text = text.encode('ascii', 'ignore').decode('utf-8', 'ignore')\n",
    "    lemmatizer = WordNetLemmatizer()\n",
    "    text = ' '.join([lemmatizer.lemmatize(word) for word in text.split()])\n",
    "    return text\n",
    "\n",
    "df.loc[:, 'reviews.text'] = df['reviews.text'].apply(preprocess_text)"
   ]
  },
  {
   "cell_type": "code",
   "execution_count": 139,
   "id": "019af192",
   "metadata": {
    "ExecuteTime": {
     "end_time": "2024-03-01T09:05:28.349930Z",
     "start_time": "2024-03-01T09:05:27.320402Z"
    }
   },
   "outputs": [],
   "source": [
    "tokenizer = Tokenizer(num_words=10000, oov_token=\"<OOV>\")\n",
    "tokenizer.fit_on_texts(df['reviews.text'])\n",
    "sequences = tokenizer.texts_to_sequences(df['reviews.text'])\n",
    "padded_sequences = pad_sequences(sequences, padding='post', maxlen=120)"
   ]
  },
  {
   "cell_type": "markdown",
   "source": [
    "### Model TensorFlow"
   ],
   "metadata": {
    "collapsed": false
   },
   "id": "5025ba6e6db794d5"
  },
  {
   "cell_type": "code",
   "execution_count": 140,
   "id": "98b1f5c27c65fe1e",
   "metadata": {
    "collapsed": false,
    "ExecuteTime": {
     "end_time": "2024-03-01T09:05:28.354256Z",
     "start_time": "2024-03-01T09:05:28.351054Z"
    }
   },
   "outputs": [],
   "source": [
    "from tensorflow.keras.models import Sequential\n",
    "from tensorflow.keras.layers import Dense, Dropout\n",
    "from sklearn.model_selection import train_test_split\n",
    "from tensorflow.keras.callbacks import EarlyStopping\n",
    "from tensorflow.keras.regularizers import l2"
   ]
  },
  {
   "cell_type": "code",
   "execution_count": 141,
   "id": "e8ec8064095bfa0b",
   "metadata": {
    "collapsed": false,
    "ExecuteTime": {
     "end_time": "2024-03-01T09:05:28.635766Z",
     "start_time": "2024-03-01T09:05:28.354973Z"
    }
   },
   "outputs": [],
   "source": [
    "X = np.load('X_tfidf.npy')\n",
    "y = np.load('y.npy')\n",
    "\n",
    "X_train, X_test, y_train, y_test = train_test_split(X, y, test_size=0.2, random_state=42)"
   ]
  },
  {
   "cell_type": "code",
   "execution_count": 142,
   "id": "c7133fec65da96c1",
   "metadata": {
    "collapsed": false,
    "ExecuteTime": {
     "end_time": "2024-03-01T09:05:28.844884Z",
     "start_time": "2024-03-01T09:05:28.637163Z"
    }
   },
   "outputs": [],
   "source": [
    "regularizer = l2(0.001)\n",
    "model = Sequential([\n",
    "    Dense(512, activation='relu', input_shape=(X_train.shape[1],), kernel_regularizer=regularizer),\n",
    "    Dropout(0.5),\n",
    "    Dense(256, activation='relu', kernel_regularizer=regularizer),\n",
    "    Dropout(0.5),\n",
    "    Dense(5, activation='softmax', kernel_regularizer=regularizer)\n",
    "])\n",
    "\n",
    "model.compile(optimizer='adam',\n",
    "              loss='sparse_categorical_crossentropy',\n",
    "              metrics=['accuracy'])\n",
    "\n",
    "\n",
    "earlyStopping = EarlyStopping(monitor='val_loss', patience=10, restore_best_weights=True);\n",
    "\n",
    "\n",
    "y_train_adj = y_train - 1\n",
    "y_test_adj = y_test - 1"
   ]
  },
  {
   "cell_type": "code",
   "execution_count": 143,
   "id": "a7c594365a076e54",
   "metadata": {
    "collapsed": false,
    "ExecuteTime": {
     "end_time": "2024-03-01T09:06:06.227990Z",
     "start_time": "2024-03-01T09:05:28.846417Z"
    }
   },
   "outputs": [
    {
     "name": "stdout",
     "output_type": "stream",
     "text": [
      "Epoch 1/100\n",
      "196/196 [==============================] - 4s 17ms/step - loss: 1.4014 - accuracy: 0.5395 - val_loss: 1.1188 - val_accuracy: 0.6055\n",
      "Epoch 2/100\n",
      "196/196 [==============================] - 3s 15ms/step - loss: 1.0677 - accuracy: 0.6569 - val_loss: 1.0747 - val_accuracy: 0.6419\n",
      "Epoch 3/100\n",
      "196/196 [==============================] - 3s 17ms/step - loss: 1.0073 - accuracy: 0.6828 - val_loss: 1.0740 - val_accuracy: 0.6426\n",
      "Epoch 4/100\n",
      "196/196 [==============================] - 3s 13ms/step - loss: 0.9862 - accuracy: 0.6951 - val_loss: 1.0896 - val_accuracy: 0.6394\n",
      "Epoch 5/100\n",
      "196/196 [==============================] - 3s 13ms/step - loss: 0.9729 - accuracy: 0.7167 - val_loss: 1.1081 - val_accuracy: 0.6266\n",
      "Epoch 6/100\n",
      "196/196 [==============================] - 3s 14ms/step - loss: 0.9477 - accuracy: 0.7242 - val_loss: 1.1209 - val_accuracy: 0.6330\n",
      "Epoch 7/100\n",
      "196/196 [==============================] - 3s 16ms/step - loss: 0.9391 - accuracy: 0.7310 - val_loss: 1.1230 - val_accuracy: 0.6349\n",
      "Epoch 8/100\n",
      "196/196 [==============================] - 3s 14ms/step - loss: 0.9238 - accuracy: 0.7378 - val_loss: 1.1603 - val_accuracy: 0.6253\n",
      "Epoch 9/100\n",
      "196/196 [==============================] - 3s 14ms/step - loss: 0.9197 - accuracy: 0.7516 - val_loss: 1.1831 - val_accuracy: 0.6285\n",
      "Epoch 10/100\n",
      "196/196 [==============================] - 3s 14ms/step - loss: 0.9050 - accuracy: 0.7682 - val_loss: 1.2139 - val_accuracy: 0.6413\n",
      "Epoch 11/100\n",
      "196/196 [==============================] - 3s 13ms/step - loss: 0.8950 - accuracy: 0.7798 - val_loss: 1.2325 - val_accuracy: 0.6272\n",
      "Epoch 12/100\n",
      "196/196 [==============================] - 3s 14ms/step - loss: 0.8817 - accuracy: 0.7903 - val_loss: 1.2289 - val_accuracy: 0.6228\n",
      "Epoch 13/100\n",
      "196/196 [==============================] - 3s 14ms/step - loss: 0.8732 - accuracy: 0.7953 - val_loss: 1.2685 - val_accuracy: 0.6330\n"
     ]
    }
   ],
   "source": [
    "history = model.fit(X_train, y_train_adj, epochs=100, batch_size=32, validation_split=0.2, callbacks=[earlyStopping]);"
   ]
  },
  {
   "cell_type": "code",
   "execution_count": 144,
   "id": "6adb0271649bb710",
   "metadata": {
    "collapsed": false,
    "ExecuteTime": {
     "end_time": "2024-03-01T09:06:06.559325Z",
     "start_time": "2024-03-01T09:06:06.231472Z"
    }
   },
   "outputs": [
    {
     "name": "stdout",
     "output_type": "stream",
     "text": [
      "62/62 [==============================] - 0s 3ms/step - loss: 1.1168 - accuracy: 0.6192\n",
      "Test Loss: 1.117, Test Accuracy: 0.619\n"
     ]
    }
   ],
   "source": [
    "loss, accuracy = model.evaluate(X_test, y_test_adj)\n",
    "print(f'Test Loss: {loss:.3f}, Test Accuracy: {accuracy:.3f}')"
   ]
  },
  {
   "cell_type": "code",
   "execution_count": 145,
   "id": "1f4e8daaf7e7261e",
   "metadata": {
    "collapsed": false,
    "ExecuteTime": {
     "end_time": "2024-03-01T09:06:06.568232Z",
     "start_time": "2024-03-01T09:06:06.561384Z"
    }
   },
   "outputs": [],
   "source": [
    "new_review_vector = tfidf_vectorizer.transform([\"Cool but the pool was cold not very cool for us\"]).toarray()"
   ]
  },
  {
   "cell_type": "code",
   "execution_count": 146,
   "id": "f39b8751fdd5ce33",
   "metadata": {
    "collapsed": false,
    "ExecuteTime": {
     "end_time": "2024-03-01T09:06:06.681101Z",
     "start_time": "2024-03-01T09:06:06.569673Z"
    }
   },
   "outputs": [
    {
     "name": "stdout",
     "output_type": "stream",
     "text": [
      "1/1 [==============================] - 0s 57ms/step\n",
      "Note prédite: 4\n"
     ]
    }
   ],
   "source": [
    "prediction = model.predict(new_review_vector)\n",
    "predicted_rating = np.argmax(prediction) + 1\n",
    "print(f'Note prédite: {predicted_rating}')"
   ]
  },
  {
   "cell_type": "markdown",
   "source": [
    "### Model Random Forest Classifier\n"
   ],
   "metadata": {
    "collapsed": false
   },
   "id": "813f6659b4984004"
  },
  {
   "cell_type": "markdown",
   "source": [],
   "metadata": {
    "collapsed": false
   },
   "id": "7e0206a8048277f"
  },
  {
   "cell_type": "code",
   "outputs": [],
   "source": [
    "# Charger les données\n",
    "X = np.load('X_tfidf.npy')\n",
    "y = np.load('y.npy')"
   ],
   "metadata": {
    "collapsed": false,
    "ExecuteTime": {
     "end_time": "2024-03-01T09:06:06.857832Z",
     "start_time": "2024-03-01T09:06:06.682550Z"
    }
   },
   "id": "3560925ee7a2ec9c",
   "execution_count": 147
  },
  {
   "cell_type": "code",
   "outputs": [],
   "source": [
    "# Diviser les données en ensembles d'entraînement et de test\n",
    "X_train, X_test, y_train, y_test = train_test_split(X, y, test_size=0.2, random_state=42)"
   ],
   "metadata": {
    "collapsed": false,
    "ExecuteTime": {
     "end_time": "2024-03-01T09:06:07.004069Z",
     "start_time": "2024-03-01T09:06:06.859387Z"
    }
   },
   "id": "574456c5ee0b66b4",
   "execution_count": 148
  },
  {
   "cell_type": "code",
   "outputs": [],
   "source": [
    "# Initialiser le modèle RandomForest\n",
    "modelRFC = RandomForestClassifier(n_estimators=100, random_state=42)"
   ],
   "metadata": {
    "collapsed": false,
    "ExecuteTime": {
     "end_time": "2024-03-01T09:06:07.008329Z",
     "start_time": "2024-03-01T09:06:07.005338Z"
    }
   },
   "id": "2ac5dadb3a0870c2",
   "execution_count": 149
  },
  {
   "cell_type": "code",
   "outputs": [
    {
     "data": {
      "text/plain": "RandomForestClassifier(random_state=42)",
      "text/html": "<style>#sk-container-id-3 {color: black;}#sk-container-id-3 pre{padding: 0;}#sk-container-id-3 div.sk-toggleable {background-color: white;}#sk-container-id-3 label.sk-toggleable__label {cursor: pointer;display: block;width: 100%;margin-bottom: 0;padding: 0.3em;box-sizing: border-box;text-align: center;}#sk-container-id-3 label.sk-toggleable__label-arrow:before {content: \"▸\";float: left;margin-right: 0.25em;color: #696969;}#sk-container-id-3 label.sk-toggleable__label-arrow:hover:before {color: black;}#sk-container-id-3 div.sk-estimator:hover label.sk-toggleable__label-arrow:before {color: black;}#sk-container-id-3 div.sk-toggleable__content {max-height: 0;max-width: 0;overflow: hidden;text-align: left;background-color: #f0f8ff;}#sk-container-id-3 div.sk-toggleable__content pre {margin: 0.2em;color: black;border-radius: 0.25em;background-color: #f0f8ff;}#sk-container-id-3 input.sk-toggleable__control:checked~div.sk-toggleable__content {max-height: 200px;max-width: 100%;overflow: auto;}#sk-container-id-3 input.sk-toggleable__control:checked~label.sk-toggleable__label-arrow:before {content: \"▾\";}#sk-container-id-3 div.sk-estimator input.sk-toggleable__control:checked~label.sk-toggleable__label {background-color: #d4ebff;}#sk-container-id-3 div.sk-label input.sk-toggleable__control:checked~label.sk-toggleable__label {background-color: #d4ebff;}#sk-container-id-3 input.sk-hidden--visually {border: 0;clip: rect(1px 1px 1px 1px);clip: rect(1px, 1px, 1px, 1px);height: 1px;margin: -1px;overflow: hidden;padding: 0;position: absolute;width: 1px;}#sk-container-id-3 div.sk-estimator {font-family: monospace;background-color: #f0f8ff;border: 1px dotted black;border-radius: 0.25em;box-sizing: border-box;margin-bottom: 0.5em;}#sk-container-id-3 div.sk-estimator:hover {background-color: #d4ebff;}#sk-container-id-3 div.sk-parallel-item::after {content: \"\";width: 100%;border-bottom: 1px solid gray;flex-grow: 1;}#sk-container-id-3 div.sk-label:hover label.sk-toggleable__label {background-color: #d4ebff;}#sk-container-id-3 div.sk-serial::before {content: \"\";position: absolute;border-left: 1px solid gray;box-sizing: border-box;top: 0;bottom: 0;left: 50%;z-index: 0;}#sk-container-id-3 div.sk-serial {display: flex;flex-direction: column;align-items: center;background-color: white;padding-right: 0.2em;padding-left: 0.2em;position: relative;}#sk-container-id-3 div.sk-item {position: relative;z-index: 1;}#sk-container-id-3 div.sk-parallel {display: flex;align-items: stretch;justify-content: center;background-color: white;position: relative;}#sk-container-id-3 div.sk-item::before, #sk-container-id-3 div.sk-parallel-item::before {content: \"\";position: absolute;border-left: 1px solid gray;box-sizing: border-box;top: 0;bottom: 0;left: 50%;z-index: -1;}#sk-container-id-3 div.sk-parallel-item {display: flex;flex-direction: column;z-index: 1;position: relative;background-color: white;}#sk-container-id-3 div.sk-parallel-item:first-child::after {align-self: flex-end;width: 50%;}#sk-container-id-3 div.sk-parallel-item:last-child::after {align-self: flex-start;width: 50%;}#sk-container-id-3 div.sk-parallel-item:only-child::after {width: 0;}#sk-container-id-3 div.sk-dashed-wrapped {border: 1px dashed gray;margin: 0 0.4em 0.5em 0.4em;box-sizing: border-box;padding-bottom: 0.4em;background-color: white;}#sk-container-id-3 div.sk-label label {font-family: monospace;font-weight: bold;display: inline-block;line-height: 1.2em;}#sk-container-id-3 div.sk-label-container {text-align: center;}#sk-container-id-3 div.sk-container {/* jupyter's `normalize.less` sets `[hidden] { display: none; }` but bootstrap.min.css set `[hidden] { display: none !important; }` so we also need the `!important` here to be able to override the default hidden behavior on the sphinx rendered scikit-learn.org. See: https://github.com/scikit-learn/scikit-learn/issues/21755 */display: inline-block !important;position: relative;}#sk-container-id-3 div.sk-text-repr-fallback {display: none;}</style><div id=\"sk-container-id-3\" class=\"sk-top-container\"><div class=\"sk-text-repr-fallback\"><pre>RandomForestClassifier(random_state=42)</pre><b>In a Jupyter environment, please rerun this cell to show the HTML representation or trust the notebook. <br />On GitHub, the HTML representation is unable to render, please try loading this page with nbviewer.org.</b></div><div class=\"sk-container\" hidden><div class=\"sk-item\"><div class=\"sk-estimator sk-toggleable\"><input class=\"sk-toggleable__control sk-hidden--visually\" id=\"sk-estimator-id-3\" type=\"checkbox\" checked><label for=\"sk-estimator-id-3\" class=\"sk-toggleable__label sk-toggleable__label-arrow\">RandomForestClassifier</label><div class=\"sk-toggleable__content\"><pre>RandomForestClassifier(random_state=42)</pre></div></div></div></div></div>"
     },
     "execution_count": 150,
     "metadata": {},
     "output_type": "execute_result"
    }
   ],
   "source": [
    "# Entraîner le modèle\n",
    "modelRFC.fit(X_train, y_train)"
   ],
   "metadata": {
    "collapsed": false,
    "ExecuteTime": {
     "end_time": "2024-03-01T09:06:14.445211Z",
     "start_time": "2024-03-01T09:06:07.009554Z"
    }
   },
   "id": "931a4925687cf519",
   "execution_count": 150
  },
  {
   "cell_type": "code",
   "outputs": [
    {
     "name": "stdout",
     "output_type": "stream",
     "text": [
      "Rapport de classification :\n",
      "              precision    recall  f1-score   support\n",
      "\n",
      "           1       0.72      0.25      0.37       118\n",
      "           2       0.67      0.02      0.04       105\n",
      "           3       0.30      0.08      0.13       236\n",
      "           4       0.43      0.29      0.35       573\n",
      "           5       0.59      0.93      0.72       922\n",
      "\n",
      "    accuracy                           0.55      1954\n",
      "   macro avg       0.54      0.31      0.32      1954\n",
      "weighted avg       0.52      0.55      0.48      1954\n"
     ]
    }
   ],
   "source": [
    "# Prédire les étiquettes sur l'ensemble de test\n",
    "y_pred = modelRFC.predict(X_test)\n",
    "\n",
    "# Afficher le rapport de classification\n",
    "print(\"Rapport de classification :\")\n",
    "print(classification_report(y_test, y_pred))"
   ],
   "metadata": {
    "collapsed": false,
    "ExecuteTime": {
     "end_time": "2024-03-01T09:06:14.613872Z",
     "start_time": "2024-03-01T09:06:14.453742Z"
    }
   },
   "id": "a01b1884823e6502",
   "execution_count": 151
  },
  {
   "cell_type": "code",
   "outputs": [
    {
     "name": "stdout",
     "output_type": "stream",
     "text": [
      "Matrice de confusion :\n"
     ]
    },
    {
     "data": {
      "text/plain": "<Figure size 1000x700 with 2 Axes>",
      "image/png": "[encoded data removed]"
     },
     "metadata": {},
     "output_type": "display_data"
    }
   ],
   "source": [
    "# Afficher la matrice de confusion\n",
    "print(\"Matrice de confusion :\")\n",
    "cm = confusion_matrix(y_test, y_pred)\n",
    "plt.figure(figsize=(10, 7))\n",
    "plt.imshow(cm, interpolation='nearest', cmap=plt.cm.Wistia)\n",
    "plt.title('Matrice de confusion')\n",
    "plt.colorbar()\n",
    "tick_marks = np.arange(len(np.unique(y)))\n",
    "plt.xticks(tick_marks, np.unique(y), rotation=45)\n",
    "plt.yticks(tick_marks, np.unique(y))\n",
    "plt.tight_layout()\n",
    "plt.ylabel('Vrai label')\n",
    "plt.xlabel('Label prédit')\n",
    "plt.show()"
   ],
   "metadata": {
    "collapsed": false,
    "ExecuteTime": {
     "end_time": "2024-03-01T09:06:14.958843Z",
     "start_time": "2024-03-01T09:06:14.614867Z"
    }
   },
   "id": "9dd1149e33143fe0",
   "execution_count": 152
  },
  {
   "cell_type": "code",
   "outputs": [
    {
     "data": {
      "text/plain": "<Figure size 640x480 with 1 Axes>",
      "image/png": "[encoded data removed]"
     },
     "metadata": {},
     "output_type": "display_data"
    }
   ],
   "source": [
    "# Importance des caractéristiques\n",
    "importances = modelRFC.feature_importances_\n",
    "indices = np.argsort(importances)[::-1]\n",
    "\n",
    "plt.figure()\n",
    "plt.title(\"Importance des caractéristiques\")\n",
    "plt.bar(range(X_train.shape[1]), importances[indices],\n",
    "       color=\"r\", align=\"center\")\n",
    "plt.xticks(range(X_train.shape[1]), indices)\n",
    "plt.xlim([-1, X_train.shape[1]])\n",
    "plt.show()"
   ],
   "metadata": {
    "collapsed": false,
    "ExecuteTime": {
     "end_time": "2024-03-01T09:06:23.460238Z",
     "start_time": "2024-03-01T09:06:14.962650Z"
    }
   },
   "id": "6ede7b0e460792d2",
   "execution_count": 153
  },
  {
   "cell_type": "code",
   "outputs": [
    {
     "name": "stdout",
     "output_type": "stream",
     "text": [
      "Meilleurs paramètres trouvés :\n",
      "{'max_depth': None, 'n_estimators': 200}\n"
     ]
    }
   ],
   "source": [
    "# Ajustement des hyperparamètres avec GridSearchCV\n",
    "param_grid = {'n_estimators': [100, 200], 'max_depth': [None, 10, 20]}\n",
    "grid_search = GridSearchCV(RandomForestClassifier(random_state=42), param_grid, cv=5)\n",
    "grid_search.fit(X_train, y_train)\n",
    "\n",
    "print(\"Meilleurs paramètres trouvés :\")\n",
    "print(grid_search.best_params_)"
   ],
   "metadata": {
    "collapsed": false,
    "ExecuteTime": {
     "end_time": "2024-03-01T09:09:36.134145Z",
     "start_time": "2024-03-01T09:06:23.461094Z"
    }
   },
   "id": "b274c23b4e976199",
   "execution_count": 154
  },
  {
   "cell_type": "code",
   "outputs": [],
   "source": [
    "# Entraîner le modèle avec les meilleurs paramètres\n",
    "best_model = grid_search.best_estimator_"
   ],
   "metadata": {
    "collapsed": false,
    "ExecuteTime": {
     "end_time": "2024-03-01T09:09:36.146764Z",
     "start_time": "2024-03-01T09:09:36.136310Z"
    }
   },
   "id": "49ba03015e76e5ab",
   "execution_count": 155
  },
  {
   "cell_type": "code",
   "outputs": [
    {
     "data": {
      "text/plain": "['random_forest_model.joblib']"
     },
     "execution_count": 156,
     "metadata": {},
     "output_type": "execute_result"
    }
   ],
   "source": [
    "# Sauvegarder le modèle\n",
    "joblib.dump(best_model, 'random_forest_model.joblib')"
   ],
   "metadata": {
    "collapsed": false,
    "ExecuteTime": {
     "end_time": "2024-03-01T09:09:36.392993Z",
     "start_time": "2024-03-01T09:09:36.148249Z"
    }
   },
   "id": "8aae4a93c3c084c1",
   "execution_count": 156
  },
  {
   "cell_type": "code",
   "outputs": [],
   "source": [
    "# Charger le modèle\n",
    "loaded_model = joblib.load('random_forest_model.joblib')"
   ],
   "metadata": {
    "collapsed": false,
    "ExecuteTime": {
     "end_time": "2024-03-01T09:09:36.548894Z",
     "start_time": "2024-03-01T09:09:36.394088Z"
    }
   },
   "id": "250fe716b1da96da",
   "execution_count": 157
  },
  {
   "cell_type": "code",
   "outputs": [
    {
     "name": "stdout",
     "output_type": "stream",
     "text": [
      "Rapport de classification du modèle chargé :\n",
      "              precision    recall  f1-score   support\n",
      "\n",
      "           1       0.79      0.32      0.46       118\n",
      "           2       0.60      0.03      0.05       105\n",
      "           3       0.43      0.10      0.16       236\n",
      "           4       0.44      0.29      0.35       573\n",
      "           5       0.59      0.93      0.72       922\n",
      "\n",
      "    accuracy                           0.56      1954\n",
      "   macro avg       0.57      0.34      0.35      1954\n",
      "weighted avg       0.54      0.56      0.49      1954\n"
     ]
    }
   ],
   "source": [
    "# Utiliser le modèle chargé pour faire des prédictions\n",
    "loaded_model_pred = loaded_model.predict(X_test)\n",
    "print(\"Rapport de classification du modèle chargé :\")\n",
    "print(classification_report(y_test, loaded_model_pred))"
   ],
   "metadata": {
    "collapsed": false,
    "ExecuteTime": {
     "end_time": "2024-03-01T09:09:36.834170Z",
     "start_time": "2024-03-01T09:09:36.550506Z"
    }
   },
   "id": "cdc119d26072827f",
   "execution_count": 158
  },
  {
   "cell_type": "code",
   "outputs": [],
   "source": [
    "# Charger le modèle RandomForest\n",
    "modelRFC = joblib.load('random_forest_model.joblib')"
   ],
   "metadata": {
    "collapsed": false,
    "ExecuteTime": {
     "end_time": "2024-03-01T09:09:36.945862Z",
     "start_time": "2024-03-01T09:09:36.835309Z"
    }
   },
   "id": "d1b6446ce4cffab9",
   "execution_count": 159
  },
  {
   "cell_type": "code",
   "outputs": [],
   "source": [
    "# Nouvelle entrée d'avis\n",
    "new_review = [\"I hate this hotel !\"]"
   ],
   "metadata": {
    "collapsed": false,
    "ExecuteTime": {
     "end_time": "2024-03-01T09:09:36.949349Z",
     "start_time": "2024-03-01T09:09:36.946818Z"
    }
   },
   "id": "3447edb03cb4473e",
   "execution_count": 160
  },
  {
   "cell_type": "code",
   "outputs": [],
   "source": [
    "# Transformer l'avis en utilisant le vectoriseur TF-IDF chargé\n",
    "new_review_tfidf = tfidf_vectorizer.transform(new_review).toarray()"
   ],
   "metadata": {
    "collapsed": false,
    "ExecuteTime": {
     "end_time": "2024-03-01T09:09:36.954604Z",
     "start_time": "2024-03-01T09:09:36.950382Z"
    }
   },
   "id": "87d7e05fa3b3d53b",
   "execution_count": 161
  },
  {
   "cell_type": "code",
   "outputs": [],
   "source": [
    "# Prédire la note pour la nouvelle entrée\n",
    "predicted_note = modelRFC.predict(new_review_tfidf)"
   ],
   "metadata": {
    "collapsed": false,
    "ExecuteTime": {
     "end_time": "2024-03-01T09:09:36.972227Z",
     "start_time": "2024-03-01T09:09:36.955730Z"
    }
   },
   "id": "1316135e510aa27d",
   "execution_count": 162
  },
  {
   "cell_type": "code",
   "outputs": [
    {
     "name": "stdout",
     "output_type": "stream",
     "text": [
      "La note prédite pour l'avis est : 5\n"
     ]
    }
   ],
   "source": [
    "print(\"La note prédite pour l'avis est :\", predicted_note[0])"
   ],
   "metadata": {
    "collapsed": false,
    "ExecuteTime": {
     "end_time": "2024-03-01T09:09:36.977444Z",
     "start_time": "2024-03-01T09:09:36.973578Z"
    }
   },
   "id": "f0595a4642281a75",
   "execution_count": 163
  }
 ],
 "metadata": {
  "kernelspec": {
   "display_name": "Python 3",
   "language": "python",
   "name": "python3"
  },
  "language_info": {
   "codemirror_mode": {
    "name": "ipython",
    "version": 2
   },
   "file_extension": ".py",
   "mimetype": "text/x-python",
   "name": "python",
   "nbconvert_exporter": "python",
   "pygments_lexer": "ipython2",
   "version": "2.7.6"
  }
 },
 "nbformat": 4,
 "nbformat_minor": 5
}
