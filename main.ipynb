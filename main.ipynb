{
 "cells": [
  {
   "cell_type": "code",
   "execution_count": 57,
   "id": "initial_id",
   "metadata": {
    "collapsed": true,
    "ExecuteTime": {
     "end_time": "2024-03-01T12:52:26.014356Z",
     "start_time": "2024-03-01T12:52:26.011040Z"
    }
   },
   "outputs": [],
   "source": [
    "from langdetect import detect, LangDetectException\n",
    "import matplotlib.pyplot as plt\n",
    "import pandas as pd\n",
    "import re\n",
    "import joblib\n",
    "from xgboost import XGBClassifier\n",
    "import nltk\n",
    "from nltk.corpus import stopwords\n",
    "from sklearn.ensemble import RandomForestClassifier\n",
    "from sklearn.model_selection import train_test_split, GridSearchCV\n",
    "from sklearn.feature_extraction.text import TfidfVectorizer\n",
    "import numpy as np\n",
    "from sklearn.metrics import classification_report, confusion_matrix\n",
    "from tensorflow.keras.preprocessing.text import Tokenizer\n",
    "from tensorflow.keras.preprocessing.sequence import pad_sequences"
   ]
  },
  {
   "cell_type": "code",
   "execution_count": 3,
   "id": "28d367eda5183285",
   "metadata": {
    "collapsed": false,
    "ExecuteTime": {
     "end_time": "2024-03-01T12:37:45.141093Z",
     "start_time": "2024-03-01T12:37:44.638205Z"
    }
   },
   "outputs": [],
   "source": [
    "df = pd.read_csv(\"Datafiniti_Hotel_Reviews_Jun19.csv\", sep=',')"
   ]
  },
  {
   "cell_type": "code",
   "execution_count": 4,
   "id": "c27725768065dd19",
   "metadata": {
    "collapsed": false,
    "ExecuteTime": {
     "end_time": "2024-03-01T12:37:45.151549Z",
     "start_time": "2024-03-01T12:37:45.141916Z"
    }
   },
   "outputs": [
    {
     "data": {
      "text/plain": "      reviews.rating                                       reviews.text  \\\n0                  3  This hotel was nice and quiet. Did not know, t...   \n1                  4  We stayed in the king suite with the separatio...   \n2                  3  Parking was horrible, somebody ran into my ren...   \n3                  5  Not cheap but excellent location. Price is som...   \n4                  2  If you get the room that they advertised on th...   \n...              ...                                                ...   \n9995               4  My friends and I took a trip to Hampton for th...   \n9996               5  from check in to departure, staff is friendly,...   \n9997               5  This Hampton is located on a quiet street acro...   \n9998               5  Awesome wings (my favorite was garlic parmesan...   \n9999               4  Clean facility just off freeway ..... staff fr...   \n\n                                          reviews.title  \n0                               Best Western Plus Hotel  \n1     Clean rooms at solid rates in the heart of Carmel  \n2                                              Business  \n3                                             Very good  \n4                          Low chance to come back here  \n...                                                 ...  \n9995             Very accommodating and friendly staff!  \n9996         comfortable, friendly, clean, professional  \n9997                                     Great location  \n9998                                  Great Atmosphere!  \n9999                           Health care appointments  \n\n[10000 rows x 3 columns]",
      "text/html": "<div>\n<style scoped>\n    .dataframe tbody tr th:only-of-type {\n        vertical-align: middle;\n    }\n\n    .dataframe tbody tr th {\n        vertical-align: top;\n    }\n\n    .dataframe thead th {\n        text-align: right;\n    }\n</style>\n<table border=\"1\" class=\"dataframe\">\n  <thead>\n    <tr style=\"text-align: right;\">\n      <th></th>\n      <th>reviews.rating</th>\n      <th>reviews.text</th>\n      <th>reviews.title</th>\n    </tr>\n  </thead>\n  <tbody>\n    <tr>\n      <th>0</th>\n      <td>3</td>\n      <td>This hotel was nice and quiet. Did not know, t...</td>\n      <td>Best Western Plus Hotel</td>\n    </tr>\n    <tr>\n      <th>1</th>\n      <td>4</td>\n      <td>We stayed in the king suite with the separatio...</td>\n      <td>Clean rooms at solid rates in the heart of Carmel</td>\n    </tr>\n    <tr>\n      <th>2</th>\n      <td>3</td>\n      <td>Parking was horrible, somebody ran into my ren...</td>\n      <td>Business</td>\n    </tr>\n    <tr>\n      <th>3</th>\n      <td>5</td>\n      <td>Not cheap but excellent location. Price is som...</td>\n      <td>Very good</td>\n    </tr>\n    <tr>\n      <th>4</th>\n      <td>2</td>\n      <td>If you get the room that they advertised on th...</td>\n      <td>Low chance to come back here</td>\n    </tr>\n    <tr>\n      <th>...</th>\n      <td>...</td>\n      <td>...</td>\n      <td>...</td>\n    </tr>\n    <tr>\n      <th>9995</th>\n      <td>4</td>\n      <td>My friends and I took a trip to Hampton for th...</td>\n      <td>Very accommodating and friendly staff!</td>\n    </tr>\n    <tr>\n      <th>9996</th>\n      <td>5</td>\n      <td>from check in to departure, staff is friendly,...</td>\n      <td>comfortable, friendly, clean, professional</td>\n    </tr>\n    <tr>\n      <th>9997</th>\n      <td>5</td>\n      <td>This Hampton is located on a quiet street acro...</td>\n      <td>Great location</td>\n    </tr>\n    <tr>\n      <th>9998</th>\n      <td>5</td>\n      <td>Awesome wings (my favorite was garlic parmesan...</td>\n      <td>Great Atmosphere!</td>\n    </tr>\n    <tr>\n      <th>9999</th>\n      <td>4</td>\n      <td>Clean facility just off freeway ..... staff fr...</td>\n      <td>Health care appointments</td>\n    </tr>\n  </tbody>\n</table>\n<p>10000 rows × 3 columns</p>\n</div>"
     },
     "execution_count": 4,
     "metadata": {},
     "output_type": "execute_result"
    }
   ],
   "source": [
    "df = df.loc[:, ['reviews.rating', 'reviews.text', 'reviews.title']]\n",
    "df"
   ]
  },
  {
   "cell_type": "code",
   "execution_count": 5,
   "id": "2cc6df0a30bc4bf5",
   "metadata": {
    "collapsed": false,
    "ExecuteTime": {
     "end_time": "2024-03-01T12:37:45.156231Z",
     "start_time": "2024-03-01T12:37:45.152937Z"
    }
   },
   "outputs": [],
   "source": [
    "df = df.astype({'reviews.rating': 'int', 'reviews.title': 'str', 'reviews.text': 'str'})"
   ]
  },
  {
   "cell_type": "code",
   "execution_count": 6,
   "id": "86d511e3b718bdaa",
   "metadata": {
    "collapsed": false,
    "ExecuteTime": {
     "end_time": "2024-03-01T12:37:45.204273Z",
     "start_time": "2024-03-01T12:37:45.157165Z"
    }
   },
   "outputs": [],
   "source": [
    "df.loc[:, 'reviews.text'] = df.apply(lambda row: str(row['reviews.title']) + \". \" + str(row['reviews.text']), axis=1)\n",
    "if \"reviews.title\" in df.columns:\n",
    "    df = df.drop(\"reviews.title\", axis=1)"
   ]
  },
  {
   "cell_type": "code",
   "execution_count": 7,
   "id": "25f4d522fc999eca",
   "metadata": {
    "collapsed": false,
    "ExecuteTime": {
     "end_time": "2024-03-01T12:37:45.209931Z",
     "start_time": "2024-03-01T12:37:45.205334Z"
    }
   },
   "outputs": [
    {
     "data": {
      "text/plain": "      reviews.rating                                       reviews.text\n0                  3  Best Western Plus Hotel. This hotel was nice a...\n1                  4  Clean rooms at solid rates in the heart of Car...\n2                  3  Business. Parking was horrible, somebody ran i...\n3                  5  Very good. Not cheap but excellent location. P...\n4                  2  Low chance to come back here. If you get the r...\n...              ...                                                ...\n9995               4  Very accommodating and friendly staff!. My fri...\n9996               5  comfortable, friendly, clean, professional. fr...\n9997               5  Great location. This Hampton is located on a q...\n9998               5  Great Atmosphere!. Awesome wings (my favorite ...\n9999               4  Health care appointments. Clean facility just ...\n\n[10000 rows x 2 columns]",
      "text/html": "<div>\n<style scoped>\n    .dataframe tbody tr th:only-of-type {\n        vertical-align: middle;\n    }\n\n    .dataframe tbody tr th {\n        vertical-align: top;\n    }\n\n    .dataframe thead th {\n        text-align: right;\n    }\n</style>\n<table border=\"1\" class=\"dataframe\">\n  <thead>\n    <tr style=\"text-align: right;\">\n      <th></th>\n      <th>reviews.rating</th>\n      <th>reviews.text</th>\n    </tr>\n  </thead>\n  <tbody>\n    <tr>\n      <th>0</th>\n      <td>3</td>\n      <td>Best Western Plus Hotel. This hotel was nice a...</td>\n    </tr>\n    <tr>\n      <th>1</th>\n      <td>4</td>\n      <td>Clean rooms at solid rates in the heart of Car...</td>\n    </tr>\n    <tr>\n      <th>2</th>\n      <td>3</td>\n      <td>Business. Parking was horrible, somebody ran i...</td>\n    </tr>\n    <tr>\n      <th>3</th>\n      <td>5</td>\n      <td>Very good. Not cheap but excellent location. P...</td>\n    </tr>\n    <tr>\n      <th>4</th>\n      <td>2</td>\n      <td>Low chance to come back here. If you get the r...</td>\n    </tr>\n    <tr>\n      <th>...</th>\n      <td>...</td>\n      <td>...</td>\n    </tr>\n    <tr>\n      <th>9995</th>\n      <td>4</td>\n      <td>Very accommodating and friendly staff!. My fri...</td>\n    </tr>\n    <tr>\n      <th>9996</th>\n      <td>5</td>\n      <td>comfortable, friendly, clean, professional. fr...</td>\n    </tr>\n    <tr>\n      <th>9997</th>\n      <td>5</td>\n      <td>Great location. This Hampton is located on a q...</td>\n    </tr>\n    <tr>\n      <th>9998</th>\n      <td>5</td>\n      <td>Great Atmosphere!. Awesome wings (my favorite ...</td>\n    </tr>\n    <tr>\n      <th>9999</th>\n      <td>4</td>\n      <td>Health care appointments. Clean facility just ...</td>\n    </tr>\n  </tbody>\n</table>\n<p>10000 rows × 2 columns</p>\n</div>"
     },
     "execution_count": 7,
     "metadata": {},
     "output_type": "execute_result"
    }
   ],
   "source": [
    "df"
   ]
  },
  {
   "cell_type": "markdown",
   "source": [],
   "metadata": {
    "collapsed": false
   },
   "id": "35a96bd763b75ac7"
  },
  {
   "cell_type": "code",
   "execution_count": 8,
   "id": "15fbcc21c39bc3f1",
   "metadata": {
    "collapsed": false,
    "ExecuteTime": {
     "end_time": "2024-03-01T12:37:45.234937Z",
     "start_time": "2024-03-01T12:37:45.210833Z"
    }
   },
   "outputs": [],
   "source": [
    "df = df.dropna(subset=['reviews.rating'])\n",
    "df = df.dropna(subset=['reviews.text'])\n",
    "df = df.drop_duplicates()"
   ]
  },
  {
   "cell_type": "code",
   "execution_count": 9,
   "id": "9be8dbb87d39dfc4",
   "metadata": {
    "collapsed": false,
    "ExecuteTime": {
     "end_time": "2024-03-01T12:37:45.295061Z",
     "start_time": "2024-03-01T12:37:45.235975Z"
    }
   },
   "outputs": [],
   "source": [
    "df['reviews.text'] = df['reviews.text'].str.replace('[^a-zA-Z0-9 @]', '', regex=True)\n",
    "df = df.dropna(subset=['reviews.text'])\n",
    "df = df[df['reviews.text'] != '']"
   ]
  },
  {
   "cell_type": "code",
   "execution_count": 10,
   "id": "e51c74e6f25668f1",
   "metadata": {
    "collapsed": false,
    "ExecuteTime": {
     "end_time": "2024-03-01T12:38:09.761203Z",
     "start_time": "2024-03-01T12:37:45.296262Z"
    }
   },
   "outputs": [
    {
     "data": {
      "text/plain": "      reviews.rating                                       reviews.text  \\\n0                  3  Best Western Plus Hotel This hotel was nice an...   \n1                  4  Clean rooms at solid rates in the heart of Car...   \n2                  3  Business Parking was horrible somebody ran int...   \n3                  5  Very good Not cheap but excellent location Pri...   \n4                  2  Low chance to come back here If you get the ro...   \n...              ...                                                ...   \n9995               4  Very accommodating and friendly staff My frien...   \n9996               5  comfortable friendly clean professional from c...   \n9997               5  Great location This Hampton is located on a qu...   \n9998               5  Great Atmosphere Awesome wings my favorite was...   \n9999               4  Health care appointments Clean facility just o...   \n\n     language  \n0          en  \n1          en  \n2          en  \n3          en  \n4          en  \n...       ...  \n9995       en  \n9996       en  \n9997       en  \n9998       en  \n9999       en  \n\n[9787 rows x 3 columns]",
      "text/html": "<div>\n<style scoped>\n    .dataframe tbody tr th:only-of-type {\n        vertical-align: middle;\n    }\n\n    .dataframe tbody tr th {\n        vertical-align: top;\n    }\n\n    .dataframe thead th {\n        text-align: right;\n    }\n</style>\n<table border=\"1\" class=\"dataframe\">\n  <thead>\n    <tr style=\"text-align: right;\">\n      <th></th>\n      <th>reviews.rating</th>\n      <th>reviews.text</th>\n      <th>language</th>\n    </tr>\n  </thead>\n  <tbody>\n    <tr>\n      <th>0</th>\n      <td>3</td>\n      <td>Best Western Plus Hotel This hotel was nice an...</td>\n      <td>en</td>\n    </tr>\n    <tr>\n      <th>1</th>\n      <td>4</td>\n      <td>Clean rooms at solid rates in the heart of Car...</td>\n      <td>en</td>\n    </tr>\n    <tr>\n      <th>2</th>\n      <td>3</td>\n      <td>Business Parking was horrible somebody ran int...</td>\n      <td>en</td>\n    </tr>\n    <tr>\n      <th>3</th>\n      <td>5</td>\n      <td>Very good Not cheap but excellent location Pri...</td>\n      <td>en</td>\n    </tr>\n    <tr>\n      <th>4</th>\n      <td>2</td>\n      <td>Low chance to come back here If you get the ro...</td>\n      <td>en</td>\n    </tr>\n    <tr>\n      <th>...</th>\n      <td>...</td>\n      <td>...</td>\n      <td>...</td>\n    </tr>\n    <tr>\n      <th>9995</th>\n      <td>4</td>\n      <td>Very accommodating and friendly staff My frien...</td>\n      <td>en</td>\n    </tr>\n    <tr>\n      <th>9996</th>\n      <td>5</td>\n      <td>comfortable friendly clean professional from c...</td>\n      <td>en</td>\n    </tr>\n    <tr>\n      <th>9997</th>\n      <td>5</td>\n      <td>Great location This Hampton is located on a qu...</td>\n      <td>en</td>\n    </tr>\n    <tr>\n      <th>9998</th>\n      <td>5</td>\n      <td>Great Atmosphere Awesome wings my favorite was...</td>\n      <td>en</td>\n    </tr>\n    <tr>\n      <th>9999</th>\n      <td>4</td>\n      <td>Health care appointments Clean facility just o...</td>\n      <td>en</td>\n    </tr>\n  </tbody>\n</table>\n<p>9787 rows × 3 columns</p>\n</div>"
     },
     "execution_count": 10,
     "metadata": {},
     "output_type": "execute_result"
    }
   ],
   "source": [
    "def detect_language(text):\n",
    "    try:\n",
    "        return detect(text)\n",
    "    except LangDetectException:\n",
    "        return 'Unknown'\n",
    "    \n",
    "df['language'] = df['reviews.text'].apply(detect_language)\n",
    "df"
   ]
  },
  {
   "cell_type": "code",
   "execution_count": 11,
   "id": "75fc0353c159d03c",
   "metadata": {
    "collapsed": false,
    "ExecuteTime": {
     "end_time": "2024-03-01T12:38:09.767858Z",
     "start_time": "2024-03-01T12:38:09.764325Z"
    }
   },
   "outputs": [],
   "source": [
    "df = df.loc[df['language'] == 'en']"
   ]
  },
  {
   "cell_type": "code",
   "execution_count": 12,
   "id": "38ef525036322f59",
   "metadata": {
    "collapsed": false,
    "ExecuteTime": {
     "end_time": "2024-03-01T12:38:09.910786Z",
     "start_time": "2024-03-01T12:38:09.768876Z"
    }
   },
   "outputs": [
    {
     "data": {
      "text/plain": "<Figure size 640x480 with 1 Axes>",
      "image/png": "[encoded data removed]"
     },
     "metadata": {},
     "output_type": "display_data"
    }
   ],
   "source": [
    "rating_counts = df['reviews.rating'].value_counts().sort_index()\n",
    "all_ratings = pd.Series(index=range(1, 6), data=0)  # Initialiser les notes de 1 à 5 à 0\n",
    "rating_counts = all_ratings.add(rating_counts, fill_value=0).astype(int)  # Ajouter les comptes existants\n",
    "rating_counts.plot(kind='bar')\n",
    "plt.title('Distribution des notes (reviews.rating)')\n",
    "plt.xlabel('Note')\n",
    "plt.ylabel('Nombre d\\'occurrences')\n",
    "plt.show()"
   ]
  },
  {
   "cell_type": "code",
   "execution_count": 13,
   "id": "9087155abb31d756",
   "metadata": {
    "collapsed": false,
    "ExecuteTime": {
     "end_time": "2024-03-01T12:38:09.917915Z",
     "start_time": "2024-03-01T12:38:09.914232Z"
    }
   },
   "outputs": [],
   "source": [
    "def remove_stopwords(text):\n",
    "    en_stopwords = stopwords.words('english')  # Use English stop words\n",
    "    text = [word for word in text.split() if word not in en_stopwords]\n",
    "    return \" \".join(text)  # Join back into a string"
   ]
  },
  {
   "cell_type": "code",
   "execution_count": 14,
   "id": "56557fe90e0653ee",
   "metadata": {
    "collapsed": false,
    "ExecuteTime": {
     "end_time": "2024-03-01T12:38:09.925520Z",
     "start_time": "2024-03-01T12:38:09.920535Z"
    }
   },
   "outputs": [],
   "source": [
    "import string\n",
    "\n",
    "def clean_text(text):\n",
    "    text = text.lower()\n",
    "    text = \"\".join([char for char in text if char not in string.punctuation])\n",
    "    text = remove_stopwords(text)\n",
    "    return text"
   ]
  },
  {
   "cell_type": "code",
   "execution_count": 15,
   "id": "b4dc1c35d0d3c98d",
   "metadata": {
    "collapsed": false,
    "ExecuteTime": {
     "end_time": "2024-03-01T12:38:11.276783Z",
     "start_time": "2024-03-01T12:38:09.928880Z"
    }
   },
   "outputs": [],
   "source": [
    "# Set 1000 vectorizer data\n",
    "tfidf_vectorizer_1000 = TfidfVectorizer(max_features=1000)\n",
    "X_tfidf_1000 = tfidf_vectorizer_1000.fit_transform(df['reviews.text']).toarray()\n",
    "np.save('X_tfidf_1000.npy', X_tfidf_1000)\n",
    "\n",
    "# Set 1000 vectorizer data\n",
    "tfidf_vectorizer_3000 = TfidfVectorizer(max_features=3000)\n",
    "X_tfidf_3000 = tfidf_vectorizer_3000.fit_transform(df['reviews.text']).toarray()\n",
    "np.save('X_tfidf_3000.npy', X_tfidf_3000)"
   ]
  },
  {
   "cell_type": "code",
   "execution_count": 16,
   "id": "d315fb839190857a",
   "metadata": {
    "collapsed": false,
    "ExecuteTime": {
     "end_time": "2024-03-01T12:38:11.289067Z",
     "start_time": "2024-03-01T12:38:11.277793Z"
    }
   },
   "outputs": [],
   "source": [
    "y = df['reviews.rating'].values\n",
    "np.save('y.npy', y)"
   ]
  },
  {
   "cell_type": "code",
   "execution_count": 17,
   "id": "046d9210",
   "metadata": {
    "ExecuteTime": {
     "end_time": "2024-03-01T12:38:14.221626Z",
     "start_time": "2024-03-01T12:38:11.289787Z"
    }
   },
   "outputs": [],
   "source": [
    "from nltk import WordNetLemmatizer\n",
    "#nltk.download('wordnet')\n",
    "\n",
    "def preprocess_text(text):\n",
    "    text = re.sub(r'https?://\\S+|www\\.\\S+', '', text)\n",
    "    text = re.sub(r'<.*?>', '', text)\n",
    "    text = text.encode('ascii', 'ignore').decode('utf-8', 'ignore')\n",
    "    lemmatizer = WordNetLemmatizer()\n",
    "    text = ' '.join([lemmatizer.lemmatize(word) for word in text.split()])\n",
    "    return text\n",
    "\n",
    "df.loc[:, 'reviews.text'] = df['reviews.text'].apply(preprocess_text)"
   ]
  },
  {
   "cell_type": "code",
   "execution_count": 18,
   "id": "019af192",
   "metadata": {
    "ExecuteTime": {
     "end_time": "2024-03-01T12:38:14.941012Z",
     "start_time": "2024-03-01T12:38:14.222601Z"
    }
   },
   "outputs": [],
   "source": [
    "tokenizer = Tokenizer(num_words=10000, oov_token=\"<OOV>\")\n",
    "tokenizer.fit_on_texts(df['reviews.text'])\n",
    "sequences = tokenizer.texts_to_sequences(df['reviews.text'])\n",
    "padded_sequences = pad_sequences(sequences, padding='post', maxlen=120)"
   ]
  },
  {
   "cell_type": "markdown",
   "source": [
    "### Model TensorFlow"
   ],
   "metadata": {
    "collapsed": false
   },
   "id": "5025ba6e6db794d5"
  },
  {
   "cell_type": "code",
   "execution_count": 19,
   "id": "98b1f5c27c65fe1e",
   "metadata": {
    "collapsed": false,
    "ExecuteTime": {
     "end_time": "2024-03-01T12:38:14.947518Z",
     "start_time": "2024-03-01T12:38:14.941679Z"
    }
   },
   "outputs": [],
   "source": [
    "from tensorflow.keras.models import Sequential\n",
    "from tensorflow.keras.layers import Dense, Dropout\n",
    "from sklearn.model_selection import train_test_split\n",
    "from tensorflow.keras.callbacks import EarlyStopping\n",
    "from tensorflow.keras.regularizers import l2"
   ]
  },
  {
   "cell_type": "code",
   "execution_count": 20,
   "id": "e8ec8064095bfa0b",
   "metadata": {
    "collapsed": false,
    "ExecuteTime": {
     "end_time": "2024-03-01T12:38:15.055356Z",
     "start_time": "2024-03-01T12:38:14.948470Z"
    }
   },
   "outputs": [],
   "source": [
    "X = np.load('X_tfidf_3000.npy')\n",
    "y = np.load('y.npy')\n",
    "\n",
    "X_train, X_test, y_train, y_test = train_test_split(X, y, test_size=0.2, random_state=42)"
   ]
  },
  {
   "cell_type": "code",
   "execution_count": 21,
   "id": "c7133fec65da96c1",
   "metadata": {
    "collapsed": false,
    "ExecuteTime": {
     "end_time": "2024-03-01T12:38:15.109422Z",
     "start_time": "2024-03-01T12:38:15.056448Z"
    }
   },
   "outputs": [],
   "source": [
    "regularizer = l2(0.001)\n",
    "model = Sequential([\n",
    "    Dense(512, activation='relu', input_shape=(X_train.shape[1],), kernel_regularizer=regularizer),\n",
    "    Dropout(0.5),\n",
    "    Dense(256, activation='relu', kernel_regularizer=regularizer),\n",
    "    Dropout(0.5),\n",
    "    Dense(5, activation='softmax', kernel_regularizer=regularizer)\n",
    "])\n",
    "\n",
    "model.compile(optimizer='adam',\n",
    "              loss='sparse_categorical_crossentropy',\n",
    "              metrics=['accuracy'])\n",
    "\n",
    "\n",
    "earlyStopping = EarlyStopping(monitor='val_loss', patience=10, restore_best_weights=True);\n",
    "\n",
    "y_train_adj = y_train - 1\n",
    "y_test_adj = y_test - 1"
   ]
  },
  {
   "cell_type": "code",
   "execution_count": 22,
   "id": "a7c594365a076e54",
   "metadata": {
    "collapsed": false,
    "ExecuteTime": {
     "end_time": "2024-03-01T12:38:26.132765Z",
     "start_time": "2024-03-01T12:38:15.110082Z"
    }
   },
   "outputs": [
    {
     "name": "stdout",
     "output_type": "stream",
     "text": [
      "Epoch 1/100\n",
      "196/196 [==============================] - 1s 5ms/step - loss: 1.4250 - accuracy: 0.5298 - val_loss: 1.1228 - val_accuracy: 0.6061\n",
      "Epoch 2/100\n",
      "196/196 [==============================] - 1s 5ms/step - loss: 1.0886 - accuracy: 0.6401 - val_loss: 1.0738 - val_accuracy: 0.6439\n",
      "Epoch 3/100\n",
      "196/196 [==============================] - 1s 4ms/step - loss: 1.0150 - accuracy: 0.6820 - val_loss: 1.0816 - val_accuracy: 0.6426\n",
      "Epoch 4/100\n",
      "196/196 [==============================] - 1s 4ms/step - loss: 0.9858 - accuracy: 0.7041 - val_loss: 1.0959 - val_accuracy: 0.6439\n",
      "Epoch 5/100\n",
      "196/196 [==============================] - 1s 4ms/step - loss: 0.9676 - accuracy: 0.7134 - val_loss: 1.1461 - val_accuracy: 0.6285\n",
      "Epoch 6/100\n",
      "196/196 [==============================] - 1s 4ms/step - loss: 0.9587 - accuracy: 0.7274 - val_loss: 1.1352 - val_accuracy: 0.6413\n",
      "Epoch 7/100\n",
      "196/196 [==============================] - 1s 4ms/step - loss: 0.9483 - accuracy: 0.7314 - val_loss: 1.1583 - val_accuracy: 0.6247\n",
      "Epoch 8/100\n",
      "196/196 [==============================] - 1s 4ms/step - loss: 0.9331 - accuracy: 0.7434 - val_loss: 1.1634 - val_accuracy: 0.6445\n",
      "Epoch 9/100\n",
      "196/196 [==============================] - 1s 5ms/step - loss: 0.9204 - accuracy: 0.7591 - val_loss: 1.1998 - val_accuracy: 0.6311\n",
      "Epoch 10/100\n",
      "196/196 [==============================] - 1s 5ms/step - loss: 0.9023 - accuracy: 0.7785 - val_loss: 1.2178 - val_accuracy: 0.6355\n",
      "Epoch 11/100\n",
      "196/196 [==============================] - 1s 4ms/step - loss: 0.8962 - accuracy: 0.7879 - val_loss: 1.2584 - val_accuracy: 0.6317\n",
      "Epoch 12/100\n",
      "196/196 [==============================] - 1s 5ms/step - loss: 0.8766 - accuracy: 0.7980 - val_loss: 1.2815 - val_accuracy: 0.6132\n"
     ]
    }
   ],
   "source": [
    "history = model.fit(X_train, y_train_adj, epochs=100, batch_size=32, validation_split=0.2, callbacks=[earlyStopping]);"
   ]
  },
  {
   "cell_type": "code",
   "execution_count": 23,
   "id": "6adb0271649bb710",
   "metadata": {
    "collapsed": false,
    "ExecuteTime": {
     "end_time": "2024-03-01T12:38:26.275842Z",
     "start_time": "2024-03-01T12:38:26.133746Z"
    }
   },
   "outputs": [
    {
     "name": "stdout",
     "output_type": "stream",
     "text": [
      "62/62 [==============================] - 0s 2ms/step - loss: 1.0893 - accuracy: 0.6358\n",
      "Test Loss: 1.089, Test Accuracy: 0.636\n"
     ]
    }
   ],
   "source": [
    "loss, accuracy = model.evaluate(X_test, y_test_adj)\n",
    "print(f'Test Loss: {loss:.3f}, Test Accuracy: {accuracy:.3f}')"
   ]
  },
  {
   "cell_type": "code",
   "execution_count": 24,
   "id": "1f4e8daaf7e7261e",
   "metadata": {
    "collapsed": false,
    "ExecuteTime": {
     "end_time": "2024-03-01T12:38:26.280107Z",
     "start_time": "2024-03-01T12:38:26.277042Z"
    }
   },
   "outputs": [],
   "source": [
    "new_review_vector = tfidf_vectorizer_3000.transform([\"Cool but the pool was cold not very cool for us\"]).toarray()"
   ]
  },
  {
   "cell_type": "code",
   "execution_count": 25,
   "id": "f39b8751fdd5ce33",
   "metadata": {
    "collapsed": false,
    "ExecuteTime": {
     "end_time": "2024-03-01T12:38:26.337511Z",
     "start_time": "2024-03-01T12:38:26.281062Z"
    }
   },
   "outputs": [
    {
     "name": "stdout",
     "output_type": "stream",
     "text": [
      "1/1 [==============================] - 0s 37ms/step\n",
      "Note prédite: 5\n"
     ]
    }
   ],
   "source": [
    "prediction = model.predict(new_review_vector)\n",
    "predicted_rating = np.argmax(prediction) + 1\n",
    "print(f'Note prédite: {predicted_rating}')"
   ]
  },
  {
   "cell_type": "markdown",
   "source": [
    "### Model Random Forest Classifier\n"
   ],
   "metadata": {
    "collapsed": false
   },
   "id": "813f6659b4984004"
  },
  {
   "cell_type": "markdown",
   "source": [],
   "metadata": {
    "collapsed": false
   },
   "id": "7e0206a8048277f"
  },
  {
   "cell_type": "code",
   "outputs": [],
   "source": [
    "# Charger les données\n",
    "X = np.load('X_tfidf_3000.npy')\n",
    "y = np.load('y.npy')"
   ],
   "metadata": {
    "collapsed": false,
    "ExecuteTime": {
     "end_time": "2024-03-01T12:38:26.449297Z",
     "start_time": "2024-03-01T12:38:26.338839Z"
    }
   },
   "id": "3560925ee7a2ec9c",
   "execution_count": 26
  },
  {
   "cell_type": "code",
   "outputs": [],
   "source": [
    "# Diviser les données en ensembles d'entraînement et de test\n",
    "X_train, X_test, y_train, y_test = train_test_split(X, y, test_size=0.2, random_state=42)"
   ],
   "metadata": {
    "collapsed": false,
    "ExecuteTime": {
     "end_time": "2024-03-01T12:38:26.496781Z",
     "start_time": "2024-03-01T12:38:26.450164Z"
    }
   },
   "id": "574456c5ee0b66b4",
   "execution_count": 27
  },
  {
   "cell_type": "code",
   "outputs": [],
   "source": [
    "# Initialiser le modèle RandomForest\n",
    "modelRFC = RandomForestClassifier(n_estimators=100, random_state=42)"
   ],
   "metadata": {
    "collapsed": false,
    "ExecuteTime": {
     "end_time": "2024-03-01T12:38:26.499929Z",
     "start_time": "2024-03-01T12:38:26.497653Z"
    }
   },
   "id": "2ac5dadb3a0870c2",
   "execution_count": 28
  },
  {
   "cell_type": "code",
   "outputs": [
    {
     "data": {
      "text/plain": "RandomForestClassifier(random_state=42)",
      "text/html": "<style>#sk-container-id-1 {color: black;}#sk-container-id-1 pre{padding: 0;}#sk-container-id-1 div.sk-toggleable {background-color: white;}#sk-container-id-1 label.sk-toggleable__label {cursor: pointer;display: block;width: 100%;margin-bottom: 0;padding: 0.3em;box-sizing: border-box;text-align: center;}#sk-container-id-1 label.sk-toggleable__label-arrow:before {content: \"▸\";float: left;margin-right: 0.25em;color: #696969;}#sk-container-id-1 label.sk-toggleable__label-arrow:hover:before {color: black;}#sk-container-id-1 div.sk-estimator:hover label.sk-toggleable__label-arrow:before {color: black;}#sk-container-id-1 div.sk-toggleable__content {max-height: 0;max-width: 0;overflow: hidden;text-align: left;background-color: #f0f8ff;}#sk-container-id-1 div.sk-toggleable__content pre {margin: 0.2em;color: black;border-radius: 0.25em;background-color: #f0f8ff;}#sk-container-id-1 input.sk-toggleable__control:checked~div.sk-toggleable__content {max-height: 200px;max-width: 100%;overflow: auto;}#sk-container-id-1 input.sk-toggleable__control:checked~label.sk-toggleable__label-arrow:before {content: \"▾\";}#sk-container-id-1 div.sk-estimator input.sk-toggleable__control:checked~label.sk-toggleable__label {background-color: #d4ebff;}#sk-container-id-1 div.sk-label input.sk-toggleable__control:checked~label.sk-toggleable__label {background-color: #d4ebff;}#sk-container-id-1 input.sk-hidden--visually {border: 0;clip: rect(1px 1px 1px 1px);clip: rect(1px, 1px, 1px, 1px);height: 1px;margin: -1px;overflow: hidden;padding: 0;position: absolute;width: 1px;}#sk-container-id-1 div.sk-estimator {font-family: monospace;background-color: #f0f8ff;border: 1px dotted black;border-radius: 0.25em;box-sizing: border-box;margin-bottom: 0.5em;}#sk-container-id-1 div.sk-estimator:hover {background-color: #d4ebff;}#sk-container-id-1 div.sk-parallel-item::after {content: \"\";width: 100%;border-bottom: 1px solid gray;flex-grow: 1;}#sk-container-id-1 div.sk-label:hover label.sk-toggleable__label {background-color: #d4ebff;}#sk-container-id-1 div.sk-serial::before {content: \"\";position: absolute;border-left: 1px solid gray;box-sizing: border-box;top: 0;bottom: 0;left: 50%;z-index: 0;}#sk-container-id-1 div.sk-serial {display: flex;flex-direction: column;align-items: center;background-color: white;padding-right: 0.2em;padding-left: 0.2em;position: relative;}#sk-container-id-1 div.sk-item {position: relative;z-index: 1;}#sk-container-id-1 div.sk-parallel {display: flex;align-items: stretch;justify-content: center;background-color: white;position: relative;}#sk-container-id-1 div.sk-item::before, #sk-container-id-1 div.sk-parallel-item::before {content: \"\";position: absolute;border-left: 1px solid gray;box-sizing: border-box;top: 0;bottom: 0;left: 50%;z-index: -1;}#sk-container-id-1 div.sk-parallel-item {display: flex;flex-direction: column;z-index: 1;position: relative;background-color: white;}#sk-container-id-1 div.sk-parallel-item:first-child::after {align-self: flex-end;width: 50%;}#sk-container-id-1 div.sk-parallel-item:last-child::after {align-self: flex-start;width: 50%;}#sk-container-id-1 div.sk-parallel-item:only-child::after {width: 0;}#sk-container-id-1 div.sk-dashed-wrapped {border: 1px dashed gray;margin: 0 0.4em 0.5em 0.4em;box-sizing: border-box;padding-bottom: 0.4em;background-color: white;}#sk-container-id-1 div.sk-label label {font-family: monospace;font-weight: bold;display: inline-block;line-height: 1.2em;}#sk-container-id-1 div.sk-label-container {text-align: center;}#sk-container-id-1 div.sk-container {/* jupyter's `normalize.less` sets `[hidden] { display: none; }` but bootstrap.min.css set `[hidden] { display: none !important; }` so we also need the `!important` here to be able to override the default hidden behavior on the sphinx rendered scikit-learn.org. See: https://github.com/scikit-learn/scikit-learn/issues/21755 */display: inline-block !important;position: relative;}#sk-container-id-1 div.sk-text-repr-fallback {display: none;}</style><div id=\"sk-container-id-1\" class=\"sk-top-container\"><div class=\"sk-text-repr-fallback\"><pre>RandomForestClassifier(random_state=42)</pre><b>In a Jupyter environment, please rerun this cell to show the HTML representation or trust the notebook. <br />On GitHub, the HTML representation is unable to render, please try loading this page with nbviewer.org.</b></div><div class=\"sk-container\" hidden><div class=\"sk-item\"><div class=\"sk-estimator sk-toggleable\"><input class=\"sk-toggleable__control sk-hidden--visually\" id=\"sk-estimator-id-1\" type=\"checkbox\" checked><label for=\"sk-estimator-id-1\" class=\"sk-toggleable__label sk-toggleable__label-arrow\">RandomForestClassifier</label><div class=\"sk-toggleable__content\"><pre>RandomForestClassifier(random_state=42)</pre></div></div></div></div></div>"
     },
     "execution_count": 29,
     "metadata": {},
     "output_type": "execute_result"
    }
   ],
   "source": [
    "# Entraîner le modèle\n",
    "modelRFC.fit(X_train, y_train)"
   ],
   "metadata": {
    "collapsed": false,
    "ExecuteTime": {
     "end_time": "2024-03-01T12:38:30.811028Z",
     "start_time": "2024-03-01T12:38:26.504799Z"
    }
   },
   "id": "931a4925687cf519",
   "execution_count": 29
  },
  {
   "cell_type": "code",
   "outputs": [
    {
     "name": "stdout",
     "output_type": "stream",
     "text": [
      "Rapport de classification :\n",
      "              precision    recall  f1-score   support\n",
      "\n",
      "           1       0.76      0.31      0.44       108\n",
      "           2       0.67      0.02      0.04       105\n",
      "           3       0.50      0.11      0.18       231\n",
      "           4       0.41      0.29      0.34       552\n",
      "           5       0.61      0.93      0.73       959\n",
      "\n",
      "    accuracy                           0.57      1955\n",
      "   macro avg       0.59      0.33      0.35      1955\n",
      "weighted avg       0.55      0.57      0.50      1955\n"
     ]
    }
   ],
   "source": [
    "# Prédire les étiquettes sur l'ensemble de test\n",
    "y_pred = modelRFC.predict(X_test)\n",
    "\n",
    "# Afficher le rapport de classification\n",
    "print(\"Rapport de classification :\")\n",
    "print(classification_report(y_test, y_pred))"
   ],
   "metadata": {
    "collapsed": false,
    "ExecuteTime": {
     "end_time": "2024-03-01T12:38:30.909363Z",
     "start_time": "2024-03-01T12:38:30.811902Z"
    }
   },
   "id": "a01b1884823e6502",
   "execution_count": 30
  },
  {
   "cell_type": "code",
   "outputs": [
    {
     "name": "stdout",
     "output_type": "stream",
     "text": [
      "Matrice de confusion :\n"
     ]
    },
    {
     "data": {
      "text/plain": "<Figure size 1000x700 with 2 Axes>",
      "image/png": "[encoded data removed]"
     },
     "metadata": {},
     "output_type": "display_data"
    }
   ],
   "source": [
    "# Afficher la matrice de confusion\n",
    "print(\"Matrice de confusion :\")\n",
    "cm = confusion_matrix(y_test, y_pred)\n",
    "plt.figure(figsize=(10, 7))\n",
    "plt.imshow(cm, interpolation='nearest', cmap=plt.cm.Wistia)\n",
    "plt.title('Matrice de confusion')\n",
    "plt.colorbar()\n",
    "tick_marks = np.arange(len(np.unique(y)))\n",
    "plt.xticks(tick_marks, np.unique(y), rotation=45)\n",
    "plt.yticks(tick_marks, np.unique(y))\n",
    "plt.tight_layout()\n",
    "plt.ylabel('Vrai label')\n",
    "plt.xlabel('Label prédit')\n",
    "plt.show()"
   ],
   "metadata": {
    "collapsed": false,
    "ExecuteTime": {
     "end_time": "2024-03-01T12:38:31.033610Z",
     "start_time": "2024-03-01T12:38:30.911014Z"
    }
   },
   "id": "9dd1149e33143fe0",
   "execution_count": 31
  },
  {
   "cell_type": "code",
   "outputs": [
    {
     "data": {
      "text/plain": "<Figure size 640x480 with 1 Axes>",
      "image/png": "[encoded data removed]"
     },
     "metadata": {},
     "output_type": "display_data"
    }
   ],
   "source": [
    "# Importance des caractéristiques\n",
    "importances = modelRFC.feature_importances_\n",
    "indices = np.argsort(importances)[::-1]\n",
    "\n",
    "plt.figure()\n",
    "plt.title(\"Importance des caractéristiques\")\n",
    "plt.bar(range(X_train.shape[1]), importances[indices],\n",
    "       color=\"r\", align=\"center\")\n",
    "plt.xticks(range(X_train.shape[1]), indices)\n",
    "plt.xlim([-1, X_train.shape[1]])\n",
    "plt.show()"
   ],
   "metadata": {
    "collapsed": false,
    "ExecuteTime": {
     "end_time": "2024-03-01T12:38:36.690922Z",
     "start_time": "2024-03-01T12:38:31.034636Z"
    }
   },
   "id": "6ede7b0e460792d2",
   "execution_count": 32
  },
  {
   "cell_type": "code",
   "outputs": [
    {
     "name": "stdout",
     "output_type": "stream",
     "text": [
      "{'max_depth': None, 'n_estimators': 200}\n"
     ]
    }
   ],
   "source": [
    "# Ajustement des hyperparamètres avec GridSearchCV\n",
    "param_grid = {'n_estimators': [100, 200], 'max_depth': [None, 10, 20]}\n",
    "grid_search = GridSearchCV(RandomForestClassifier(random_state=42), param_grid, cv=5)\n",
    "grid_search.fit(X_train, y_train)\n",
    "\n",
    "#print(\"Meilleurs paramètres trouvés :\")\n",
    "print(grid_search.best_params_)"
   ],
   "metadata": {
    "collapsed": false,
    "ExecuteTime": {
     "end_time": "2024-03-01T12:40:27.117827Z",
     "start_time": "2024-03-01T12:38:36.691763Z"
    }
   },
   "id": "b274c23b4e976199",
   "execution_count": 33
  },
  {
   "cell_type": "code",
   "outputs": [],
   "source": [
    "# Entraîner le modèle avec les meilleurs paramètres\n",
    "best_model = grid_search.best_estimator_"
   ],
   "metadata": {
    "collapsed": false,
    "ExecuteTime": {
     "end_time": "2024-03-01T12:40:27.120622Z",
     "start_time": "2024-03-01T12:40:27.118766Z"
    }
   },
   "id": "49ba03015e76e5ab",
   "execution_count": 34
  },
  {
   "cell_type": "code",
   "outputs": [
    {
     "data": {
      "text/plain": "['random_forest_model.joblib']"
     },
     "execution_count": 35,
     "metadata": {},
     "output_type": "execute_result"
    }
   ],
   "source": [
    "# Sauvegarder le modèle\n",
    "joblib.dump(best_model, 'random_forest_model.joblib')"
   ],
   "metadata": {
    "collapsed": false,
    "ExecuteTime": {
     "end_time": "2024-03-01T12:40:27.239363Z",
     "start_time": "2024-03-01T12:40:27.121787Z"
    }
   },
   "id": "8aae4a93c3c084c1",
   "execution_count": 35
  },
  {
   "cell_type": "code",
   "outputs": [],
   "source": [
    "# Charger le modèle\n",
    "loaded_model = joblib.load('random_forest_model.joblib')"
   ],
   "metadata": {
    "collapsed": false,
    "ExecuteTime": {
     "end_time": "2024-03-01T12:40:27.321830Z",
     "start_time": "2024-03-01T12:40:27.240117Z"
    }
   },
   "id": "250fe716b1da96da",
   "execution_count": 36
  },
  {
   "cell_type": "code",
   "outputs": [
    {
     "name": "stdout",
     "output_type": "stream",
     "text": [
      "Rapport de classification du modèle chargé :\n",
      "              precision    recall  f1-score   support\n",
      "\n",
      "           1       0.78      0.33      0.47       108\n",
      "           2       0.67      0.02      0.04       105\n",
      "           3       0.51      0.11      0.18       231\n",
      "           4       0.43      0.29      0.34       552\n",
      "           5       0.61      0.95      0.74       959\n",
      "\n",
      "    accuracy                           0.58      1955\n",
      "   macro avg       0.60      0.34      0.36      1955\n",
      "weighted avg       0.56      0.58      0.51      1955\n"
     ]
    }
   ],
   "source": [
    "# Utiliser le modèle chargé pour faire des prédictions\n",
    "loaded_model_pred = loaded_model.predict(X_test)\n",
    "print(\"Rapport de classification du modèle chargé :\")\n",
    "print(classification_report(y_test, loaded_model_pred))"
   ],
   "metadata": {
    "collapsed": false,
    "ExecuteTime": {
     "end_time": "2024-03-01T12:40:27.464658Z",
     "start_time": "2024-03-01T12:40:27.322550Z"
    }
   },
   "id": "cdc119d26072827f",
   "execution_count": 37
  },
  {
   "cell_type": "code",
   "outputs": [],
   "source": [
    "# Charger le modèle RandomForest\n",
    "modelRFC = joblib.load('random_forest_model.joblib')"
   ],
   "metadata": {
    "collapsed": false,
    "ExecuteTime": {
     "end_time": "2024-03-01T12:40:27.548159Z",
     "start_time": "2024-03-01T12:40:27.465399Z"
    }
   },
   "id": "d1b6446ce4cffab9",
   "execution_count": 38
  },
  {
   "cell_type": "code",
   "outputs": [],
   "source": [
    "# Nouvelle entrée d'avis\n",
    "new_review = [\"I hate this hotel !\"]"
   ],
   "metadata": {
    "collapsed": false,
    "ExecuteTime": {
     "end_time": "2024-03-01T12:40:27.550715Z",
     "start_time": "2024-03-01T12:40:27.548957Z"
    }
   },
   "id": "3447edb03cb4473e",
   "execution_count": 39
  },
  {
   "cell_type": "code",
   "outputs": [],
   "source": [
    "# Transformer l'avis en utilisant le vectoriseur TF-IDF chargé\n",
    "new_review_tfidf = tfidf_vectorizer_3000.transform(new_review).toarray()"
   ],
   "metadata": {
    "collapsed": false,
    "ExecuteTime": {
     "end_time": "2024-03-01T12:40:27.554098Z",
     "start_time": "2024-03-01T12:40:27.551681Z"
    }
   },
   "id": "87d7e05fa3b3d53b",
   "execution_count": 40
  },
  {
   "cell_type": "code",
   "outputs": [],
   "source": [
    "# Prédire la note pour la nouvelle entrée\n",
    "predicted_note = modelRFC.predict(new_review_tfidf)"
   ],
   "metadata": {
    "collapsed": false,
    "ExecuteTime": {
     "end_time": "2024-03-01T12:40:27.561764Z",
     "start_time": "2024-03-01T12:40:27.554777Z"
    }
   },
   "id": "1316135e510aa27d",
   "execution_count": 41
  },
  {
   "cell_type": "code",
   "outputs": [
    {
     "name": "stdout",
     "output_type": "stream",
     "text": [
      "La note prédite pour l'avis est : 5\n"
     ]
    }
   ],
   "source": [
    "print(\"La note prédite pour l'avis est :\", predicted_note[0])"
   ],
   "metadata": {
    "collapsed": false,
    "ExecuteTime": {
     "end_time": "2024-03-01T12:40:27.565386Z",
     "start_time": "2024-03-01T12:40:27.562660Z"
    }
   },
   "id": "f0595a4642281a75",
   "execution_count": 42
  },
  {
   "cell_type": "code",
   "outputs": [],
   "source": [
    "### Model XBoost"
   ],
   "metadata": {
    "collapsed": false,
    "ExecuteTime": {
     "end_time": "2024-03-01T12:40:27.567937Z",
     "start_time": "2024-03-01T12:40:27.566124Z"
    }
   },
   "id": "b0063a7125200f0e",
   "execution_count": 43
  },
  {
   "cell_type": "code",
   "outputs": [],
   "source": [
    "# Charger les données\n",
    "X = np.load('X_tfidf_1000.npy')\n",
    "y = np.load('y.npy')"
   ],
   "metadata": {
    "collapsed": false,
    "ExecuteTime": {
     "end_time": "2024-03-01T12:40:27.598217Z",
     "start_time": "2024-03-01T12:40:27.568518Z"
    }
   },
   "id": "ea65ef08c7749d4b",
   "execution_count": 44
  },
  {
   "cell_type": "code",
   "outputs": [],
   "source": [
    "# Diviser les données en ensembles d'entraînement et de test\n",
    "X_train, X_test, y_train, y_test = train_test_split(X, y, test_size=0.2, random_state=42)"
   ],
   "metadata": {
    "collapsed": false,
    "ExecuteTime": {
     "end_time": "2024-03-01T12:40:27.617097Z",
     "start_time": "2024-03-01T12:40:27.599379Z"
    }
   },
   "id": "a316da57ed65bb0e",
   "execution_count": 45
  },
  {
   "cell_type": "code",
   "outputs": [],
   "source": [
    "# Modifier les étiquettes pour qu'elles commencent à 0\n",
    "y_train_adjusted = y_train - 1\n",
    "y_test_adjusted = y_test - 1"
   ],
   "metadata": {
    "collapsed": false,
    "ExecuteTime": {
     "end_time": "2024-03-01T12:40:27.620032Z",
     "start_time": "2024-03-01T12:40:27.617785Z"
    }
   },
   "id": "20fd41b86dd2eef5",
   "execution_count": 46
  },
  {
   "cell_type": "code",
   "outputs": [],
   "source": [
    "# Initialiser le modèle XGBoost\n",
    "model = XGBClassifier()\n",
    "\n",
    "# Entraîner le modèle\n",
    "model.fit(X_train, y_train_adjusted)\n",
    "\n",
    "# Prédire les étiquettes sur l'ensemble de test\n",
    "y_pred = model.predict(X_test)"
   ],
   "metadata": {
    "collapsed": false,
    "ExecuteTime": {
     "end_time": "2024-03-01T12:40:37.811388Z",
     "start_time": "2024-03-01T12:40:27.620714Z"
    }
   },
   "id": "e4bc80863d59e414",
   "execution_count": 47
  },
  {
   "cell_type": "code",
   "outputs": [
    {
     "name": "stdout",
     "output_type": "stream",
     "text": [
      "Rapport de classification :\n",
      "              precision    recall  f1-score   support\n",
      "\n",
      "           0       0.60      0.49      0.54       108\n",
      "           1       0.38      0.20      0.26       105\n",
      "           2       0.44      0.30      0.36       231\n",
      "           3       0.46      0.45      0.45       552\n",
      "           4       0.71      0.83      0.77       959\n",
      "\n",
      "    accuracy                           0.61      1955\n",
      "   macro avg       0.52      0.45      0.48      1955\n",
      "weighted avg       0.58      0.61      0.59      1955\n"
     ]
    }
   ],
   "source": [
    "# Afficher le rapport de classification\n",
    "print(\"Rapport de classification :\")\n",
    "print(classification_report(y_test_adjusted, y_pred))"
   ],
   "metadata": {
    "collapsed": false,
    "ExecuteTime": {
     "end_time": "2024-03-01T12:40:37.819291Z",
     "start_time": "2024-03-01T12:40:37.812358Z"
    }
   },
   "id": "149ab74d0a4c0f80",
   "execution_count": 48
  },
  {
   "cell_type": "code",
   "outputs": [
    {
     "name": "stdout",
     "output_type": "stream",
     "text": [
      "Matrice de confusion :\n"
     ]
    },
    {
     "data": {
      "text/plain": "<Figure size 1000x700 with 2 Axes>",
      "image/png": "[encoded data removed]"
     },
     "metadata": {},
     "output_type": "display_data"
    }
   ],
   "source": [
    "# Afficher la matrice de confusion\n",
    "print(\"Matrice de confusion :\")\n",
    "cm = confusion_matrix(y_test_adjusted, y_pred)\n",
    "plt.figure(figsize=(10, 7))\n",
    "plt.imshow(cm, interpolation='nearest', cmap=plt.cm.viridis)  # Remplacement de Wistia par viridis\n",
    "plt.title('Matrice de confusion')\n",
    "plt.colorbar()\n",
    "tick_marks = np.arange(len(np.unique(y)))\n",
    "plt.xticks(tick_marks, np.unique(y), rotation=45)\n",
    "plt.yticks(tick_marks, np.unique(y))\n",
    "plt.tight_layout()\n",
    "plt.ylabel('Vrai label')\n",
    "plt.xlabel('Label prédit')\n",
    "plt.show()"
   ],
   "metadata": {
    "collapsed": false,
    "ExecuteTime": {
     "end_time": "2024-03-01T12:40:37.938471Z",
     "start_time": "2024-03-01T12:40:37.820418Z"
    }
   },
   "id": "78d7ec7a0152fdcb",
   "execution_count": 49
  },
  {
   "cell_type": "code",
   "outputs": [
    {
     "data": {
      "text/plain": "<Figure size 640x480 with 1 Axes>",
      "image/png": "[encoded data removed]"
     },
     "metadata": {},
     "output_type": "display_data"
    }
   ],
   "source": [
    "# Importance des caractéristiques\n",
    "importances = model.feature_importances_\n",
    "indices = np.argsort(importances)[::-1]\n",
    "\n",
    "plt.figure()\n",
    "plt.title(\"Importance des caractéristiques\")\n",
    "plt.bar(range(X_train.shape[1]), importances[indices],\n",
    "       color=\"r\", align=\"center\")\n",
    "plt.xticks(range(X_train.shape[1]), indices)\n",
    "plt.xlim([-1, X_train.shape[1]])\n",
    "plt.show()"
   ],
   "metadata": {
    "collapsed": false,
    "ExecuteTime": {
     "end_time": "2024-03-01T12:40:39.891915Z",
     "start_time": "2024-03-01T12:40:37.939594Z"
    }
   },
   "id": "94952d59f0b65763",
   "execution_count": 50
  },
  {
   "cell_type": "code",
   "outputs": [
    {
     "name": "stdout",
     "output_type": "stream",
     "text": [
      "{'max_depth': None, 'n_estimators': 200}\n"
     ]
    }
   ],
   "source": [
    "# Ajustement des hyperparamètres avec GridSearchCV\n",
    "param_grid = {'n_estimators': [100, 200], 'max_depth': [None, 10, 20]}\n",
    "grid_search = GridSearchCV(XGBClassifier(), param_grid, cv=5)\n",
    "grid_search.fit(X_train, y_train_adjusted)\n",
    "\n",
    "#print(\"Meilleurs paramètres trouvés :\")\n",
    "print(grid_search.best_params_)"
   ],
   "metadata": {
    "collapsed": false,
    "ExecuteTime": {
     "end_time": "2024-03-01T12:52:25.932009Z",
     "start_time": "2024-03-01T12:40:39.892839Z"
    }
   },
   "id": "2c35adb653de4227",
   "execution_count": 51
  },
  {
   "cell_type": "code",
   "outputs": [],
   "source": [
    "# Entraîner le modèle avec les meilleurs paramètres\n",
    "best_model = grid_search.best_estimator_\n",
    "\n",
    "# Sauvegarder le modèle\n",
    "joblib.dump(best_model, 'xgboost_model.joblib')\n",
    "\n",
    "# Charger le modèle\n",
    "loaded_model = joblib.load('xgboost_model.joblib')"
   ],
   "metadata": {
    "collapsed": false,
    "ExecuteTime": {
     "end_time": "2024-03-01T12:52:25.970420Z",
     "start_time": "2024-03-01T12:52:25.933688Z"
    }
   },
   "id": "491f0b9266703b2",
   "execution_count": 52
  },
  {
   "cell_type": "code",
   "outputs": [
    {
     "name": "stdout",
     "output_type": "stream",
     "text": [
      "Rapport de classification du modèle chargé :\n",
      "              precision    recall  f1-score   support\n",
      "\n",
      "           0       0.69      0.53      0.60       108\n",
      "           1       0.34      0.19      0.25       105\n",
      "           2       0.46      0.34      0.39       231\n",
      "           3       0.47      0.45      0.46       552\n",
      "           4       0.71      0.83      0.76       959\n",
      "\n",
      "    accuracy                           0.61      1955\n",
      "   macro avg       0.54      0.47      0.49      1955\n",
      "weighted avg       0.59      0.61      0.60      1955\n"
     ]
    }
   ],
   "source": [
    "# Utiliser le modèle chargé pour faire des prédictions\n",
    "loaded_model_pred = loaded_model.predict(X_test)\n",
    "print(\"Rapport de classification du modèle chargé :\")\n",
    "print(classification_report(y_test_adjusted, loaded_model_pred))"
   ],
   "metadata": {
    "collapsed": false,
    "ExecuteTime": {
     "end_time": "2024-03-01T12:52:25.990476Z",
     "start_time": "2024-03-01T12:52:25.971627Z"
    }
   },
   "id": "d5b234f5d787f99a",
   "execution_count": 53
  },
  {
   "cell_type": "code",
   "outputs": [],
   "source": [
    "# Nouvelle entrée d'avis\n",
    "new_review = [\"I hate this hotel !\"]"
   ],
   "metadata": {
    "collapsed": false,
    "ExecuteTime": {
     "end_time": "2024-03-01T12:52:25.993800Z",
     "start_time": "2024-03-01T12:52:25.991691Z"
    }
   },
   "id": "639cc73a85b36144",
   "execution_count": 54
  },
  {
   "cell_type": "code",
   "outputs": [],
   "source": [
    "# Transformer l'avis en utilisant le vectoriseur TF-IDF chargé\n",
    "new_review_tfidf = tfidf_vectorizer_1000.transform(new_review).toarray()"
   ],
   "metadata": {
    "collapsed": false,
    "ExecuteTime": {
     "end_time": "2024-03-01T12:52:25.999566Z",
     "start_time": "2024-03-01T12:52:25.994810Z"
    }
   },
   "id": "c4fae6f30689b5dc",
   "execution_count": 55
  },
  {
   "cell_type": "code",
   "outputs": [
    {
     "name": "stdout",
     "output_type": "stream",
     "text": [
      "La note prédite pour l'avis est : 4\n"
     ]
    }
   ],
   "source": [
    "# Prédire la note pour la nouvelle entrée\n",
    "predicted_note = loaded_model.predict(new_review_tfidf)\n",
    "print(\"La note prédite pour l'avis est :\", predicted_note[0])"
   ],
   "metadata": {
    "collapsed": false,
    "ExecuteTime": {
     "end_time": "2024-03-01T12:52:26.003691Z",
     "start_time": "2024-03-01T12:52:26.000790Z"
    }
   },
   "id": "cdaa21f0122af076",
   "execution_count": 56
  }
 ],
 "metadata": {
  "kernelspec": {
   "display_name": "Python 3",
   "language": "python",
   "name": "python3"
  },
  "language_info": {
   "codemirror_mode": {
    "name": "ipython",
    "version": 2
   },
   "file_extension": ".py",
   "mimetype": "text/x-python",
   "name": "python",
   "nbconvert_exporter": "python",
   "pygments_lexer": "ipython2",
   "version": "2.7.6"
  }
 },
 "nbformat": 4,
 "nbformat_minor": 5
}
