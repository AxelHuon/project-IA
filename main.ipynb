{
 "cells": [
  {
   "cell_type": "code",
   "execution_count": 36,
   "id": "initial_id",
   "metadata": {
    "collapsed": true,
    "ExecuteTime": {
     "end_time": "2024-03-02T10:18:34.532696Z",
     "start_time": "2024-03-02T10:18:34.529050Z"
    }
   },
   "outputs": [],
   "source": [
    "from langdetect import detect, LangDetectException\n",
    "import matplotlib.pyplot as plt\n",
    "import pandas as pd\n",
    "import re\n",
    "import joblib\n",
    "from xgboost import XGBClassifier\n",
    "import string\n",
    "import nltk\n",
    "from nltk.corpus import stopwords\n",
    "from sklearn.ensemble import RandomForestClassifier\n",
    "from sklearn.model_selection import train_test_split, GridSearchCV\n",
    "from sklearn.feature_extraction.text import TfidfVectorizer\n",
    "import numpy as np\n",
    "from sklearn.metrics import classification_report, confusion_matrix\n",
    "from tensorflow.keras.preprocessing.text import Tokenizer\n",
    "from tensorflow.keras.preprocessing.sequence import pad_sequences\n",
    "from tensorflow.keras.models import Sequential\n",
    "from tensorflow.keras.layers import Dense, Dropout\n",
    "from sklearn.model_selection import train_test_split\n",
    "from tensorflow.keras.callbacks import EarlyStopping\n",
    "from tensorflow.keras.regularizers import l2"
   ]
  },
  {
   "cell_type": "code",
   "execution_count": 37,
   "id": "28d367eda5183285",
   "metadata": {
    "collapsed": false,
    "ExecuteTime": {
     "end_time": "2024-03-02T10:18:35.038935Z",
     "start_time": "2024-03-02T10:18:34.534246Z"
    }
   },
   "outputs": [],
   "source": [
    "# Chargement des données à partir d'un fichier CSV\n",
    "df = pd.read_csv(\"Datafiniti_Hotel_Reviews_Jun19.csv\", sep=',')"
   ]
  },
  {
   "cell_type": "code",
   "execution_count": 38,
   "id": "c27725768065dd19",
   "metadata": {
    "collapsed": false,
    "ExecuteTime": {
     "end_time": "2024-03-02T10:18:35.047268Z",
     "start_time": "2024-03-02T10:18:35.039798Z"
    }
   },
   "outputs": [
    {
     "data": {
      "text/plain": "      reviews.rating                                       reviews.text  \\\n0                  3  This hotel was nice and quiet. Did not know, t...   \n1                  4  We stayed in the king suite with the separatio...   \n2                  3  Parking was horrible, somebody ran into my ren...   \n3                  5  Not cheap but excellent location. Price is som...   \n4                  2  If you get the room that they advertised on th...   \n...              ...                                                ...   \n9995               4  My friends and I took a trip to Hampton for th...   \n9996               5  from check in to departure, staff is friendly,...   \n9997               5  This Hampton is located on a quiet street acro...   \n9998               5  Awesome wings (my favorite was garlic parmesan...   \n9999               4  Clean facility just off freeway ..... staff fr...   \n\n                                          reviews.title  \n0                               Best Western Plus Hotel  \n1     Clean rooms at solid rates in the heart of Carmel  \n2                                              Business  \n3                                             Very good  \n4                          Low chance to come back here  \n...                                                 ...  \n9995             Very accommodating and friendly staff!  \n9996         comfortable, friendly, clean, professional  \n9997                                     Great location  \n9998                                  Great Atmosphere!  \n9999                           Health care appointments  \n\n[10000 rows x 3 columns]",
      "text/html": "<div>\n<style scoped>\n    .dataframe tbody tr th:only-of-type {\n        vertical-align: middle;\n    }\n\n    .dataframe tbody tr th {\n        vertical-align: top;\n    }\n\n    .dataframe thead th {\n        text-align: right;\n    }\n</style>\n<table border=\"1\" class=\"dataframe\">\n  <thead>\n    <tr style=\"text-align: right;\">\n      <th></th>\n      <th>reviews.rating</th>\n      <th>reviews.text</th>\n      <th>reviews.title</th>\n    </tr>\n  </thead>\n  <tbody>\n    <tr>\n      <th>0</th>\n      <td>3</td>\n      <td>This hotel was nice and quiet. Did not know, t...</td>\n      <td>Best Western Plus Hotel</td>\n    </tr>\n    <tr>\n      <th>1</th>\n      <td>4</td>\n      <td>We stayed in the king suite with the separatio...</td>\n      <td>Clean rooms at solid rates in the heart of Carmel</td>\n    </tr>\n    <tr>\n      <th>2</th>\n      <td>3</td>\n      <td>Parking was horrible, somebody ran into my ren...</td>\n      <td>Business</td>\n    </tr>\n    <tr>\n      <th>3</th>\n      <td>5</td>\n      <td>Not cheap but excellent location. Price is som...</td>\n      <td>Very good</td>\n    </tr>\n    <tr>\n      <th>4</th>\n      <td>2</td>\n      <td>If you get the room that they advertised on th...</td>\n      <td>Low chance to come back here</td>\n    </tr>\n    <tr>\n      <th>...</th>\n      <td>...</td>\n      <td>...</td>\n      <td>...</td>\n    </tr>\n    <tr>\n      <th>9995</th>\n      <td>4</td>\n      <td>My friends and I took a trip to Hampton for th...</td>\n      <td>Very accommodating and friendly staff!</td>\n    </tr>\n    <tr>\n      <th>9996</th>\n      <td>5</td>\n      <td>from check in to departure, staff is friendly,...</td>\n      <td>comfortable, friendly, clean, professional</td>\n    </tr>\n    <tr>\n      <th>9997</th>\n      <td>5</td>\n      <td>This Hampton is located on a quiet street acro...</td>\n      <td>Great location</td>\n    </tr>\n    <tr>\n      <th>9998</th>\n      <td>5</td>\n      <td>Awesome wings (my favorite was garlic parmesan...</td>\n      <td>Great Atmosphere!</td>\n    </tr>\n    <tr>\n      <th>9999</th>\n      <td>4</td>\n      <td>Clean facility just off freeway ..... staff fr...</td>\n      <td>Health care appointments</td>\n    </tr>\n  </tbody>\n</table>\n<p>10000 rows × 3 columns</p>\n</div>"
     },
     "execution_count": 38,
     "metadata": {},
     "output_type": "execute_result"
    }
   ],
   "source": [
    "# Sélection des colonnes pertinentes pour l'analyse\n",
    "df = df.loc[:, ['reviews.rating', 'reviews.text', 'reviews.title']]\n",
    "df"
   ]
  },
  {
   "cell_type": "code",
   "execution_count": 39,
   "id": "2cc6df0a30bc4bf5",
   "metadata": {
    "collapsed": false,
    "ExecuteTime": {
     "end_time": "2024-03-02T10:18:35.051600Z",
     "start_time": "2024-03-02T10:18:35.048603Z"
    }
   },
   "outputs": [],
   "source": [
    "# Conversion des types de données pour s'assurer de leur uniformité\n",
    "df = df.astype({'reviews.rating': 'int', 'reviews.title': 'str', 'reviews.text': 'str'})"
   ]
  },
  {
   "cell_type": "code",
   "execution_count": 40,
   "id": "86d511e3b718bdaa",
   "metadata": {
    "collapsed": false,
    "ExecuteTime": {
     "end_time": "2024-03-02T10:18:35.098216Z",
     "start_time": "2024-03-02T10:18:35.052220Z"
    }
   },
   "outputs": [],
   "source": [
    "# Concaténation du titre et du texte des avis pour enrichir les données textuelles\n",
    "df.loc[:, 'reviews.text'] = df.apply(lambda row: str(row['reviews.title']) + \". \" + str(row['reviews.text']), axis=1)\n",
    "if \"reviews.title\" in df.columns:\n",
    "    df = df.drop(\"reviews.title\", axis=1)# Suppression de la colonne du titre après concaténation"
   ]
  },
  {
   "cell_type": "code",
   "execution_count": 41,
   "id": "25f4d522fc999eca",
   "metadata": {
    "collapsed": false,
    "ExecuteTime": {
     "end_time": "2024-03-02T10:18:35.103798Z",
     "start_time": "2024-03-02T10:18:35.099115Z"
    }
   },
   "outputs": [
    {
     "data": {
      "text/plain": "      reviews.rating                                       reviews.text\n0                  3  Best Western Plus Hotel. This hotel was nice a...\n1                  4  Clean rooms at solid rates in the heart of Car...\n2                  3  Business. Parking was horrible, somebody ran i...\n3                  5  Very good. Not cheap but excellent location. P...\n4                  2  Low chance to come back here. If you get the r...\n...              ...                                                ...\n9995               4  Very accommodating and friendly staff!. My fri...\n9996               5  comfortable, friendly, clean, professional. fr...\n9997               5  Great location. This Hampton is located on a q...\n9998               5  Great Atmosphere!. Awesome wings (my favorite ...\n9999               4  Health care appointments. Clean facility just ...\n\n[10000 rows x 2 columns]",
      "text/html": "<div>\n<style scoped>\n    .dataframe tbody tr th:only-of-type {\n        vertical-align: middle;\n    }\n\n    .dataframe tbody tr th {\n        vertical-align: top;\n    }\n\n    .dataframe thead th {\n        text-align: right;\n    }\n</style>\n<table border=\"1\" class=\"dataframe\">\n  <thead>\n    <tr style=\"text-align: right;\">\n      <th></th>\n      <th>reviews.rating</th>\n      <th>reviews.text</th>\n    </tr>\n  </thead>\n  <tbody>\n    <tr>\n      <th>0</th>\n      <td>3</td>\n      <td>Best Western Plus Hotel. This hotel was nice a...</td>\n    </tr>\n    <tr>\n      <th>1</th>\n      <td>4</td>\n      <td>Clean rooms at solid rates in the heart of Car...</td>\n    </tr>\n    <tr>\n      <th>2</th>\n      <td>3</td>\n      <td>Business. Parking was horrible, somebody ran i...</td>\n    </tr>\n    <tr>\n      <th>3</th>\n      <td>5</td>\n      <td>Very good. Not cheap but excellent location. P...</td>\n    </tr>\n    <tr>\n      <th>4</th>\n      <td>2</td>\n      <td>Low chance to come back here. If you get the r...</td>\n    </tr>\n    <tr>\n      <th>...</th>\n      <td>...</td>\n      <td>...</td>\n    </tr>\n    <tr>\n      <th>9995</th>\n      <td>4</td>\n      <td>Very accommodating and friendly staff!. My fri...</td>\n    </tr>\n    <tr>\n      <th>9996</th>\n      <td>5</td>\n      <td>comfortable, friendly, clean, professional. fr...</td>\n    </tr>\n    <tr>\n      <th>9997</th>\n      <td>5</td>\n      <td>Great location. This Hampton is located on a q...</td>\n    </tr>\n    <tr>\n      <th>9998</th>\n      <td>5</td>\n      <td>Great Atmosphere!. Awesome wings (my favorite ...</td>\n    </tr>\n    <tr>\n      <th>9999</th>\n      <td>4</td>\n      <td>Health care appointments. Clean facility just ...</td>\n    </tr>\n  </tbody>\n</table>\n<p>10000 rows × 2 columns</p>\n</div>"
     },
     "execution_count": 41,
     "metadata": {},
     "output_type": "execute_result"
    }
   ],
   "source": [
    "df"
   ]
  },
  {
   "cell_type": "markdown",
   "source": [],
   "metadata": {
    "collapsed": false
   },
   "id": "35a96bd763b75ac7"
  },
  {
   "cell_type": "code",
   "execution_count": 42,
   "id": "15fbcc21c39bc3f1",
   "metadata": {
    "collapsed": false,
    "ExecuteTime": {
     "end_time": "2024-03-02T10:18:35.127735Z",
     "start_time": "2024-03-02T10:18:35.104649Z"
    }
   },
   "outputs": [],
   "source": [
    "# Nettoyage des données en supprimant les lignes sans notes ou texte et les doublons\n",
    "df = df.dropna(subset=['reviews.rating', 'reviews.text'])\n",
    "df = df.drop_duplicates()"
   ]
  },
  {
   "cell_type": "code",
   "execution_count": 43,
   "id": "9be8dbb87d39dfc4",
   "metadata": {
    "collapsed": false,
    "ExecuteTime": {
     "end_time": "2024-03-02T10:18:35.188292Z",
     "start_time": "2024-03-02T10:18:35.130756Z"
    }
   },
   "outputs": [],
   "source": [
    "# Nettoyage du texte des avis en supprimant les caractères spéciaux\n",
    "df['reviews.text'] = df['reviews.text'].str.replace('[^a-zA-Z0-9 @]', '', regex=True)\n",
    "df = df.dropna(subset=['reviews.text'])\n",
    "df = df[df['reviews.text'] != '']"
   ]
  },
  {
   "cell_type": "code",
   "execution_count": 44,
   "id": "e51c74e6f25668f1",
   "metadata": {
    "collapsed": false,
    "ExecuteTime": {
     "end_time": "2024-03-02T10:19:00.904062Z",
     "start_time": "2024-03-02T10:18:35.188976Z"
    }
   },
   "outputs": [],
   "source": [
    "# Détection de la langue des avis pour filtrer et garder uniquement ceux en anglais\n",
    "def detect_language(text):\n",
    "    try:\n",
    "        return detect(text)\n",
    "    except LangDetectException:\n",
    "        return 'Unknown'\n",
    "    \n",
    "df['language'] = df['reviews.text'].apply(detect_language)\n",
    "df = df.loc[df['language'] == 'en']"
   ]
  },
  {
   "cell_type": "code",
   "execution_count": 45,
   "id": "38ef525036322f59",
   "metadata": {
    "collapsed": false,
    "ExecuteTime": {
     "end_time": "2024-03-02T10:19:00.984066Z",
     "start_time": "2024-03-02T10:19:00.904909Z"
    }
   },
   "outputs": [
    {
     "data": {
      "text/plain": "<Figure size 640x480 with 1 Axes>",
      "image/png": "[encoded data removed]"
     },
     "metadata": {},
     "output_type": "display_data"
    }
   ],
   "source": [
    "# Visualisation de la distribution des notes pour comprendre l'équilibre des classes\n",
    "rating_counts = df['reviews.rating'].value_counts().sort_index()\n",
    "all_ratings = pd.Series(index=range(1, 6), data=0)  # Initialiser les notes de 1 à 5 à 0\n",
    "rating_counts = all_ratings.add(rating_counts, fill_value=0).astype(int)  # Ajouter les comptes existants\n",
    "rating_counts.plot(kind='bar')\n",
    "plt.title('Distribution des notes (reviews.rating)')\n",
    "plt.xlabel('Note')\n",
    "plt.ylabel('Nombre d\\'occurrences')\n",
    "plt.show()"
   ]
  },
  {
   "cell_type": "code",
   "execution_count": 46,
   "id": "9087155abb31d756",
   "metadata": {
    "collapsed": false,
    "ExecuteTime": {
     "end_time": "2024-03-02T10:19:00.989526Z",
     "start_time": "2024-03-02T10:19:00.987108Z"
    }
   },
   "outputs": [],
   "source": [
    "# Nettoyage du texte en supprimant les mots vides pour réduire le bruit dans les données textuelles\n",
    "def remove_stopwords(text):\n",
    "    en_stopwords = stopwords.words('english')  # Use English stop words\n",
    "    text = [word for word in text.split() if word not in en_stopwords]\n",
    "    return \" \".join(text)  # Join back into a string"
   ]
  },
  {
   "cell_type": "code",
   "execution_count": 47,
   "id": "56557fe90e0653ee",
   "metadata": {
    "collapsed": false,
    "ExecuteTime": {
     "end_time": "2024-03-02T10:19:00.993192Z",
     "start_time": "2024-03-02T10:19:00.990510Z"
    }
   },
   "outputs": [],
   "source": [
    "# Prétraitement du texte pour le normaliser : conversion en minuscules, suppression de la ponctuation et des mots vides\n",
    "def clean_text(text):\n",
    "    text = text.lower()\n",
    "    text = \"\".join([char for char in text if char not in string.punctuation])\n",
    "    text = remove_stopwords(text)\n",
    "    return text"
   ]
  },
  {
   "cell_type": "code",
   "execution_count": 48,
   "id": "b4dc1c35d0d3c98d",
   "metadata": {
    "collapsed": false,
    "ExecuteTime": {
     "end_time": "2024-03-02T10:19:02.126294Z",
     "start_time": "2024-03-02T10:19:00.994022Z"
    }
   },
   "outputs": [],
   "source": [
    "# Vectorisation du texte avec TF-IDF pour transformer le texte en une représentation numérique utilisable par les modèles d'IA\n",
    "tfidf_vectorizer_1000 = TfidfVectorizer(max_features=1000)\n",
    "X_tfidf_1000 = tfidf_vectorizer_1000.fit_transform(df['reviews.text']).toarray()\n",
    "np.save('X_tfidf_1000.npy', X_tfidf_1000)\n",
    "\n",
    "tfidf_vectorizer_3000 = TfidfVectorizer(max_features=3000)\n",
    "X_tfidf_3000 = tfidf_vectorizer_3000.fit_transform(df['reviews.text']).toarray()\n",
    "np.save('X_tfidf_3000.npy', X_tfidf_3000)"
   ]
  },
  {
   "cell_type": "code",
   "execution_count": 49,
   "id": "d315fb839190857a",
   "metadata": {
    "collapsed": false,
    "ExecuteTime": {
     "end_time": "2024-03-02T10:19:02.130134Z",
     "start_time": "2024-03-02T10:19:02.127099Z"
    }
   },
   "outputs": [],
   "source": [
    "# Préparation des étiquettes (y) pour l'entraînement des modèles\n",
    "\n",
    "y = df['reviews.rating'].values\n",
    "np.save('y.npy', y)"
   ]
  },
  {
   "cell_type": "code",
   "execution_count": 50,
   "id": "046d9210",
   "metadata": {
    "ExecuteTime": {
     "end_time": "2024-03-02T10:19:04.428207Z",
     "start_time": "2024-03-02T10:19:02.130894Z"
    }
   },
   "outputs": [],
   "source": [
    "# Lemmatisation du texte pour ramener les mots à leur racine, réduisant ainsi la complexité du modèle\n",
    "\n",
    "from nltk import WordNetLemmatizer\n",
    "#nltk.download('wordnet')\n",
    "\n",
    "def preprocess_text(text):\n",
    "    text = re.sub(r'https?://\\S+|www\\.\\S+', '', text)\n",
    "    text = re.sub(r'<.*?>', '', text)\n",
    "    text = text.encode('ascii', 'ignore').decode('utf-8', 'ignore')\n",
    "    lemmatizer = WordNetLemmatizer()\n",
    "    text = ' '.join([lemmatizer.lemmatize(word) for word in text.split()])\n",
    "    return text\n",
    "\n",
    "df.loc[:, 'reviews.text'] = df['reviews.text'].apply(preprocess_text)"
   ]
  },
  {
   "cell_type": "code",
   "execution_count": 51,
   "id": "019af192",
   "metadata": {
    "ExecuteTime": {
     "end_time": "2024-03-02T10:19:05.176292Z",
     "start_time": "2024-03-02T10:19:04.429052Z"
    }
   },
   "outputs": [],
   "source": [
    "# Tokenisation et padding des séquences de texte pour préparer les données à l'entraînement de modèles basés sur des réseaux de neurones\n",
    "\n",
    "tokenizer = Tokenizer(num_words=10000, oov_token=\"<OOV>\")\n",
    "tokenizer.fit_on_texts(df['reviews.text'])\n",
    "sequences = tokenizer.texts_to_sequences(df['reviews.text'])\n",
    "padded_sequences = pad_sequences(sequences, padding='post', maxlen=120)"
   ]
  },
  {
   "cell_type": "markdown",
   "source": [
    "### Model TensorFlow"
   ],
   "metadata": {
    "collapsed": false
   },
   "id": "5025ba6e6db794d5"
  },
  {
   "cell_type": "code",
   "execution_count": 52,
   "id": "e8ec8064095bfa0b",
   "metadata": {
    "collapsed": false,
    "ExecuteTime": {
     "end_time": "2024-03-02T10:19:05.284027Z",
     "start_time": "2024-03-02T10:19:05.176933Z"
    }
   },
   "outputs": [],
   "source": [
    "X = np.load('X_tfidf_3000.npy')\n",
    "y = np.load('y.npy')\n",
    "\n",
    "#Divise les données en ensembles d'entraînement et de test, permettant de tester la performance du modèle sur des données non vues lors de l'entraînement.\n",
    "X_train, X_test, y_train, y_test = train_test_split(X, y, test_size=0.2, random_state=42)"
   ]
  },
  {
   "cell_type": "code",
   "execution_count": 53,
   "id": "c7133fec65da96c1",
   "metadata": {
    "collapsed": false,
    "ExecuteTime": {
     "end_time": "2024-03-02T10:19:05.324285Z",
     "start_time": "2024-03-02T10:19:05.284889Z"
    }
   },
   "outputs": [],
   "source": [
    "#Régularisation L2 : l2(0.001) applique une pénalité L2 aux coefficients du modèle, encourageant des poids plus petits pour réduire la complexité du modèle et prévenir le surapprentissage. La valeur 0.001 est le coefficient de régularisation qui contrôle l'ampleur de cette pénalité.\n",
    "regularizer = l2(0.001)\n",
    "\n",
    "#La construction du modèle est faite avec Keras. Le modèle est composé de trois couches Dense avec des activations relu pour les deux premières et softmax pour la sortie, intégrant la régularisation L2 pour réduire le risque de surapprentissage. Des couches Dropout sont utilisées pour ajouter de l'aléatoire dans le processus d'entraînement, en \"éteignant\" aléatoirement certains neurones pendant l'entraînement, ce qui aide également à prévenir le surapprentissage.\n",
    "\n",
    "#On à fait cela car au départ nous étions en surapprentissage.\n",
    "\n",
    "model = Sequential([\n",
    "    Dense(512, activation='relu', input_shape=(X_train.shape[1],), kernel_regularizer=regularizer),\n",
    "    Dropout(0.5),\n",
    "    Dense(256, activation='relu', kernel_regularizer=regularizer),\n",
    "    Dropout(0.5),\n",
    "    Dense(5, activation='softmax', kernel_regularizer=regularizer)\n",
    "])\n",
    "\n",
    "model.compile(optimizer='adam',\n",
    "              loss='sparse_categorical_crossentropy',\n",
    "              metrics=['accuracy'])\n",
    "\n",
    "#EarlyStopping : Cette technique arrête l'entraînement lorsque la performance sur l'ensemble de validation commence à se dégrader, indiquée par une augmentation de val_loss pendant un nombre défini de patience époques. Ici, patience=10 signifie que l'entraînement s'arrêtera si aucune amélioration n'est observée sur val_loss pendant 10 époques consécutives. restore_best_weights=True assure que le modèle retourné a les poids de l'époque avec la meilleure performance sur l'ensemble de validation, ce qui permet d'éviter le surapprentissage et d'obtenir un modèle bien généralisé.\n",
    "\n",
    "earlyStopping = EarlyStopping(monitor='val_loss', patience=10, restore_best_weights=True);\n",
    "\n",
    "y_train_adj = y_train - 1\n",
    "y_test_adj = y_test - 1"
   ]
  },
  {
   "cell_type": "code",
   "execution_count": 54,
   "id": "a7c594365a076e54",
   "metadata": {
    "collapsed": false,
    "ExecuteTime": {
     "end_time": "2024-03-02T10:19:17.095405Z",
     "start_time": "2024-03-02T10:19:05.325301Z"
    }
   },
   "outputs": [
    {
     "name": "stdout",
     "output_type": "stream",
     "text": [
      "Epoch 1/100\n",
      "196/196 [==============================] - 1s 5ms/step - loss: 1.4072 - accuracy: 0.5393 - val_loss: 1.1075 - val_accuracy: 0.6068\n",
      "Epoch 2/100\n",
      "196/196 [==============================] - 1s 4ms/step - loss: 1.0697 - accuracy: 0.6435 - val_loss: 1.1134 - val_accuracy: 0.6349\n",
      "Epoch 3/100\n",
      "196/196 [==============================] - 1s 4ms/step - loss: 1.0100 - accuracy: 0.6835 - val_loss: 1.0737 - val_accuracy: 0.6362\n",
      "Epoch 4/100\n",
      "196/196 [==============================] - 1s 5ms/step - loss: 0.9850 - accuracy: 0.6923 - val_loss: 1.0984 - val_accuracy: 0.6253\n",
      "Epoch 5/100\n",
      "196/196 [==============================] - 1s 5ms/step - loss: 0.9703 - accuracy: 0.7123 - val_loss: 1.0976 - val_accuracy: 0.6381\n",
      "Epoch 6/100\n",
      "196/196 [==============================] - 1s 5ms/step - loss: 0.9524 - accuracy: 0.7202 - val_loss: 1.1161 - val_accuracy: 0.6343\n",
      "Epoch 7/100\n",
      "196/196 [==============================] - 1s 5ms/step - loss: 0.9405 - accuracy: 0.7356 - val_loss: 1.1357 - val_accuracy: 0.6407\n",
      "Epoch 8/100\n",
      "196/196 [==============================] - 1s 4ms/step - loss: 0.9295 - accuracy: 0.7425 - val_loss: 1.1498 - val_accuracy: 0.6426\n",
      "Epoch 9/100\n",
      "196/196 [==============================] - 1s 4ms/step - loss: 0.9199 - accuracy: 0.7516 - val_loss: 1.1688 - val_accuracy: 0.6292\n",
      "Epoch 10/100\n",
      "196/196 [==============================] - 1s 4ms/step - loss: 0.9017 - accuracy: 0.7745 - val_loss: 1.1822 - val_accuracy: 0.6317\n",
      "Epoch 11/100\n",
      "196/196 [==============================] - 1s 5ms/step - loss: 0.8892 - accuracy: 0.7807 - val_loss: 1.2265 - val_accuracy: 0.6330\n",
      "Epoch 12/100\n",
      "196/196 [==============================] - 1s 5ms/step - loss: 0.8834 - accuracy: 0.7893 - val_loss: 1.2474 - val_accuracy: 0.6324\n",
      "Epoch 13/100\n",
      "196/196 [==============================] - 1s 5ms/step - loss: 0.8691 - accuracy: 0.8050 - val_loss: 1.2851 - val_accuracy: 0.6202\n"
     ]
    }
   ],
   "source": [
    "#Le modèle est entraîné avec un nombre maximal de 100 époques, mais l'entraînement peut s'arrêter plus tôt grâce à EarlyStopping. Une fraction des données d'entraînement est utilisée comme validation pour surveiller la performance du modèle.\n",
    "history = model.fit(X_train, y_train_adj, epochs=100, batch_size=32, validation_split=0.2, callbacks=[earlyStopping]);"
   ]
  },
  {
   "cell_type": "code",
   "execution_count": 55,
   "id": "6adb0271649bb710",
   "metadata": {
    "collapsed": false,
    "ExecuteTime": {
     "end_time": "2024-03-02T10:19:17.415777Z",
     "start_time": "2024-03-02T10:19:17.096284Z"
    }
   },
   "outputs": [
    {
     "name": "stdout",
     "output_type": "stream",
     "text": [
      "62/62 [==============================] - 0s 2ms/step - loss: 1.1090 - accuracy: 0.6320\n",
      "Test Loss: 1.109, Test Accuracy: 0.632\n"
     ]
    }
   ],
   "source": [
    "loss, accuracy = model.evaluate(X_test, y_test_adj)\n",
    "print(f'Test Loss: {loss:.3f}, Test Accuracy: {accuracy:.3f}')"
   ]
  },
  {
   "cell_type": "code",
   "execution_count": 56,
   "id": "1f4e8daaf7e7261e",
   "metadata": {
    "collapsed": false,
    "ExecuteTime": {
     "end_time": "2024-03-02T10:19:17.419252Z",
     "start_time": "2024-03-02T10:19:17.416476Z"
    }
   },
   "outputs": [],
   "source": [
    "# Transformer l'avis en utilisant le vectoriseur TF-IDF chargé\n",
    "new_review_vector = tfidf_vectorizer_3000.transform([\"My experience at the hotel was decidedly underwhelming. Firstly, the location, while central, was a double-edged sword; the incessant noise from the street made a good night's sleep a rare luxury. The staff, although polite, seemed overwhelmed and occasionally unresponsive to requests for basic amenities. The room itself was a major letdown - cramped, with dated decor that felt more depressing than retro. The bed was uncomfortable, and the linens had seen better days. The air conditioning was more of a whisper than a relief, contributing to an overall stifling atmosphere. The breakfast, which I had looked forward to, was a disappointing affair with limited choices and stale pastries. In summary, the hotel was more a lesson in patience than a place of rest and relaxation.\"]).toarray()"
   ]
  },
  {
   "cell_type": "code",
   "execution_count": 57,
   "id": "f39b8751fdd5ce33",
   "metadata": {
    "collapsed": false,
    "ExecuteTime": {
     "end_time": "2024-03-02T10:19:17.459318Z",
     "start_time": "2024-03-02T10:19:17.420152Z"
    }
   },
   "outputs": [
    {
     "name": "stdout",
     "output_type": "stream",
     "text": [
      "1/1 [==============================] - 0s 21ms/step\n",
      "Note prédite: 3\n"
     ]
    }
   ],
   "source": [
    "prediction = model.predict(new_review_vector)\n",
    "predicted_rating = np.argmax(prediction) + 1\n",
    "print(f'Note prédite: {predicted_rating}')"
   ]
  },
  {
   "cell_type": "markdown",
   "source": [
    "### Model Random Forest Classifier"
   ],
   "metadata": {
    "collapsed": false
   },
   "id": "813f6659b4984004"
  },
  {
   "cell_type": "code",
   "outputs": [],
   "source": [
    "# Charger les données\n",
    "X = np.load('X_tfidf_3000.npy')\n",
    "y = np.load('y.npy')"
   ],
   "metadata": {
    "collapsed": false,
    "ExecuteTime": {
     "end_time": "2024-03-02T10:19:17.587295Z",
     "start_time": "2024-03-02T10:19:17.459992Z"
    }
   },
   "id": "3560925ee7a2ec9c",
   "execution_count": 58
  },
  {
   "cell_type": "code",
   "outputs": [],
   "source": [
    "# Diviser les données en ensembles d'entraînement et de test\n",
    "X_train, X_test, y_train, y_test = train_test_split(X, y, test_size=0.2, random_state=42)"
   ],
   "metadata": {
    "collapsed": false,
    "ExecuteTime": {
     "end_time": "2024-03-02T10:19:17.637299Z",
     "start_time": "2024-03-02T10:19:17.588075Z"
    }
   },
   "id": "574456c5ee0b66b4",
   "execution_count": 59
  },
  {
   "cell_type": "code",
   "outputs": [],
   "source": [
    "# Initialiser le modèle RandomForest\n",
    "modelRFC = RandomForestClassifier(n_estimators=100, random_state=42)"
   ],
   "metadata": {
    "collapsed": false,
    "ExecuteTime": {
     "end_time": "2024-03-02T10:19:17.640290Z",
     "start_time": "2024-03-02T10:19:17.638134Z"
    }
   },
   "id": "2ac5dadb3a0870c2",
   "execution_count": 60
  },
  {
   "cell_type": "code",
   "outputs": [
    {
     "data": {
      "text/plain": "RandomForestClassifier(random_state=42)",
      "text/html": "<style>#sk-container-id-1 {color: black;}#sk-container-id-1 pre{padding: 0;}#sk-container-id-1 div.sk-toggleable {background-color: white;}#sk-container-id-1 label.sk-toggleable__label {cursor: pointer;display: block;width: 100%;margin-bottom: 0;padding: 0.3em;box-sizing: border-box;text-align: center;}#sk-container-id-1 label.sk-toggleable__label-arrow:before {content: \"▸\";float: left;margin-right: 0.25em;color: #696969;}#sk-container-id-1 label.sk-toggleable__label-arrow:hover:before {color: black;}#sk-container-id-1 div.sk-estimator:hover label.sk-toggleable__label-arrow:before {color: black;}#sk-container-id-1 div.sk-toggleable__content {max-height: 0;max-width: 0;overflow: hidden;text-align: left;background-color: #f0f8ff;}#sk-container-id-1 div.sk-toggleable__content pre {margin: 0.2em;color: black;border-radius: 0.25em;background-color: #f0f8ff;}#sk-container-id-1 input.sk-toggleable__control:checked~div.sk-toggleable__content {max-height: 200px;max-width: 100%;overflow: auto;}#sk-container-id-1 input.sk-toggleable__control:checked~label.sk-toggleable__label-arrow:before {content: \"▾\";}#sk-container-id-1 div.sk-estimator input.sk-toggleable__control:checked~label.sk-toggleable__label {background-color: #d4ebff;}#sk-container-id-1 div.sk-label input.sk-toggleable__control:checked~label.sk-toggleable__label {background-color: #d4ebff;}#sk-container-id-1 input.sk-hidden--visually {border: 0;clip: rect(1px 1px 1px 1px);clip: rect(1px, 1px, 1px, 1px);height: 1px;margin: -1px;overflow: hidden;padding: 0;position: absolute;width: 1px;}#sk-container-id-1 div.sk-estimator {font-family: monospace;background-color: #f0f8ff;border: 1px dotted black;border-radius: 0.25em;box-sizing: border-box;margin-bottom: 0.5em;}#sk-container-id-1 div.sk-estimator:hover {background-color: #d4ebff;}#sk-container-id-1 div.sk-parallel-item::after {content: \"\";width: 100%;border-bottom: 1px solid gray;flex-grow: 1;}#sk-container-id-1 div.sk-label:hover label.sk-toggleable__label {background-color: #d4ebff;}#sk-container-id-1 div.sk-serial::before {content: \"\";position: absolute;border-left: 1px solid gray;box-sizing: border-box;top: 0;bottom: 0;left: 50%;z-index: 0;}#sk-container-id-1 div.sk-serial {display: flex;flex-direction: column;align-items: center;background-color: white;padding-right: 0.2em;padding-left: 0.2em;position: relative;}#sk-container-id-1 div.sk-item {position: relative;z-index: 1;}#sk-container-id-1 div.sk-parallel {display: flex;align-items: stretch;justify-content: center;background-color: white;position: relative;}#sk-container-id-1 div.sk-item::before, #sk-container-id-1 div.sk-parallel-item::before {content: \"\";position: absolute;border-left: 1px solid gray;box-sizing: border-box;top: 0;bottom: 0;left: 50%;z-index: -1;}#sk-container-id-1 div.sk-parallel-item {display: flex;flex-direction: column;z-index: 1;position: relative;background-color: white;}#sk-container-id-1 div.sk-parallel-item:first-child::after {align-self: flex-end;width: 50%;}#sk-container-id-1 div.sk-parallel-item:last-child::after {align-self: flex-start;width: 50%;}#sk-container-id-1 div.sk-parallel-item:only-child::after {width: 0;}#sk-container-id-1 div.sk-dashed-wrapped {border: 1px dashed gray;margin: 0 0.4em 0.5em 0.4em;box-sizing: border-box;padding-bottom: 0.4em;background-color: white;}#sk-container-id-1 div.sk-label label {font-family: monospace;font-weight: bold;display: inline-block;line-height: 1.2em;}#sk-container-id-1 div.sk-label-container {text-align: center;}#sk-container-id-1 div.sk-container {/* jupyter's `normalize.less` sets `[hidden] { display: none; }` but bootstrap.min.css set `[hidden] { display: none !important; }` so we also need the `!important` here to be able to override the default hidden behavior on the sphinx rendered scikit-learn.org. See: https://github.com/scikit-learn/scikit-learn/issues/21755 */display: inline-block !important;position: relative;}#sk-container-id-1 div.sk-text-repr-fallback {display: none;}</style><div id=\"sk-container-id-1\" class=\"sk-top-container\"><div class=\"sk-text-repr-fallback\"><pre>RandomForestClassifier(random_state=42)</pre><b>In a Jupyter environment, please rerun this cell to show the HTML representation or trust the notebook. <br />On GitHub, the HTML representation is unable to render, please try loading this page with nbviewer.org.</b></div><div class=\"sk-container\" hidden><div class=\"sk-item\"><div class=\"sk-estimator sk-toggleable\"><input class=\"sk-toggleable__control sk-hidden--visually\" id=\"sk-estimator-id-1\" type=\"checkbox\" checked><label for=\"sk-estimator-id-1\" class=\"sk-toggleable__label sk-toggleable__label-arrow\">RandomForestClassifier</label><div class=\"sk-toggleable__content\"><pre>RandomForestClassifier(random_state=42)</pre></div></div></div></div></div>"
     },
     "execution_count": 61,
     "metadata": {},
     "output_type": "execute_result"
    }
   ],
   "source": [
    "# Entraîner le modèle\n",
    "modelRFC.fit(X_train, y_train)"
   ],
   "metadata": {
    "collapsed": false,
    "ExecuteTime": {
     "end_time": "2024-03-02T10:19:21.979490Z",
     "start_time": "2024-03-02T10:19:17.644848Z"
    }
   },
   "id": "931a4925687cf519",
   "execution_count": 61
  },
  {
   "cell_type": "code",
   "outputs": [
    {
     "name": "stdout",
     "output_type": "stream",
     "text": [
      "Rapport de classification :\n",
      "              precision    recall  f1-score   support\n",
      "\n",
      "           1       0.79      0.28      0.41       118\n",
      "           2       0.50      0.02      0.04       105\n",
      "           3       0.33      0.09      0.15       236\n",
      "           4       0.42      0.28      0.34       573\n",
      "           5       0.59      0.93      0.72       922\n",
      "\n",
      "    accuracy                           0.55      1954\n",
      "   macro avg       0.53      0.32      0.33      1954\n",
      "weighted avg       0.52      0.55      0.48      1954\n"
     ]
    }
   ],
   "source": [
    "# Prédire les étiquettes sur l'ensemble de test\n",
    "y_pred = modelRFC.predict(X_test)\n",
    "\n",
    "# Afficher le rapport de classification\n",
    "print(\"Rapport de classification :\")\n",
    "print(classification_report(y_test, y_pred))"
   ],
   "metadata": {
    "collapsed": false,
    "ExecuteTime": {
     "end_time": "2024-03-02T10:19:22.059015Z",
     "start_time": "2024-03-02T10:19:21.980228Z"
    }
   },
   "id": "a01b1884823e6502",
   "execution_count": 62
  },
  {
   "cell_type": "code",
   "outputs": [
    {
     "name": "stdout",
     "output_type": "stream",
     "text": [
      "Matrice de confusion :\n"
     ]
    },
    {
     "data": {
      "text/plain": "<Figure size 1000x700 with 2 Axes>",
      "image/png": "[encoded data removed]"
     },
     "metadata": {},
     "output_type": "display_data"
    }
   ],
   "source": [
    "# Afficher la matrice de confusion\n",
    "print(\"Matrice de confusion :\")\n",
    "cm = confusion_matrix(y_test, y_pred)\n",
    "plt.figure(figsize=(10, 7))\n",
    "plt.imshow(cm, interpolation='nearest', cmap=plt.cm.Wistia)\n",
    "plt.title('Matrice de confusion')\n",
    "plt.colorbar()\n",
    "tick_marks = np.arange(len(np.unique(y)))\n",
    "plt.xticks(tick_marks, np.unique(y), rotation=45)\n",
    "plt.yticks(tick_marks, np.unique(y))\n",
    "plt.tight_layout()\n",
    "plt.ylabel('Vrai label')\n",
    "plt.xlabel('Label prédit')\n",
    "plt.show()"
   ],
   "metadata": {
    "collapsed": false,
    "ExecuteTime": {
     "end_time": "2024-03-02T10:19:22.186377Z",
     "start_time": "2024-03-02T10:19:22.060024Z"
    }
   },
   "id": "9dd1149e33143fe0",
   "execution_count": 63
  },
  {
   "cell_type": "code",
   "outputs": [
    {
     "data": {
      "text/plain": "<Figure size 640x480 with 1 Axes>",
      "image/png": "[encoded data removed]"
     },
     "metadata": {},
     "output_type": "display_data"
    }
   ],
   "source": [
    "# Importance des caractéristiques\n",
    "# Identifie les mots (caractéristiques) les plus influents pour la classification. Cela peut offrir des insights sur les aspects des avis qui affectent le plus la note attribuée.\n",
    "importances = modelRFC.feature_importances_\n",
    "indices = np.argsort(importances)[::-1]\n",
    "\n",
    "plt.figure()\n",
    "plt.title(\"Importance des caractéristiques\")\n",
    "plt.bar(range(X_train.shape[1]), importances[indices],\n",
    "       color=\"r\", align=\"center\")\n",
    "plt.xticks(range(X_train.shape[1]), indices)\n",
    "plt.xlim([-1, X_train.shape[1]])\n",
    "plt.show()"
   ],
   "metadata": {
    "collapsed": false,
    "ExecuteTime": {
     "end_time": "2024-03-02T10:19:27.934858Z",
     "start_time": "2024-03-02T10:19:22.187530Z"
    }
   },
   "id": "6ede7b0e460792d2",
   "execution_count": 64
  },
  {
   "cell_type": "code",
   "outputs": [
    {
     "name": "stdout",
     "output_type": "stream",
     "text": [
      "{'max_depth': None, 'n_estimators': 200}\n"
     ]
    }
   ],
   "source": [
    "# Ajustement des hyperparamètres avec GridSearchCV\n",
    "# Cherche la meilleure combinaison de paramètres (n_estimators, max_depth) pour améliorer la performance du modèle. Cela permet de trouver un compromis entre biais et variance, optimisant la capacité du modèle à généraliser.\n",
    "param_grid = {'n_estimators': [100, 200], 'max_depth': [None, 10, 20]}\n",
    "grid_search = GridSearchCV(RandomForestClassifier(random_state=42), param_grid, cv=5)\n",
    "grid_search.fit(X_train, y_train)\n",
    "\n",
    "#print(\"Meilleurs paramètres trouvés :\")\n",
    "print(grid_search.best_params_)"
   ],
   "metadata": {
    "collapsed": false,
    "ExecuteTime": {
     "end_time": "2024-03-02T10:21:19.478375Z",
     "start_time": "2024-03-02T10:19:27.935959Z"
    }
   },
   "id": "b274c23b4e976199",
   "execution_count": 65
  },
  {
   "cell_type": "code",
   "outputs": [],
   "source": [
    "# Entraîner le modèle avec les meilleurs paramètres\n",
    "best_model = grid_search.best_estimator_"
   ],
   "metadata": {
    "collapsed": false,
    "ExecuteTime": {
     "end_time": "2024-03-02T10:21:19.481077Z",
     "start_time": "2024-03-02T10:21:19.479218Z"
    }
   },
   "id": "49ba03015e76e5ab",
   "execution_count": 66
  },
  {
   "cell_type": "code",
   "outputs": [
    {
     "data": {
      "text/plain": "['random_forest_model.joblib']"
     },
     "execution_count": 67,
     "metadata": {},
     "output_type": "execute_result"
    }
   ],
   "source": [
    "# Sauvegarder le modèle\n",
    "joblib.dump(best_model, 'random_forest_model.joblib')"
   ],
   "metadata": {
    "collapsed": false,
    "ExecuteTime": {
     "end_time": "2024-03-02T10:21:19.576190Z",
     "start_time": "2024-03-02T10:21:19.481826Z"
    }
   },
   "id": "8aae4a93c3c084c1",
   "execution_count": 67
  },
  {
   "cell_type": "code",
   "outputs": [],
   "source": [
    "# Charger le modèle\n",
    "loaded_model = joblib.load('random_forest_model.joblib')"
   ],
   "metadata": {
    "collapsed": false,
    "ExecuteTime": {
     "end_time": "2024-03-02T10:21:19.665565Z",
     "start_time": "2024-03-02T10:21:19.576927Z"
    }
   },
   "id": "250fe716b1da96da",
   "execution_count": 68
  },
  {
   "cell_type": "code",
   "outputs": [
    {
     "name": "stdout",
     "output_type": "stream",
     "text": [
      "Rapport de classification du modèle chargé :\n",
      "              precision    recall  f1-score   support\n",
      "\n",
      "           1       0.83      0.32      0.46       118\n",
      "           2       0.50      0.02      0.04       105\n",
      "           3       0.42      0.09      0.15       236\n",
      "           4       0.43      0.29      0.35       573\n",
      "           5       0.59      0.93      0.72       922\n",
      "\n",
      "    accuracy                           0.56      1954\n",
      "   macro avg       0.55      0.33      0.34      1954\n",
      "weighted avg       0.53      0.56      0.49      1954\n"
     ]
    }
   ],
   "source": [
    "# Utiliser le modèle chargé pour faire des prédictions\n",
    "loaded_model_pred = loaded_model.predict(X_test)\n",
    "print(\"Rapport de classification du modèle chargé :\")\n",
    "print(classification_report(y_test, loaded_model_pred))"
   ],
   "metadata": {
    "collapsed": false,
    "ExecuteTime": {
     "end_time": "2024-03-02T10:21:19.813813Z",
     "start_time": "2024-03-02T10:21:19.666423Z"
    }
   },
   "id": "cdc119d26072827f",
   "execution_count": 69
  },
  {
   "cell_type": "code",
   "outputs": [],
   "source": [
    "# Charger le modèle RandomForest\n",
    "modelRFC = joblib.load('random_forest_model.joblib')"
   ],
   "metadata": {
    "collapsed": false,
    "ExecuteTime": {
     "end_time": "2024-03-02T10:21:19.894125Z",
     "start_time": "2024-03-02T10:21:19.814585Z"
    }
   },
   "id": "d1b6446ce4cffab9",
   "execution_count": 70
  },
  {
   "cell_type": "code",
   "outputs": [],
   "source": [
    "# Nouvelle entrée d'avis\n",
    "new_review = [\"My experience at the hotel was decidedly underwhelming. Firstly, the location, while central, was a double-edged sword; the incessant noise from the street made a good night's sleep a rare luxury. The staff, although polite, seemed overwhelmed and occasionally unresponsive to requests for basic amenities. The room itself was a major letdown - cramped, with dated decor that felt more depressing than retro. The bed was uncomfortable, and the linens had seen better days. The air conditioning was more of a whisper than a relief, contributing to an overall stifling atmosphere. The breakfast, which I had looked forward to, was a disappointing affair with limited choices and stale pastries. In summary, the hotel was more a lesson in patience than a place of rest and relaxation.\"]"
   ],
   "metadata": {
    "collapsed": false,
    "ExecuteTime": {
     "end_time": "2024-03-02T10:37:05.132644Z",
     "start_time": "2024-03-02T10:37:05.128969Z"
    }
   },
   "id": "3447edb03cb4473e",
   "execution_count": 88
  },
  {
   "cell_type": "code",
   "outputs": [],
   "source": [
    "# Transformer l'avis en utilisant le vectoriseur TF-IDF chargé\n",
    "new_review_tfidf = tfidf_vectorizer_3000.transform(new_review).toarray()"
   ],
   "metadata": {
    "collapsed": false,
    "ExecuteTime": {
     "end_time": "2024-03-02T10:37:05.662631Z",
     "start_time": "2024-03-02T10:37:05.659200Z"
    }
   },
   "id": "87d7e05fa3b3d53b",
   "execution_count": 89
  },
  {
   "cell_type": "code",
   "outputs": [],
   "source": [
    "# Prédire la note pour la nouvelle entrée\n",
    "predicted_note = modelRFC.predict(new_review_tfidf)"
   ],
   "metadata": {
    "collapsed": false,
    "ExecuteTime": {
     "end_time": "2024-03-02T10:37:06.246638Z",
     "start_time": "2024-03-02T10:37:06.237097Z"
    }
   },
   "id": "1316135e510aa27d",
   "execution_count": 90
  },
  {
   "cell_type": "code",
   "outputs": [
    {
     "name": "stdout",
     "output_type": "stream",
     "text": [
      "La note prédite pour l'avis est : 4\n"
     ]
    }
   ],
   "source": [
    "print(\"La note prédite pour l'avis est :\", predicted_note[0])"
   ],
   "metadata": {
    "collapsed": false,
    "ExecuteTime": {
     "end_time": "2024-03-02T10:37:06.735548Z",
     "start_time": "2024-03-02T10:37:06.732757Z"
    }
   },
   "id": "f0595a4642281a75",
   "execution_count": 91
  },
  {
   "cell_type": "markdown",
   "source": [
    "### Model XBoost"
   ],
   "metadata": {
    "collapsed": false
   },
   "id": "9286e25e2e6e351c"
  },
  {
   "cell_type": "code",
   "outputs": [],
   "source": [
    "# Charger les données\n",
    "X = np.load('X_tfidf_1000.npy')\n",
    "y = np.load('y.npy')"
   ],
   "metadata": {
    "collapsed": false,
    "ExecuteTime": {
     "end_time": "2024-03-02T10:21:19.941534Z",
     "start_time": "2024-03-02T10:21:19.912989Z"
    }
   },
   "id": "ea65ef08c7749d4b",
   "execution_count": 75
  },
  {
   "cell_type": "code",
   "outputs": [],
   "source": [
    "# Diviser les données en ensembles d'entraînement et de test\n",
    "X_train, X_test, y_train, y_test = train_test_split(X, y, test_size=0.2, random_state=42)"
   ],
   "metadata": {
    "collapsed": false,
    "ExecuteTime": {
     "end_time": "2024-03-02T10:21:19.959298Z",
     "start_time": "2024-03-02T10:21:19.942304Z"
    }
   },
   "id": "a316da57ed65bb0e",
   "execution_count": 76
  },
  {
   "cell_type": "code",
   "outputs": [],
   "source": [
    "# Modifier les étiquettes pour qu'elles commencent à 0\n",
    "y_train_adjusted = y_train - 1\n",
    "y_test_adjusted = y_test - 1"
   ],
   "metadata": {
    "collapsed": false,
    "ExecuteTime": {
     "end_time": "2024-03-02T10:21:19.963615Z",
     "start_time": "2024-03-02T10:21:19.960106Z"
    }
   },
   "id": "20fd41b86dd2eef5",
   "execution_count": 77
  },
  {
   "cell_type": "code",
   "outputs": [],
   "source": [
    "# Initialiser le modèle XGBoost\n",
    "model = XGBClassifier()\n",
    "\n",
    "# Entraîner le modèle\n",
    "model.fit(X_train, y_train_adjusted)\n",
    "\n",
    "# Prédire les étiquettes sur l'ensemble de test\n",
    "y_pred = model.predict(X_test)"
   ],
   "metadata": {
    "collapsed": false,
    "ExecuteTime": {
     "end_time": "2024-03-02T10:21:33.498457Z",
     "start_time": "2024-03-02T10:21:19.964584Z"
    }
   },
   "id": "e4bc80863d59e414",
   "execution_count": 78
  },
  {
   "cell_type": "code",
   "outputs": [
    {
     "name": "stdout",
     "output_type": "stream",
     "text": [
      "Rapport de classification :\n",
      "              precision    recall  f1-score   support\n",
      "\n",
      "           0       0.63      0.54      0.58       118\n",
      "           1       0.35      0.22      0.27       105\n",
      "           2       0.50      0.31      0.38       236\n",
      "           3       0.46      0.43      0.44       573\n",
      "           4       0.68      0.82      0.75       922\n",
      "\n",
      "    accuracy                           0.59      1954\n",
      "   macro avg       0.52      0.46      0.48      1954\n",
      "weighted avg       0.57      0.59      0.58      1954\n"
     ]
    }
   ],
   "source": [
    "# Afficher le rapport de classification\n",
    "print(\"Rapport de classification :\")\n",
    "print(classification_report(y_test_adjusted, y_pred))"
   ],
   "metadata": {
    "collapsed": false,
    "ExecuteTime": {
     "end_time": "2024-03-02T10:21:33.506157Z",
     "start_time": "2024-03-02T10:21:33.499427Z"
    }
   },
   "id": "149ab74d0a4c0f80",
   "execution_count": 79
  },
  {
   "cell_type": "code",
   "outputs": [
    {
     "name": "stdout",
     "output_type": "stream",
     "text": [
      "Matrice de confusion :\n"
     ]
    },
    {
     "data": {
      "text/plain": "<Figure size 1000x700 with 2 Axes>",
      "image/png": "[encoded data removed]"
     },
     "metadata": {},
     "output_type": "display_data"
    }
   ],
   "source": [
    "# Afficher la matrice de confusion\n",
    "print(\"Matrice de confusion :\")\n",
    "cm = confusion_matrix(y_test_adjusted, y_pred)\n",
    "plt.figure(figsize=(10, 7))\n",
    "plt.imshow(cm, interpolation='nearest', cmap=plt.cm.viridis)  # Remplacement de Wistia par viridis\n",
    "plt.title('Matrice de confusion')\n",
    "plt.colorbar()\n",
    "tick_marks = np.arange(len(np.unique(y)))\n",
    "plt.xticks(tick_marks, np.unique(y), rotation=45)\n",
    "plt.yticks(tick_marks, np.unique(y))\n",
    "plt.tight_layout()\n",
    "plt.ylabel('Vrai label')\n",
    "plt.xlabel('Label prédit')\n",
    "plt.show()"
   ],
   "metadata": {
    "collapsed": false,
    "ExecuteTime": {
     "end_time": "2024-03-02T10:21:33.625517Z",
     "start_time": "2024-03-02T10:21:33.507037Z"
    }
   },
   "id": "78d7ec7a0152fdcb",
   "execution_count": 80
  },
  {
   "cell_type": "code",
   "outputs": [
    {
     "data": {
      "text/plain": "<Figure size 640x480 with 1 Axes>",
      "image/png": "[encoded data removed]"
     },
     "metadata": {},
     "output_type": "display_data"
    }
   ],
   "source": [
    "# Importance des caractéristiques\n",
    "importances = model.feature_importances_\n",
    "indices = np.argsort(importances)[::-1]\n",
    "\n",
    "plt.figure()\n",
    "plt.title(\"Importance des caractéristiques\")\n",
    "plt.bar(range(X_train.shape[1]), importances[indices],\n",
    "       color=\"r\", align=\"center\")\n",
    "plt.xticks(range(X_train.shape[1]), indices)\n",
    "plt.xlim([-1, X_train.shape[1]])\n",
    "plt.show()"
   ],
   "metadata": {
    "collapsed": false,
    "ExecuteTime": {
     "end_time": "2024-03-02T10:21:35.452961Z",
     "start_time": "2024-03-02T10:21:33.626468Z"
    }
   },
   "id": "94952d59f0b65763",
   "execution_count": 81
  },
  {
   "cell_type": "code",
   "outputs": [
    {
     "name": "stdout",
     "output_type": "stream",
     "text": [
      "{'max_depth': 10, 'n_estimators': 200}\n"
     ]
    }
   ],
   "source": [
    "# Ajustement des hyperparamètres avec GridSearchCV\n",
    "param_grid = {'n_estimators': [100, 200], 'max_depth': [None, 10, 20]}\n",
    "grid_search = GridSearchCV(XGBClassifier(), param_grid, cv=5)\n",
    "grid_search.fit(X_train, y_train_adjusted)\n",
    "\n",
    "#print(\"Meilleurs paramètres trouvés :\")\n",
    "print(grid_search.best_params_)"
   ],
   "metadata": {
    "collapsed": false,
    "ExecuteTime": {
     "end_time": "2024-03-02T10:35:49.077382Z",
     "start_time": "2024-03-02T10:21:35.453825Z"
    }
   },
   "id": "2c35adb653de4227",
   "execution_count": 82
  },
  {
   "cell_type": "code",
   "outputs": [],
   "source": [
    "# Entraîner le modèle avec les meilleurs paramètres\n",
    "best_model = grid_search.best_estimator_\n",
    "\n",
    "# Sauvegarder le modèle\n",
    "joblib.dump(best_model, 'xgboost_model.joblib')\n",
    "\n",
    "# Charger le modèle\n",
    "loaded_model = joblib.load('xgboost_model.joblib')"
   ],
   "metadata": {
    "collapsed": false,
    "ExecuteTime": {
     "end_time": "2024-03-02T10:35:49.117251Z",
     "start_time": "2024-03-02T10:35:49.081303Z"
    }
   },
   "id": "491f0b9266703b2",
   "execution_count": 83
  },
  {
   "cell_type": "code",
   "outputs": [
    {
     "name": "stdout",
     "output_type": "stream",
     "text": [
      "Rapport de classification du modèle chargé :\n",
      "              precision    recall  f1-score   support\n",
      "\n",
      "           0       0.63      0.55      0.59       118\n",
      "           1       0.39      0.21      0.27       105\n",
      "           2       0.54      0.32      0.40       236\n",
      "           3       0.45      0.41      0.43       573\n",
      "           4       0.67      0.82      0.73       922\n",
      "\n",
      "    accuracy                           0.59      1954\n",
      "   macro avg       0.53      0.46      0.48      1954\n",
      "weighted avg       0.57      0.59      0.57      1954\n"
     ]
    }
   ],
   "source": [
    "# Utiliser le modèle chargé pour faire des prédictions\n",
    "loaded_model_pred = loaded_model.predict(X_test)\n",
    "print(\"Rapport de classification du modèle chargé :\")\n",
    "print(classification_report(y_test_adjusted, loaded_model_pred))"
   ],
   "metadata": {
    "collapsed": false,
    "ExecuteTime": {
     "end_time": "2024-03-02T10:35:49.150728Z",
     "start_time": "2024-03-02T10:35:49.120973Z"
    }
   },
   "id": "d5b234f5d787f99a",
   "execution_count": 84
  },
  {
   "cell_type": "code",
   "outputs": [],
   "source": [
    "# Nouvelle entrée d'avis\n",
    "new_review = [\"My experience at the hotel was decidedly underwhelming. Firstly, the location, while central, was a double-edged sword; the incessant noise from the street made a good night's sleep a rare luxury. The staff, although polite, seemed overwhelmed and occasionally unresponsive to requests for basic amenities. The room itself was a major letdown - cramped, with dated decor that felt more depressing than retro. The bed was uncomfortable, and the linens had seen better days. The air conditioning was more of a whisper than a relief, contributing to an overall stifling atmosphere. The breakfast, which I had looked forward to, was a disappointing affair with limited choices and stale pastries. In summary, the hotel was more a lesson in patience than a place of rest and relaxation.\"]"
   ],
   "metadata": {
    "collapsed": false,
    "ExecuteTime": {
     "end_time": "2024-03-02T10:37:20.426143Z",
     "start_time": "2024-03-02T10:37:20.423188Z"
    }
   },
   "id": "639cc73a85b36144",
   "execution_count": 92
  },
  {
   "cell_type": "code",
   "outputs": [],
   "source": [
    "# Transformer l'avis en utilisant le vectoriseur TF-IDF chargé\n",
    "new_review_tfidf = tfidf_vectorizer_1000.transform(new_review).toarray()"
   ],
   "metadata": {
    "collapsed": false,
    "ExecuteTime": {
     "end_time": "2024-03-02T10:37:20.851548Z",
     "start_time": "2024-03-02T10:37:20.848153Z"
    }
   },
   "id": "c4fae6f30689b5dc",
   "execution_count": 93
  },
  {
   "cell_type": "code",
   "outputs": [
    {
     "name": "stdout",
     "output_type": "stream",
     "text": [
      "La note prédite pour l'avis est : 3\n"
     ]
    }
   ],
   "source": [
    "# Prédire la note pour la nouvelle entrée\n",
    "predicted_note = loaded_model.predict(new_review_tfidf)\n",
    "print(\"La note prédite pour l'avis est :\", predicted_note[0])"
   ],
   "metadata": {
    "collapsed": false,
    "ExecuteTime": {
     "end_time": "2024-03-02T10:37:21.341026Z",
     "start_time": "2024-03-02T10:37:21.337926Z"
    }
   },
   "id": "cdaa21f0122af076",
   "execution_count": 94
  }
 ],
 "metadata": {
  "kernelspec": {
   "display_name": "Python 3",
   "language": "python",
   "name": "python3"
  },
  "language_info": {
   "codemirror_mode": {
    "name": "ipython",
    "version": 2
   },
   "file_extension": ".py",
   "mimetype": "text/x-python",
   "name": "python",
   "nbconvert_exporter": "python",
   "pygments_lexer": "ipython2",
   "version": "2.7.6"
  }
 },
 "nbformat": 4,
 "nbformat_minor": 5
}
