{
 "cells": [
  {
   "cell_type": "code",
   "execution_count": 34,
   "id": "initial_id",
   "metadata": {
    "collapsed": true,
    "ExecuteTime": {
     "end_time": "2024-03-01T08:20:54.380165Z",
     "start_time": "2024-03-01T08:20:54.376840Z"
    }
   },
   "outputs": [],
   "source": [
    "from langdetect import detect, LangDetectException\n",
    "import matplotlib.pyplot as plt\n",
    "import pandas as pd\n",
    "import re\n",
    "import nltk\n",
    "from nltk.corpus import stopwords\n",
    "from sklearn.feature_extraction.text import TfidfVectorizer\n",
    "import numpy as np\n",
    "from tensorflow.keras.preprocessing.text import Tokenizer\n",
    "from tensorflow.keras.preprocessing.sequence import pad_sequences"
   ]
  },
  {
   "cell_type": "code",
   "execution_count": 35,
   "id": "28d367eda5183285",
   "metadata": {
    "collapsed": false,
    "ExecuteTime": {
     "end_time": "2024-03-01T08:20:54.952488Z",
     "start_time": "2024-03-01T08:20:54.408850Z"
    }
   },
   "outputs": [],
   "source": [
    "df = pd.read_csv(\"Datafiniti_Hotel_Reviews_Jun19.csv\", sep=',')"
   ]
  },
  {
   "cell_type": "code",
   "execution_count": 36,
   "id": "c27725768065dd19",
   "metadata": {
    "collapsed": false,
    "ExecuteTime": {
     "end_time": "2024-03-01T08:20:54.960793Z",
     "start_time": "2024-03-01T08:20:54.953762Z"
    }
   },
   "outputs": [
    {
     "data": {
      "text/plain": "      reviews.rating                                       reviews.text  \\\n0                  3  This hotel was nice and quiet. Did not know, t...   \n1                  4  We stayed in the king suite with the separatio...   \n2                  3  Parking was horrible, somebody ran into my ren...   \n3                  5  Not cheap but excellent location. Price is som...   \n4                  2  If you get the room that they advertised on th...   \n...              ...                                                ...   \n9995               4  My friends and I took a trip to Hampton for th...   \n9996               5  from check in to departure, staff is friendly,...   \n9997               5  This Hampton is located on a quiet street acro...   \n9998               5  Awesome wings (my favorite was garlic parmesan...   \n9999               4  Clean facility just off freeway ..... staff fr...   \n\n                                          reviews.title  \n0                               Best Western Plus Hotel  \n1     Clean rooms at solid rates in the heart of Carmel  \n2                                              Business  \n3                                             Very good  \n4                          Low chance to come back here  \n...                                                 ...  \n9995             Very accommodating and friendly staff!  \n9996         comfortable, friendly, clean, professional  \n9997                                     Great location  \n9998                                  Great Atmosphere!  \n9999                           Health care appointments  \n\n[10000 rows x 3 columns]",
      "text/html": "<div>\n<style scoped>\n    .dataframe tbody tr th:only-of-type {\n        vertical-align: middle;\n    }\n\n    .dataframe tbody tr th {\n        vertical-align: top;\n    }\n\n    .dataframe thead th {\n        text-align: right;\n    }\n</style>\n<table border=\"1\" class=\"dataframe\">\n  <thead>\n    <tr style=\"text-align: right;\">\n      <th></th>\n      <th>reviews.rating</th>\n      <th>reviews.text</th>\n      <th>reviews.title</th>\n    </tr>\n  </thead>\n  <tbody>\n    <tr>\n      <th>0</th>\n      <td>3</td>\n      <td>This hotel was nice and quiet. Did not know, t...</td>\n      <td>Best Western Plus Hotel</td>\n    </tr>\n    <tr>\n      <th>1</th>\n      <td>4</td>\n      <td>We stayed in the king suite with the separatio...</td>\n      <td>Clean rooms at solid rates in the heart of Carmel</td>\n    </tr>\n    <tr>\n      <th>2</th>\n      <td>3</td>\n      <td>Parking was horrible, somebody ran into my ren...</td>\n      <td>Business</td>\n    </tr>\n    <tr>\n      <th>3</th>\n      <td>5</td>\n      <td>Not cheap but excellent location. Price is som...</td>\n      <td>Very good</td>\n    </tr>\n    <tr>\n      <th>4</th>\n      <td>2</td>\n      <td>If you get the room that they advertised on th...</td>\n      <td>Low chance to come back here</td>\n    </tr>\n    <tr>\n      <th>...</th>\n      <td>...</td>\n      <td>...</td>\n      <td>...</td>\n    </tr>\n    <tr>\n      <th>9995</th>\n      <td>4</td>\n      <td>My friends and I took a trip to Hampton for th...</td>\n      <td>Very accommodating and friendly staff!</td>\n    </tr>\n    <tr>\n      <th>9996</th>\n      <td>5</td>\n      <td>from check in to departure, staff is friendly,...</td>\n      <td>comfortable, friendly, clean, professional</td>\n    </tr>\n    <tr>\n      <th>9997</th>\n      <td>5</td>\n      <td>This Hampton is located on a quiet street acro...</td>\n      <td>Great location</td>\n    </tr>\n    <tr>\n      <th>9998</th>\n      <td>5</td>\n      <td>Awesome wings (my favorite was garlic parmesan...</td>\n      <td>Great Atmosphere!</td>\n    </tr>\n    <tr>\n      <th>9999</th>\n      <td>4</td>\n      <td>Clean facility just off freeway ..... staff fr...</td>\n      <td>Health care appointments</td>\n    </tr>\n  </tbody>\n</table>\n<p>10000 rows × 3 columns</p>\n</div>"
     },
     "execution_count": 36,
     "metadata": {},
     "output_type": "execute_result"
    }
   ],
   "source": [
    "df = df.loc[:, ['reviews.rating', 'reviews.text', 'reviews.title']]\n",
    "df"
   ]
  },
  {
   "cell_type": "code",
   "execution_count": 37,
   "id": "2cc6df0a30bc4bf5",
   "metadata": {
    "collapsed": false,
    "ExecuteTime": {
     "end_time": "2024-03-01T08:20:54.965080Z",
     "start_time": "2024-03-01T08:20:54.961632Z"
    }
   },
   "outputs": [],
   "source": [
    "df = df.astype({'reviews.rating': 'int', 'reviews.title': 'str', 'reviews.text': 'str'})"
   ]
  },
  {
   "cell_type": "code",
   "execution_count": 38,
   "id": "86d511e3b718bdaa",
   "metadata": {
    "collapsed": false,
    "ExecuteTime": {
     "end_time": "2024-03-01T08:20:55.014041Z",
     "start_time": "2024-03-01T08:20:54.966610Z"
    }
   },
   "outputs": [],
   "source": [
    "df.loc[:, 'reviews.text'] = df.apply(lambda row: str(row['reviews.title']) + \". \" + str(row['reviews.text']), axis=1)\n",
    "if \"reviews.title\" in df.columns:\n",
    "    df = df.drop(\"reviews.title\", axis=1)"
   ]
  },
  {
   "cell_type": "code",
   "execution_count": 39,
   "id": "25f4d522fc999eca",
   "metadata": {
    "collapsed": false,
    "ExecuteTime": {
     "end_time": "2024-03-01T08:20:55.018913Z",
     "start_time": "2024-03-01T08:20:55.014790Z"
    }
   },
   "outputs": [
    {
     "data": {
      "text/plain": "      reviews.rating                                       reviews.text\n0                  3  Best Western Plus Hotel. This hotel was nice a...\n1                  4  Clean rooms at solid rates in the heart of Car...\n2                  3  Business. Parking was horrible, somebody ran i...\n3                  5  Very good. Not cheap but excellent location. P...\n4                  2  Low chance to come back here. If you get the r...\n...              ...                                                ...\n9995               4  Very accommodating and friendly staff!. My fri...\n9996               5  comfortable, friendly, clean, professional. fr...\n9997               5  Great location. This Hampton is located on a q...\n9998               5  Great Atmosphere!. Awesome wings (my favorite ...\n9999               4  Health care appointments. Clean facility just ...\n\n[10000 rows x 2 columns]",
      "text/html": "<div>\n<style scoped>\n    .dataframe tbody tr th:only-of-type {\n        vertical-align: middle;\n    }\n\n    .dataframe tbody tr th {\n        vertical-align: top;\n    }\n\n    .dataframe thead th {\n        text-align: right;\n    }\n</style>\n<table border=\"1\" class=\"dataframe\">\n  <thead>\n    <tr style=\"text-align: right;\">\n      <th></th>\n      <th>reviews.rating</th>\n      <th>reviews.text</th>\n    </tr>\n  </thead>\n  <tbody>\n    <tr>\n      <th>0</th>\n      <td>3</td>\n      <td>Best Western Plus Hotel. This hotel was nice a...</td>\n    </tr>\n    <tr>\n      <th>1</th>\n      <td>4</td>\n      <td>Clean rooms at solid rates in the heart of Car...</td>\n    </tr>\n    <tr>\n      <th>2</th>\n      <td>3</td>\n      <td>Business. Parking was horrible, somebody ran i...</td>\n    </tr>\n    <tr>\n      <th>3</th>\n      <td>5</td>\n      <td>Very good. Not cheap but excellent location. P...</td>\n    </tr>\n    <tr>\n      <th>4</th>\n      <td>2</td>\n      <td>Low chance to come back here. If you get the r...</td>\n    </tr>\n    <tr>\n      <th>...</th>\n      <td>...</td>\n      <td>...</td>\n    </tr>\n    <tr>\n      <th>9995</th>\n      <td>4</td>\n      <td>Very accommodating and friendly staff!. My fri...</td>\n    </tr>\n    <tr>\n      <th>9996</th>\n      <td>5</td>\n      <td>comfortable, friendly, clean, professional. fr...</td>\n    </tr>\n    <tr>\n      <th>9997</th>\n      <td>5</td>\n      <td>Great location. This Hampton is located on a q...</td>\n    </tr>\n    <tr>\n      <th>9998</th>\n      <td>5</td>\n      <td>Great Atmosphere!. Awesome wings (my favorite ...</td>\n    </tr>\n    <tr>\n      <th>9999</th>\n      <td>4</td>\n      <td>Health care appointments. Clean facility just ...</td>\n    </tr>\n  </tbody>\n</table>\n<p>10000 rows × 2 columns</p>\n</div>"
     },
     "execution_count": 39,
     "metadata": {},
     "output_type": "execute_result"
    }
   ],
   "source": [
    "df"
   ]
  },
  {
   "cell_type": "markdown",
   "source": [],
   "metadata": {
    "collapsed": false
   },
   "id": "35a96bd763b75ac7"
  },
  {
   "cell_type": "code",
   "execution_count": 40,
   "id": "15fbcc21c39bc3f1",
   "metadata": {
    "collapsed": false,
    "ExecuteTime": {
     "end_time": "2024-03-01T08:20:55.044600Z",
     "start_time": "2024-03-01T08:20:55.019880Z"
    }
   },
   "outputs": [],
   "source": [
    "df = df.dropna(subset=['reviews.rating'])\n",
    "df = df.dropna(subset=['reviews.text'])\n",
    "df = df.drop_duplicates()"
   ]
  },
  {
   "cell_type": "code",
   "execution_count": 41,
   "id": "9be8dbb87d39dfc4",
   "metadata": {
    "collapsed": false,
    "ExecuteTime": {
     "end_time": "2024-03-01T08:20:55.104171Z",
     "start_time": "2024-03-01T08:20:55.045595Z"
    }
   },
   "outputs": [],
   "source": [
    "df['reviews.text'] = df['reviews.text'].str.replace('[^a-zA-Z0-9 @]', '', regex=True)\n",
    "df = df.dropna(subset=['reviews.text'])\n",
    "df = df[df['reviews.text'] != '']"
   ]
  },
  {
   "cell_type": "code",
   "execution_count": 42,
   "id": "e51c74e6f25668f1",
   "metadata": {
    "collapsed": false,
    "ExecuteTime": {
     "end_time": "2024-03-01T08:21:19.606702Z",
     "start_time": "2024-03-01T08:20:55.105361Z"
    }
   },
   "outputs": [
    {
     "data": {
      "text/plain": "      reviews.rating                                       reviews.text  \\\n0                  3  Best Western Plus Hotel This hotel was nice an...   \n1                  4  Clean rooms at solid rates in the heart of Car...   \n2                  3  Business Parking was horrible somebody ran int...   \n3                  5  Very good Not cheap but excellent location Pri...   \n4                  2  Low chance to come back here If you get the ro...   \n...              ...                                                ...   \n9995               4  Very accommodating and friendly staff My frien...   \n9996               5  comfortable friendly clean professional from c...   \n9997               5  Great location This Hampton is located on a qu...   \n9998               5  Great Atmosphere Awesome wings my favorite was...   \n9999               4  Health care appointments Clean facility just o...   \n\n     language  \n0          en  \n1          en  \n2          en  \n3          en  \n4          en  \n...       ...  \n9995       en  \n9996       en  \n9997       en  \n9998       en  \n9999       en  \n\n[9787 rows x 3 columns]",
      "text/html": "<div>\n<style scoped>\n    .dataframe tbody tr th:only-of-type {\n        vertical-align: middle;\n    }\n\n    .dataframe tbody tr th {\n        vertical-align: top;\n    }\n\n    .dataframe thead th {\n        text-align: right;\n    }\n</style>\n<table border=\"1\" class=\"dataframe\">\n  <thead>\n    <tr style=\"text-align: right;\">\n      <th></th>\n      <th>reviews.rating</th>\n      <th>reviews.text</th>\n      <th>language</th>\n    </tr>\n  </thead>\n  <tbody>\n    <tr>\n      <th>0</th>\n      <td>3</td>\n      <td>Best Western Plus Hotel This hotel was nice an...</td>\n      <td>en</td>\n    </tr>\n    <tr>\n      <th>1</th>\n      <td>4</td>\n      <td>Clean rooms at solid rates in the heart of Car...</td>\n      <td>en</td>\n    </tr>\n    <tr>\n      <th>2</th>\n      <td>3</td>\n      <td>Business Parking was horrible somebody ran int...</td>\n      <td>en</td>\n    </tr>\n    <tr>\n      <th>3</th>\n      <td>5</td>\n      <td>Very good Not cheap but excellent location Pri...</td>\n      <td>en</td>\n    </tr>\n    <tr>\n      <th>4</th>\n      <td>2</td>\n      <td>Low chance to come back here If you get the ro...</td>\n      <td>en</td>\n    </tr>\n    <tr>\n      <th>...</th>\n      <td>...</td>\n      <td>...</td>\n      <td>...</td>\n    </tr>\n    <tr>\n      <th>9995</th>\n      <td>4</td>\n      <td>Very accommodating and friendly staff My frien...</td>\n      <td>en</td>\n    </tr>\n    <tr>\n      <th>9996</th>\n      <td>5</td>\n      <td>comfortable friendly clean professional from c...</td>\n      <td>en</td>\n    </tr>\n    <tr>\n      <th>9997</th>\n      <td>5</td>\n      <td>Great location This Hampton is located on a qu...</td>\n      <td>en</td>\n    </tr>\n    <tr>\n      <th>9998</th>\n      <td>5</td>\n      <td>Great Atmosphere Awesome wings my favorite was...</td>\n      <td>en</td>\n    </tr>\n    <tr>\n      <th>9999</th>\n      <td>4</td>\n      <td>Health care appointments Clean facility just o...</td>\n      <td>en</td>\n    </tr>\n  </tbody>\n</table>\n<p>9787 rows × 3 columns</p>\n</div>"
     },
     "execution_count": 42,
     "metadata": {},
     "output_type": "execute_result"
    }
   ],
   "source": [
    "def detect_language(text):\n",
    "    try:\n",
    "        return detect(text)\n",
    "    except LangDetectException:\n",
    "        return 'Unknown'\n",
    "    \n",
    "df['language'] = df['reviews.text'].apply(detect_language)\n",
    "df"
   ]
  },
  {
   "cell_type": "code",
   "execution_count": 43,
   "id": "75fc0353c159d03c",
   "metadata": {
    "collapsed": false,
    "ExecuteTime": {
     "end_time": "2024-03-01T08:21:19.610370Z",
     "start_time": "2024-03-01T08:21:19.607421Z"
    }
   },
   "outputs": [],
   "source": [
    "df = df.loc[df['language'] == 'en']"
   ]
  },
  {
   "cell_type": "code",
   "execution_count": 44,
   "id": "38ef525036322f59",
   "metadata": {
    "collapsed": false,
    "ExecuteTime": {
     "end_time": "2024-03-01T08:21:19.683079Z",
     "start_time": "2024-03-01T08:21:19.613036Z"
    }
   },
   "outputs": [
    {
     "data": {
      "text/plain": "<Figure size 640x480 with 1 Axes>",
      "image/png": "[encoded data removed]"
     },
     "metadata": {},
     "output_type": "display_data"
    }
   ],
   "source": [
    "rating_counts = df['reviews.rating'].value_counts().sort_index()\n",
    "all_ratings = pd.Series(index=range(1, 6), data=0)  # Initialiser les notes de 1 à 5 à 0\n",
    "rating_counts = all_ratings.add(rating_counts, fill_value=0).astype(int)  # Ajouter les comptes existants\n",
    "rating_counts.plot(kind='bar')\n",
    "plt.title('Distribution des notes (reviews.rating)')\n",
    "plt.xlabel('Note')\n",
    "plt.ylabel('Nombre d\\'occurrences')\n",
    "plt.show()"
   ]
  },
  {
   "cell_type": "code",
   "execution_count": 45,
   "id": "9087155abb31d756",
   "metadata": {
    "collapsed": false,
    "ExecuteTime": {
     "end_time": "2024-03-01T08:21:19.687419Z",
     "start_time": "2024-03-01T08:21:19.684501Z"
    }
   },
   "outputs": [],
   "source": [
    "def remove_stopwords(text):\n",
    "    en_stopwords = stopwords.words('english')  # Use English stop words\n",
    "    text = [word for word in text.split() if word not in en_stopwords]\n",
    "    return \" \".join(text)  # Join back into a string"
   ]
  },
  {
   "cell_type": "code",
   "execution_count": 46,
   "id": "56557fe90e0653ee",
   "metadata": {
    "collapsed": false,
    "ExecuteTime": {
     "end_time": "2024-03-01T08:21:19.691322Z",
     "start_time": "2024-03-01T08:21:19.688548Z"
    }
   },
   "outputs": [],
   "source": [
    "import string\n",
    "\n",
    "def clean_text(text):\n",
    "    text = text.lower()\n",
    "    text = \"\".join([char for char in text if char not in string.punctuation])\n",
    "    text = remove_stopwords(text)\n",
    "    return text"
   ]
  },
  {
   "cell_type": "code",
   "execution_count": 47,
   "id": "b4dc1c35d0d3c98d",
   "metadata": {
    "collapsed": false,
    "ExecuteTime": {
     "end_time": "2024-03-01T08:21:20.278356Z",
     "start_time": "2024-03-01T08:21:19.692133Z"
    }
   },
   "outputs": [],
   "source": [
    "tfidf_vectorizer = TfidfVectorizer(max_features=3000)\n",
    "X_tfidf = tfidf_vectorizer.fit_transform(df['reviews.text']).toarray()"
   ]
  },
  {
   "cell_type": "code",
   "execution_count": 48,
   "id": "d315fb839190857a",
   "metadata": {
    "collapsed": false,
    "ExecuteTime": {
     "end_time": "2024-03-01T08:21:20.368737Z",
     "start_time": "2024-03-01T08:21:20.279227Z"
    }
   },
   "outputs": [],
   "source": [
    "y = df['reviews.rating'].values\n",
    "np.save('X_tfidf.npy', X_tfidf)\n",
    "np.save('y.npy', y)"
   ]
  },
  {
   "cell_type": "code",
   "execution_count": 49,
   "id": "046d9210",
   "metadata": {
    "ExecuteTime": {
     "end_time": "2024-03-01T08:21:22.519857Z",
     "start_time": "2024-03-01T08:21:20.369534Z"
    }
   },
   "outputs": [],
   "source": [
    "from nltk import WordNetLemmatizer\n",
    "#nltk.download('wordnet')\n",
    "\n",
    "def preprocess_text(text):\n",
    "    text = re.sub(r'https?://\\S+|www\\.\\S+', '', text)\n",
    "    text = re.sub(r'<.*?>', '', text)\n",
    "    text = text.encode('ascii', 'ignore').decode('utf-8', 'ignore')\n",
    "    lemmatizer = WordNetLemmatizer()\n",
    "    text = ' '.join([lemmatizer.lemmatize(word) for word in text.split()])\n",
    "    return text\n",
    "\n",
    "df.loc[:, 'reviews.text'] = df['reviews.text'].apply(preprocess_text)"
   ]
  },
  {
   "cell_type": "code",
   "execution_count": 50,
   "id": "019af192",
   "metadata": {
    "ExecuteTime": {
     "end_time": "2024-03-01T08:21:23.246534Z",
     "start_time": "2024-03-01T08:21:22.520825Z"
    }
   },
   "outputs": [],
   "source": [
    "tokenizer = Tokenizer(num_words=10000, oov_token=\"<OOV>\")\n",
    "tokenizer.fit_on_texts(df['reviews.text'])\n",
    "sequences = tokenizer.texts_to_sequences(df['reviews.text'])\n",
    "padded_sequences = pad_sequences(sequences, padding='post', maxlen=120)"
   ]
  },
  {
   "cell_type": "markdown",
   "source": [
    "### Model TensorFlow"
   ],
   "metadata": {
    "collapsed": false
   },
   "id": "5025ba6e6db794d5"
  },
  {
   "cell_type": "code",
   "execution_count": 51,
   "id": "98b1f5c27c65fe1e",
   "metadata": {
    "collapsed": false,
    "ExecuteTime": {
     "end_time": "2024-03-01T08:21:23.249728Z",
     "start_time": "2024-03-01T08:21:23.247422Z"
    }
   },
   "outputs": [],
   "source": [
    "from tensorflow.keras.models import Sequential\n",
    "from tensorflow.keras.layers import Dense, Dropout\n",
    "from sklearn.model_selection import train_test_split\n",
    "from tensorflow.keras.callbacks import EarlyStopping\n",
    "from tensorflow.keras.regularizers import l2"
   ]
  },
  {
   "cell_type": "code",
   "execution_count": 52,
   "id": "e8ec8064095bfa0b",
   "metadata": {
    "collapsed": false,
    "ExecuteTime": {
     "end_time": "2024-03-01T08:21:23.367710Z",
     "start_time": "2024-03-01T08:21:23.250620Z"
    }
   },
   "outputs": [],
   "source": [
    "X = np.load('X_tfidf.npy')\n",
    "y = np.load('y.npy')\n",
    "\n",
    "X_train, X_test, y_train, y_test = train_test_split(X, y, test_size=0.2, random_state=42)"
   ]
  },
  {
   "cell_type": "code",
   "execution_count": 53,
   "id": "c7133fec65da96c1",
   "metadata": {
    "collapsed": false,
    "ExecuteTime": {
     "end_time": "2024-03-01T08:21:23.399233Z",
     "start_time": "2024-03-01T08:21:23.368335Z"
    }
   },
   "outputs": [],
   "source": [
    "regularizer = l2(0.001)\n",
    "model = Sequential([\n",
    "    Dense(512, activation='relu', input_shape=(X_train.shape[1],), kernel_regularizer=regularizer),\n",
    "    Dropout(0.5),\n",
    "    Dense(256, activation='relu', kernel_regularizer=regularizer),\n",
    "    Dropout(0.5),\n",
    "    Dense(5, activation='softmax', kernel_regularizer=regularizer)\n",
    "])\n",
    "\n",
    "model.compile(optimizer='adam',\n",
    "              loss='sparse_categorical_crossentropy',\n",
    "              metrics=['accuracy'])\n",
    "\n",
    "\n",
    "earlyStopping = EarlyStopping(monitor='val_loss', patience=10, restore_best_weights=True);\n",
    "\n",
    "\n",
    "y_train_adj = y_train - 1\n",
    "y_test_adj = y_test - 1"
   ]
  },
  {
   "cell_type": "code",
   "execution_count": 54,
   "id": "a7c594365a076e54",
   "metadata": {
    "collapsed": false,
    "ExecuteTime": {
     "end_time": "2024-03-01T08:21:34.648568Z",
     "start_time": "2024-03-01T08:21:23.399999Z"
    }
   },
   "outputs": [
    {
     "name": "stdout",
     "output_type": "stream",
     "text": [
      "Epoch 1/100\n",
      "196/196 [==============================] - 1s 5ms/step - loss: 1.4191 - accuracy: 0.5374 - val_loss: 1.1119 - val_accuracy: 0.6170\n",
      "Epoch 2/100\n",
      "196/196 [==============================] - 1s 4ms/step - loss: 1.0736 - accuracy: 0.6520 - val_loss: 1.0958 - val_accuracy: 0.6432\n",
      "Epoch 3/100\n",
      "196/196 [==============================] - 1s 4ms/step - loss: 1.0105 - accuracy: 0.6902 - val_loss: 1.0877 - val_accuracy: 0.6464\n",
      "Epoch 4/100\n",
      "196/196 [==============================] - 1s 4ms/step - loss: 0.9882 - accuracy: 0.7011 - val_loss: 1.0990 - val_accuracy: 0.6432\n",
      "Epoch 5/100\n",
      "196/196 [==============================] - 1s 4ms/step - loss: 0.9650 - accuracy: 0.7158 - val_loss: 1.1541 - val_accuracy: 0.6234\n",
      "Epoch 6/100\n",
      "196/196 [==============================] - 1s 4ms/step - loss: 0.9584 - accuracy: 0.7238 - val_loss: 1.1323 - val_accuracy: 0.6336\n",
      "Epoch 7/100\n",
      "196/196 [==============================] - 1s 4ms/step - loss: 0.9452 - accuracy: 0.7370 - val_loss: 1.1930 - val_accuracy: 0.6292\n",
      "Epoch 8/100\n",
      "196/196 [==============================] - 1s 4ms/step - loss: 0.9254 - accuracy: 0.7502 - val_loss: 1.1753 - val_accuracy: 0.6400\n",
      "Epoch 9/100\n",
      "196/196 [==============================] - 1s 4ms/step - loss: 0.9083 - accuracy: 0.7607 - val_loss: 1.1792 - val_accuracy: 0.6432\n",
      "Epoch 10/100\n",
      "196/196 [==============================] - 1s 4ms/step - loss: 0.9076 - accuracy: 0.7678 - val_loss: 1.2330 - val_accuracy: 0.6298\n",
      "Epoch 11/100\n",
      "196/196 [==============================] - 1s 4ms/step - loss: 0.8846 - accuracy: 0.7922 - val_loss: 1.2516 - val_accuracy: 0.6304\n",
      "Epoch 12/100\n",
      "196/196 [==============================] - 1s 4ms/step - loss: 0.8655 - accuracy: 0.8068 - val_loss: 1.2740 - val_accuracy: 0.6081\n",
      "Epoch 13/100\n",
      "196/196 [==============================] - 1s 4ms/step - loss: 0.8596 - accuracy: 0.8122 - val_loss: 1.2983 - val_accuracy: 0.6272\n"
     ]
    }
   ],
   "source": [
    "history = model.fit(X_train, y_train_adj, epochs=100, batch_size=32, validation_split=0.2, callbacks=[earlyStopping]);"
   ]
  },
  {
   "cell_type": "code",
   "execution_count": 58,
   "id": "6adb0271649bb710",
   "metadata": {
    "collapsed": false,
    "ExecuteTime": {
     "end_time": "2024-03-01T08:21:41.632650Z",
     "start_time": "2024-03-01T08:21:41.493804Z"
    }
   },
   "outputs": [
    {
     "name": "stdout",
     "output_type": "stream",
     "text": [
      "62/62 [==============================] - 0s 2ms/step - loss: 1.0979 - accuracy: 0.6307\n",
      "Test Loss: 1.098, Test Accuracy: 0.631\n"
     ]
    }
   ],
   "source": [
    "loss, accuracy = model.evaluate(X_test, y_test_adj)\n",
    "print(f'Test Loss: {loss:.3f}, Test Accuracy: {accuracy:.3f}')"
   ]
  },
  {
   "cell_type": "code",
   "execution_count": 70,
   "id": "1f4e8daaf7e7261e",
   "metadata": {
    "collapsed": false,
    "ExecuteTime": {
     "end_time": "2024-03-01T08:22:39.180398Z",
     "start_time": "2024-03-01T08:22:39.176009Z"
    }
   },
   "outputs": [],
   "source": [
    "new_review_vector = tfidf_vectorizer.transform([\"Cool but the pool was cold not very cool for us\"]).toarray()"
   ]
  },
  {
   "cell_type": "code",
   "execution_count": 71,
   "id": "f39b8751fdd5ce33",
   "metadata": {
    "collapsed": false,
    "ExecuteTime": {
     "end_time": "2024-03-01T08:22:39.576710Z",
     "start_time": "2024-03-01T08:22:39.547389Z"
    }
   },
   "outputs": [
    {
     "name": "stdout",
     "output_type": "stream",
     "text": [
      "1/1 [==============================] - 0s 9ms/step\n",
      "Note prédite: 3\n"
     ]
    }
   ],
   "source": [
    "prediction = model.predict(new_review_vector)\n",
    "predicted_rating = np.argmax(prediction) + 1\n",
    "print(f'Note prédite: {predicted_rating}')"
   ]
  },
  {
   "cell_type": "markdown",
   "source": [],
   "metadata": {
    "collapsed": false
   },
   "id": "7e0206a8048277f"
  }
 ],
 "metadata": {
  "kernelspec": {
   "display_name": "Python 3",
   "language": "python",
   "name": "python3"
  },
  "language_info": {
   "codemirror_mode": {
    "name": "ipython",
    "version": 2
   },
   "file_extension": ".py",
   "mimetype": "text/x-python",
   "name": "python",
   "nbconvert_exporter": "python",
   "pygments_lexer": "ipython2",
   "version": "2.7.6"
  }
 },
 "nbformat": 4,
 "nbformat_minor": 5
}
