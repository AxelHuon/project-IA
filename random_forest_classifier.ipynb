{
 "cells": [
  {
   "cell_type": "code",
   "execution_count": 19,
   "id": "initial_id",
   "metadata": {
    "collapsed": true,
    "ExecuteTime": {
     "end_time": "2024-02-29T15:02:00.114102Z",
     "start_time": "2024-02-29T15:01:59.862803Z"
    }
   },
   "outputs": [],
   "source": [
    "import numpy as np\n",
    "from sklearn.model_selection import train_test_split, GridSearchCV\n",
    "from sklearn.ensemble import RandomForestClassifier\n",
    "from sklearn.feature_extraction.text import TfidfVectorizer\n",
    "from sklearn.metrics import classification_report, confusion_matrix\n",
    "import matplotlib.pyplot as plt\n",
    "import joblib"
   ]
  },
  {
   "cell_type": "code",
   "outputs": [],
   "source": [
    "# Charger les données\n",
    "X = np.load('X_tfidf.npy')\n",
    "y = np.load('y.npy')"
   ],
   "metadata": {
    "collapsed": false,
    "ExecuteTime": {
     "end_time": "2024-02-29T15:02:00.190068Z",
     "start_time": "2024-02-29T15:02:00.117030Z"
    }
   },
   "id": "385c8b089bd9f1d5",
   "execution_count": 20
  },
  {
   "cell_type": "code",
   "outputs": [],
   "source": [
    "# Diviser les données en ensembles d'entraînement et de test\n",
    "X_train, X_test, y_train, y_test = train_test_split(X, y, test_size=0.2, random_state=42)"
   ],
   "metadata": {
    "collapsed": false,
    "ExecuteTime": {
     "end_time": "2024-02-29T15:02:00.240782Z",
     "start_time": "2024-02-29T15:02:00.192103Z"
    }
   },
   "id": "6a08d173d8d13a27",
   "execution_count": 21
  },
  {
   "cell_type": "code",
   "outputs": [],
   "source": [
    "# Initialiser le modèle RandomForest\n",
    "model = RandomForestClassifier(n_estimators=100, random_state=42)"
   ],
   "metadata": {
    "collapsed": false,
    "ExecuteTime": {
     "end_time": "2024-02-29T15:02:00.248080Z",
     "start_time": "2024-02-29T15:02:00.242747Z"
    }
   },
   "id": "3adb0d77410fa9fb",
   "execution_count": 22
  },
  {
   "cell_type": "code",
   "outputs": [
    {
     "data": {
      "text/plain": "RandomForestClassifier(random_state=42)",
      "text/html": "<style>#sk-container-id-2 {color: black;}#sk-container-id-2 pre{padding: 0;}#sk-container-id-2 div.sk-toggleable {background-color: white;}#sk-container-id-2 label.sk-toggleable__label {cursor: pointer;display: block;width: 100%;margin-bottom: 0;padding: 0.3em;box-sizing: border-box;text-align: center;}#sk-container-id-2 label.sk-toggleable__label-arrow:before {content: \"▸\";float: left;margin-right: 0.25em;color: #696969;}#sk-container-id-2 label.sk-toggleable__label-arrow:hover:before {color: black;}#sk-container-id-2 div.sk-estimator:hover label.sk-toggleable__label-arrow:before {color: black;}#sk-container-id-2 div.sk-toggleable__content {max-height: 0;max-width: 0;overflow: hidden;text-align: left;background-color: #f0f8ff;}#sk-container-id-2 div.sk-toggleable__content pre {margin: 0.2em;color: black;border-radius: 0.25em;background-color: #f0f8ff;}#sk-container-id-2 input.sk-toggleable__control:checked~div.sk-toggleable__content {max-height: 200px;max-width: 100%;overflow: auto;}#sk-container-id-2 input.sk-toggleable__control:checked~label.sk-toggleable__label-arrow:before {content: \"▾\";}#sk-container-id-2 div.sk-estimator input.sk-toggleable__control:checked~label.sk-toggleable__label {background-color: #d4ebff;}#sk-container-id-2 div.sk-label input.sk-toggleable__control:checked~label.sk-toggleable__label {background-color: #d4ebff;}#sk-container-id-2 input.sk-hidden--visually {border: 0;clip: rect(1px 1px 1px 1px);clip: rect(1px, 1px, 1px, 1px);height: 1px;margin: -1px;overflow: hidden;padding: 0;position: absolute;width: 1px;}#sk-container-id-2 div.sk-estimator {font-family: monospace;background-color: #f0f8ff;border: 1px dotted black;border-radius: 0.25em;box-sizing: border-box;margin-bottom: 0.5em;}#sk-container-id-2 div.sk-estimator:hover {background-color: #d4ebff;}#sk-container-id-2 div.sk-parallel-item::after {content: \"\";width: 100%;border-bottom: 1px solid gray;flex-grow: 1;}#sk-container-id-2 div.sk-label:hover label.sk-toggleable__label {background-color: #d4ebff;}#sk-container-id-2 div.sk-serial::before {content: \"\";position: absolute;border-left: 1px solid gray;box-sizing: border-box;top: 0;bottom: 0;left: 50%;z-index: 0;}#sk-container-id-2 div.sk-serial {display: flex;flex-direction: column;align-items: center;background-color: white;padding-right: 0.2em;padding-left: 0.2em;position: relative;}#sk-container-id-2 div.sk-item {position: relative;z-index: 1;}#sk-container-id-2 div.sk-parallel {display: flex;align-items: stretch;justify-content: center;background-color: white;position: relative;}#sk-container-id-2 div.sk-item::before, #sk-container-id-2 div.sk-parallel-item::before {content: \"\";position: absolute;border-left: 1px solid gray;box-sizing: border-box;top: 0;bottom: 0;left: 50%;z-index: -1;}#sk-container-id-2 div.sk-parallel-item {display: flex;flex-direction: column;z-index: 1;position: relative;background-color: white;}#sk-container-id-2 div.sk-parallel-item:first-child::after {align-self: flex-end;width: 50%;}#sk-container-id-2 div.sk-parallel-item:last-child::after {align-self: flex-start;width: 50%;}#sk-container-id-2 div.sk-parallel-item:only-child::after {width: 0;}#sk-container-id-2 div.sk-dashed-wrapped {border: 1px dashed gray;margin: 0 0.4em 0.5em 0.4em;box-sizing: border-box;padding-bottom: 0.4em;background-color: white;}#sk-container-id-2 div.sk-label label {font-family: monospace;font-weight: bold;display: inline-block;line-height: 1.2em;}#sk-container-id-2 div.sk-label-container {text-align: center;}#sk-container-id-2 div.sk-container {/* jupyter's `normalize.less` sets `[hidden] { display: none; }` but bootstrap.min.css set `[hidden] { display: none !important; }` so we also need the `!important` here to be able to override the default hidden behavior on the sphinx rendered scikit-learn.org. See: https://github.com/scikit-learn/scikit-learn/issues/21755 */display: inline-block !important;position: relative;}#sk-container-id-2 div.sk-text-repr-fallback {display: none;}</style><div id=\"sk-container-id-2\" class=\"sk-top-container\"><div class=\"sk-text-repr-fallback\"><pre>RandomForestClassifier(random_state=42)</pre><b>In a Jupyter environment, please rerun this cell to show the HTML representation or trust the notebook. <br />On GitHub, the HTML representation is unable to render, please try loading this page with nbviewer.org.</b></div><div class=\"sk-container\" hidden><div class=\"sk-item\"><div class=\"sk-estimator sk-toggleable\"><input class=\"sk-toggleable__control sk-hidden--visually\" id=\"sk-estimator-id-2\" type=\"checkbox\" checked><label for=\"sk-estimator-id-2\" class=\"sk-toggleable__label sk-toggleable__label-arrow\">RandomForestClassifier</label><div class=\"sk-toggleable__content\"><pre>RandomForestClassifier(random_state=42)</pre></div></div></div></div></div>"
     },
     "execution_count": 23,
     "metadata": {},
     "output_type": "execute_result"
    }
   ],
   "source": [
    "# Entraîner le modèle\n",
    "model.fit(X_train, y_train)"
   ],
   "metadata": {
    "collapsed": false,
    "ExecuteTime": {
     "end_time": "2024-02-29T15:02:06.361533Z",
     "start_time": "2024-02-29T15:02:00.253069Z"
    }
   },
   "id": "4577ac5c9878686d",
   "execution_count": 23
  },
  {
   "cell_type": "code",
   "outputs": [
    {
     "name": "stdout",
     "output_type": "stream",
     "text": [
      "Rapport de classification :\n",
      "              precision    recall  f1-score   support\n",
      "\n",
      "           1       0.67      0.31      0.42       108\n",
      "           2       0.70      0.07      0.12       105\n",
      "           3       0.51      0.16      0.24       231\n",
      "           4       0.43      0.34      0.38       552\n",
      "           5       0.64      0.91      0.75       959\n",
      "\n",
      "    accuracy                           0.58      1955\n",
      "   macro avg       0.59      0.36      0.38      1955\n",
      "weighted avg       0.57      0.58      0.53      1955\n"
     ]
    }
   ],
   "source": [
    "# Prédire les étiquettes sur l'ensemble de test\n",
    "y_pred = model.predict(X_test)\n",
    "\n",
    "# Afficher le rapport de classification\n",
    "print(\"Rapport de classification :\")\n",
    "print(classification_report(y_test, y_pred))"
   ],
   "metadata": {
    "collapsed": false,
    "ExecuteTime": {
     "end_time": "2024-02-29T15:02:06.466177Z",
     "start_time": "2024-02-29T15:02:06.363125Z"
    }
   },
   "id": "5bf058af55dbd158",
   "execution_count": 24
  },
  {
   "cell_type": "code",
   "outputs": [
    {
     "name": "stdout",
     "output_type": "stream",
     "text": [
      "Matrice de confusion :\n"
     ]
    },
    {
     "data": {
      "text/plain": "<Figure size 1000x700 with 2 Axes>",
      "image/png": "[encoded data removed]"
     },
     "metadata": {},
     "output_type": "display_data"
    }
   ],
   "source": [
    "# Afficher la matrice de confusion\n",
    "print(\"Matrice de confusion :\")\n",
    "cm = confusion_matrix(y_test, y_pred)\n",
    "plt.figure(figsize=(10, 7))\n",
    "plt.imshow(cm, interpolation='nearest', cmap=plt.cm.Wistia)\n",
    "plt.title('Matrice de confusion')\n",
    "plt.colorbar()\n",
    "tick_marks = np.arange(len(np.unique(y)))\n",
    "plt.xticks(tick_marks, np.unique(y), rotation=45)\n",
    "plt.yticks(tick_marks, np.unique(y))\n",
    "plt.tight_layout()\n",
    "plt.ylabel('Vrai label')\n",
    "plt.xlabel('Label prédit')\n",
    "plt.show()"
   ],
   "metadata": {
    "collapsed": false,
    "ExecuteTime": {
     "end_time": "2024-02-29T15:02:06.784027Z",
     "start_time": "2024-02-29T15:02:06.467860Z"
    }
   },
   "id": "a5063194a0a18418",
   "execution_count": 25
  },
  {
   "cell_type": "code",
   "outputs": [
    {
     "data": {
      "text/plain": "<Figure size 640x480 with 1 Axes>",
      "image/png": "[encoded data removed]"
     },
     "metadata": {},
     "output_type": "display_data"
    }
   ],
   "source": [
    "# Importance des caractéristiques\n",
    "importances = model.feature_importances_\n",
    "indices = np.argsort(importances)[::-1]\n",
    "\n",
    "plt.figure()\n",
    "plt.title(\"Importance des caractéristiques\")\n",
    "plt.bar(range(X_train.shape[1]), importances[indices],\n",
    "       color=\"r\", align=\"center\")\n",
    "plt.xticks(range(X_train.shape[1]), indices)\n",
    "plt.xlim([-1, X_train.shape[1]])\n",
    "plt.show()"
   ],
   "metadata": {
    "collapsed": false,
    "ExecuteTime": {
     "end_time": "2024-02-29T15:02:09.510149Z",
     "start_time": "2024-02-29T15:02:06.795595Z"
    }
   },
   "id": "3de173d8bf4226db",
   "execution_count": 26
  },
  {
   "cell_type": "code",
   "outputs": [
    {
     "name": "stdout",
     "output_type": "stream",
     "text": [
      "Meilleurs paramètres trouvés :\n",
      "{'max_depth': None, 'n_estimators': 200}\n"
     ]
    }
   ],
   "source": [
    "# Ajustement des hyperparamètres avec GridSearchCV (exemple simplifié)\n",
    "param_grid = {'n_estimators': [100, 200], 'max_depth': [None, 10, 20]}\n",
    "grid_search = GridSearchCV(RandomForestClassifier(random_state=42), param_grid, cv=5)\n",
    "grid_search.fit(X_train, y_train)\n",
    "\n",
    "print(\"Meilleurs paramètres trouvés :\")\n",
    "print(grid_search.best_params_)"
   ],
   "metadata": {
    "collapsed": false,
    "ExecuteTime": {
     "end_time": "2024-02-29T15:04:55.844373Z",
     "start_time": "2024-02-29T15:02:09.511028Z"
    }
   },
   "id": "542f1c460d89c156",
   "execution_count": 27
  },
  {
   "cell_type": "code",
   "outputs": [],
   "source": [
    "# Entraîner le modèle avec les meilleurs paramètres\n",
    "best_model = grid_search.best_estimator_"
   ],
   "metadata": {
    "collapsed": false,
    "ExecuteTime": {
     "end_time": "2024-02-29T15:04:55.862211Z",
     "start_time": "2024-02-29T15:04:55.849582Z"
    }
   },
   "id": "14751b920d78f68c",
   "execution_count": 28
  },
  {
   "cell_type": "code",
   "outputs": [
    {
     "data": {
      "text/plain": "['random_forest_model.joblib']"
     },
     "execution_count": 29,
     "metadata": {},
     "output_type": "execute_result"
    }
   ],
   "source": [
    "# Sauvegarder le modèle\n",
    "joblib.dump(best_model, 'random_forest_model.joblib')"
   ],
   "metadata": {
    "collapsed": false,
    "ExecuteTime": {
     "end_time": "2024-02-29T15:04:56.144330Z",
     "start_time": "2024-02-29T15:04:55.864180Z"
    }
   },
   "id": "39de232bc159a2d",
   "execution_count": 29
  },
  {
   "cell_type": "code",
   "outputs": [],
   "source": [
    "# Charger le modèle (pour une utilisation future)\n",
    "loaded_model = joblib.load('random_forest_model.joblib')"
   ],
   "metadata": {
    "collapsed": false,
    "ExecuteTime": {
     "end_time": "2024-02-29T15:04:56.302311Z",
     "start_time": "2024-02-29T15:04:56.146206Z"
    }
   },
   "id": "34606e4c98d23478",
   "execution_count": 30
  },
  {
   "cell_type": "code",
   "outputs": [
    {
     "name": "stdout",
     "output_type": "stream",
     "text": [
      "Rapport de classification du modèle chargé :\n",
      "              precision    recall  f1-score   support\n",
      "\n",
      "           1       0.63      0.33      0.44       108\n",
      "           2       0.57      0.04      0.07       105\n",
      "           3       0.53      0.14      0.23       231\n",
      "           4       0.44      0.34      0.39       552\n",
      "           5       0.63      0.93      0.75       959\n",
      "\n",
      "    accuracy                           0.59      1955\n",
      "   macro avg       0.56      0.36      0.37      1955\n",
      "weighted avg       0.56      0.59      0.53      1955\n"
     ]
    }
   ],
   "source": [
    "# Utiliser le modèle chargé pour faire des prédictions\n",
    "loaded_model_pred = loaded_model.predict(X_test)\n",
    "print(\"Rapport de classification du modèle chargé :\")\n",
    "print(classification_report(y_test, loaded_model_pred))"
   ],
   "metadata": {
    "collapsed": false,
    "ExecuteTime": {
     "end_time": "2024-02-29T15:04:56.488615Z",
     "start_time": "2024-02-29T15:04:56.303951Z"
    }
   },
   "id": "ba7e14f141619353",
   "execution_count": 31
  },
  {
   "cell_type": "code",
   "outputs": [],
   "source": [],
   "metadata": {
    "collapsed": false,
    "ExecuteTime": {
     "end_time": "2024-02-29T15:04:56.494794Z",
     "start_time": "2024-02-29T15:04:56.492853Z"
    }
   },
   "id": "a825563522364cff",
   "execution_count": 31
  },
  {
   "cell_type": "code",
   "outputs": [
    {
     "ename": "FileNotFoundError",
     "evalue": "[Errno 2] No such file or directory: '/data/random_forest_model.joblib'",
     "output_type": "error",
     "traceback": [
      "\u001B[0;31m---------------------------------------------------------------------------\u001B[0m",
      "\u001B[0;31mFileNotFoundError\u001B[0m                         Traceback (most recent call last)",
      "Cell \u001B[0;32mIn[32], line 2\u001B[0m\n\u001B[1;32m      1\u001B[0m \u001B[38;5;66;03m# Sauvegarde du modèle RandomForest\u001B[39;00m\n\u001B[0;32m----> 2\u001B[0m joblib\u001B[38;5;241m.\u001B[39mdump(model, \u001B[38;5;124m'\u001B[39m\u001B[38;5;124m/data/random_forest_model.joblib\u001B[39m\u001B[38;5;124m'\u001B[39m)\n",
      "File \u001B[0;32m~/anaconda3/lib/python3.11/site-packages/joblib/numpy_pickle.py:552\u001B[0m, in \u001B[0;36mdump\u001B[0;34m(value, filename, compress, protocol, cache_size)\u001B[0m\n\u001B[1;32m    550\u001B[0m         NumpyPickler(f, protocol\u001B[38;5;241m=\u001B[39mprotocol)\u001B[38;5;241m.\u001B[39mdump(value)\n\u001B[1;32m    551\u001B[0m \u001B[38;5;28;01melif\u001B[39;00m is_filename:\n\u001B[0;32m--> 552\u001B[0m     \u001B[38;5;28;01mwith\u001B[39;00m \u001B[38;5;28mopen\u001B[39m(filename, \u001B[38;5;124m'\u001B[39m\u001B[38;5;124mwb\u001B[39m\u001B[38;5;124m'\u001B[39m) \u001B[38;5;28;01mas\u001B[39;00m f:\n\u001B[1;32m    553\u001B[0m         NumpyPickler(f, protocol\u001B[38;5;241m=\u001B[39mprotocol)\u001B[38;5;241m.\u001B[39mdump(value)\n\u001B[1;32m    554\u001B[0m \u001B[38;5;28;01melse\u001B[39;00m:\n",
      "\u001B[0;31mFileNotFoundError\u001B[0m: [Errno 2] No such file or directory: '/data/random_forest_model.joblib'"
     ]
    }
   ],
   "source": [
    "# Sauvegarde du modèle RandomForest\n",
    "joblib.dump(model, 'random_forest_model.joblib')"
   ],
   "metadata": {
    "collapsed": false,
    "ExecuteTime": {
     "end_time": "2024-02-29T15:04:56.588589Z",
     "start_time": "2024-02-29T15:04:56.495650Z"
    }
   },
   "id": "72b95c710d8f9000",
   "execution_count": 32
  },
  {
   "cell_type": "code",
   "outputs": [],
   "source": [
    "# Charger le vectoriseur TF-IDF\n",
    "vectorizer = joblib.load('/data/tfidf_vectorizer.joblib')"
   ],
   "metadata": {
    "collapsed": false
   },
   "id": "8f4c1cd2443e24f2"
  },
  {
   "cell_type": "code",
   "outputs": [],
   "source": [
    "# Charger le modèle RandomForest\n",
    "model = joblib.load('/data/random_forest_model.joblib')"
   ],
   "metadata": {
    "collapsed": false
   },
   "id": "ae9652e4ea19f548"
  },
  {
   "cell_type": "code",
   "outputs": [],
   "source": [
    "# Nouvelle entrée d'avis\n",
    "new_review = [\"This hotel was nice and quiet. Did not know, there was train track near by. But it was only few train passed during our stay. Best Western changed hotel classification. The Plus category are not the same as before.\"]"
   ],
   "metadata": {
    "collapsed": false
   },
   "id": "3225df927c1d5a57"
  },
  {
   "cell_type": "code",
   "outputs": [],
   "source": [
    "# Transformer l'avis en utilisant le vectoriseur TF-IDF chargé\n",
    "new_review_tfidf = vectorizer.transform(new_review)"
   ],
   "metadata": {
    "collapsed": false
   },
   "id": "72d4c6daf8d1acf5"
  },
  {
   "cell_type": "code",
   "outputs": [],
   "source": [
    "# Prédire la note pour la nouvelle entrée\n",
    "predicted_note = model.predict(new_review_tfidf)"
   ],
   "metadata": {
    "collapsed": false
   },
   "id": "c55944939c397139"
  },
  {
   "cell_type": "code",
   "outputs": [],
   "source": [
    "print(\"La note prédite pour l'avis est :\", predicted_note[0])"
   ],
   "metadata": {
    "collapsed": false
   },
   "id": "7f611fca02641833"
  }
 ],
 "metadata": {
  "kernelspec": {
   "display_name": "Python 3",
   "language": "python",
   "name": "python3"
  },
  "language_info": {
   "codemirror_mode": {
    "name": "ipython",
    "version": 2
   },
   "file_extension": ".py",
   "mimetype": "text/x-python",
   "name": "python",
   "nbconvert_exporter": "python",
   "pygments_lexer": "ipython2",
   "version": "2.7.6"
  }
 },
 "nbformat": 4,
 "nbformat_minor": 5
}
